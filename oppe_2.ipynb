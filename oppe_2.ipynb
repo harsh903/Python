{
  "nbformat": 4,
  "nbformat_minor": 0,
  "metadata": {
    "colab": {
      "provenance": [],
      "authorship_tag": "ABX9TyOfqdNl4We/hvQqN18/Jf30",
      "include_colab_link": true
    },
    "kernelspec": {
      "name": "python3",
      "display_name": "Python 3"
    },
    "language_info": {
      "name": "python"
    }
  },
  "cells": [
    {
      "cell_type": "markdown",
      "metadata": {
        "id": "view-in-github",
        "colab_type": "text"
      },
      "source": [
        "<a href=\"https://colab.research.google.com/github/harsh903/Python/blob/main/oppe_2.ipynb\" target=\"_parent\"><img src=\"https://colab.research.google.com/assets/colab-badge.svg\" alt=\"Open In Colab\"/></a>"
      ]
    },
    {
      "cell_type": "markdown",
      "source": [
        "# File Handling"
      ],
      "metadata": {
        "id": "Ss5NlziIXn2p"
      }
    },
    {
      "cell_type": "markdown",
      "source": [
        "File Handling"
      ],
      "metadata": {
        "id": "G2_NXO0K4LiT"
      }
    },
    {
      "cell_type": "code",
      "source": [
        "f = open('mytext.txt','w')"
      ],
      "metadata": {
        "id": "i4zA7FLX4N4Y"
      },
      "execution_count": null,
      "outputs": []
    },
    {
      "cell_type": "code",
      "source": [
        "f.write('harsh')"
      ],
      "metadata": {
        "colab": {
          "base_uri": "https://localhost:8080/"
        },
        "id": "w-M6DDf-4N5j",
        "outputId": "a63fa3ea-2696-485a-86ad-b00d54a3edbb"
      },
      "execution_count": null,
      "outputs": [
        {
          "output_type": "execute_result",
          "data": {
            "text/plain": [
              "5"
            ]
          },
          "metadata": {},
          "execution_count": 13
        }
      ]
    },
    {
      "cell_type": "code",
      "source": [
        "f.close()"
      ],
      "metadata": {
        "id": "G2YSkcq74N9X"
      },
      "execution_count": null,
      "outputs": []
    },
    {
      "cell_type": "code",
      "source": [
        "f1 = open('mytext.txt','r')"
      ],
      "metadata": {
        "id": "w6gPNveF6Nwb"
      },
      "execution_count": null,
      "outputs": []
    },
    {
      "cell_type": "code",
      "source": [
        "s = f1.read()"
      ],
      "metadata": {
        "id": "FX2A6-jx6N2D"
      },
      "execution_count": null,
      "outputs": []
    },
    {
      "cell_type": "code",
      "source": [
        "print(s)"
      ],
      "metadata": {
        "colab": {
          "base_uri": "https://localhost:8080/"
        },
        "id": "GCj2kCu86N7Q",
        "outputId": "a40ec35f-1338-4645-e023-f663785a6b70"
      },
      "execution_count": null,
      "outputs": [
        {
          "output_type": "stream",
          "name": "stdout",
          "text": [
            "harsh\n"
          ]
        }
      ]
    },
    {
      "cell_type": "code",
      "source": [
        "f3 = open('file.txt','w')"
      ],
      "metadata": {
        "id": "mwfpNyP66zJL"
      },
      "execution_count": null,
      "outputs": []
    },
    {
      "cell_type": "code",
      "source": [
        "f3.write('This is first line')"
      ],
      "metadata": {
        "colab": {
          "base_uri": "https://localhost:8080/"
        },
        "id": "rCMO2aGq8B1F",
        "outputId": "77b81104-7603-48a0-9440-c11f69a29b5c"
      },
      "execution_count": null,
      "outputs": [
        {
          "output_type": "execute_result",
          "data": {
            "text/plain": [
              "18"
            ]
          },
          "metadata": {},
          "execution_count": 20
        }
      ]
    },
    {
      "cell_type": "code",
      "source": [
        "f3.write('\\n')"
      ],
      "metadata": {
        "colab": {
          "base_uri": "https://localhost:8080/"
        },
        "id": "CONESGUN8B4s",
        "outputId": "37162b2a-81e5-4232-a3a9-3d366d3b5180"
      },
      "execution_count": null,
      "outputs": [
        {
          "output_type": "execute_result",
          "data": {
            "text/plain": [
              "1"
            ]
          },
          "metadata": {},
          "execution_count": 21
        }
      ]
    },
    {
      "cell_type": "code",
      "source": [
        "f3.write('This is second line')"
      ],
      "metadata": {
        "colab": {
          "base_uri": "https://localhost:8080/"
        },
        "id": "w7h9Qocz8eo0",
        "outputId": "cfa1ec77-570c-4a3b-90e4-e611ea035428"
      },
      "execution_count": null,
      "outputs": [
        {
          "output_type": "execute_result",
          "data": {
            "text/plain": [
              "19"
            ]
          },
          "metadata": {},
          "execution_count": 22
        }
      ]
    },
    {
      "cell_type": "code",
      "source": [
        "f3.write('\\n')"
      ],
      "metadata": {
        "colab": {
          "base_uri": "https://localhost:8080/"
        },
        "id": "f1RcDcyM8if-",
        "outputId": "1aefb4cb-1ad1-4288-ac8f-6622ab6a9abe"
      },
      "execution_count": null,
      "outputs": [
        {
          "output_type": "execute_result",
          "data": {
            "text/plain": [
              "1"
            ]
          },
          "metadata": {},
          "execution_count": 23
        }
      ]
    },
    {
      "cell_type": "code",
      "source": [
        "f3.write('This is third line')"
      ],
      "metadata": {
        "colab": {
          "base_uri": "https://localhost:8080/"
        },
        "id": "gXOUtUYG8irJ",
        "outputId": "34964e8e-541d-41e9-b531-488362c32b10"
      },
      "execution_count": null,
      "outputs": [
        {
          "output_type": "execute_result",
          "data": {
            "text/plain": [
              "18"
            ]
          },
          "metadata": {},
          "execution_count": 24
        }
      ]
    },
    {
      "cell_type": "code",
      "source": [
        "f3.close()"
      ],
      "metadata": {
        "id": "X09tXkIJ8phf"
      },
      "execution_count": null,
      "outputs": []
    },
    {
      "cell_type": "code",
      "source": [
        "txt = \"i am harsh singh     \""
      ],
      "metadata": {
        "id": "O3GptKgYzGbX"
      },
      "execution_count": null,
      "outputs": []
    },
    {
      "cell_type": "code",
      "source": [
        "txt"
      ],
      "metadata": {
        "id": "WTZEnlsLzQfo",
        "outputId": "697edcbb-081c-4d60-a941-11c075ede993",
        "colab": {
          "base_uri": "https://localhost:8080/",
          "height": 35
        }
      },
      "execution_count": null,
      "outputs": [
        {
          "output_type": "execute_result",
          "data": {
            "text/plain": [
              "'i am harsh singh     '"
            ],
            "application/vnd.google.colaboratory.intrinsic+json": {
              "type": "string"
            }
          },
          "metadata": {},
          "execution_count": 7
        }
      ]
    },
    {
      "cell_type": "code",
      "source": [
        "x = txt.strip()"
      ],
      "metadata": {
        "id": "limYBb2rECS_"
      },
      "execution_count": null,
      "outputs": []
    },
    {
      "cell_type": "code",
      "source": [
        "x"
      ],
      "metadata": {
        "id": "2xjytnhdECUH",
        "colab": {
          "base_uri": "https://localhost:8080/",
          "height": 35
        },
        "outputId": "e5604093-92af-4f55-a9ce-46ef6e98d1e2"
      },
      "execution_count": null,
      "outputs": [
        {
          "output_type": "execute_result",
          "data": {
            "text/plain": [
              "'i am harsh singh'"
            ],
            "application/vnd.google.colaboratory.intrinsic+json": {
              "type": "string"
            }
          },
          "metadata": {},
          "execution_count": 6
        }
      ]
    },
    {
      "cell_type": "markdown",
      "source": [
        "Read method"
      ],
      "metadata": {
        "id": "04fFxvq5A5-H"
      }
    },
    {
      "cell_type": "code",
      "source": [
        "f = open(\"oppe.txt\",'r')"
      ],
      "metadata": {
        "id": "OdhLOMDq_qGH"
      },
      "execution_count": 52,
      "outputs": []
    },
    {
      "cell_type": "code",
      "source": [
        "data = f.read() # read method"
      ],
      "metadata": {
        "id": "iMy2ttsE_qJa"
      },
      "execution_count": 53,
      "outputs": []
    },
    {
      "cell_type": "code",
      "source": [
        "print(data)"
      ],
      "metadata": {
        "colab": {
          "base_uri": "https://localhost:8080/"
        },
        "id": "YFpwfCtD_qQr",
        "outputId": "c73998b4-e391-43fe-b1b1-32f067d74a47"
      },
      "execution_count": 54,
      "outputs": [
        {
          "output_type": "stream",
          "name": "stdout",
          "text": [
            "    1. Raw data is gathered from various sources that explains the business problem.\n",
            "    2. Using various statistical analysis, and machine learning approaches, data modeling is performed to get the optimum solutions that best explain the business problem.\n",
            "    3. Actionable insights that will serve as a solution for the business problems gathered through data science.\n"
          ]
        }
      ]
    },
    {
      "cell_type": "code",
      "source": [
        "f.close()"
      ],
      "metadata": {
        "id": "QRwdNvvw_qcG"
      },
      "execution_count": 55,
      "outputs": []
    },
    {
      "cell_type": "markdown",
      "source": [
        "Readlines Method"
      ],
      "metadata": {
        "id": "AfXN2gQAA9z9"
      }
    },
    {
      "cell_type": "code",
      "source": [
        "f = open(\"oppe.txt\",'r')"
      ],
      "metadata": {
        "id": "hsUB3CzdECYL"
      },
      "execution_count": 38,
      "outputs": []
    },
    {
      "cell_type": "code",
      "source": [
        "data2 = f.readlines() # readlines method"
      ],
      "metadata": {
        "id": "8MqvbSdV8-Ve"
      },
      "execution_count": 39,
      "outputs": []
    },
    {
      "cell_type": "code",
      "source": [
        "print(data2)"
      ],
      "metadata": {
        "id": "yAvbK2yEEClg",
        "colab": {
          "base_uri": "https://localhost:8080/"
        },
        "outputId": "981cb036-5036-4e11-f4c5-43f4f339f2a2"
      },
      "execution_count": 40,
      "outputs": [
        {
          "output_type": "stream",
          "name": "stdout",
          "text": [
            "['    1. Raw data is gathered from various sources that explains the business problem.\\n', '    2. Using various statistical analysis, and machine learning approaches, data modeling is performed to get the optimum solutions that best explain the business problem.\\n', '    3. Actionable insights that will serve as a solution for the business problems gathered through data science.']\n"
          ]
        }
      ]
    },
    {
      "cell_type": "code",
      "source": [
        "f.close()"
      ],
      "metadata": {
        "id": "_CDoKRsix63t"
      },
      "execution_count": 41,
      "outputs": []
    },
    {
      "cell_type": "markdown",
      "source": [
        "Readline Method"
      ],
      "metadata": {
        "id": "B-QsAesWBBJZ"
      }
    },
    {
      "cell_type": "code",
      "source": [
        "f = open(\"oppe.txt\",'r')"
      ],
      "metadata": {
        "id": "kLFAwSi2yPGi"
      },
      "execution_count": 44,
      "outputs": []
    },
    {
      "cell_type": "code",
      "source": [
        "d = f.readline()"
      ],
      "metadata": {
        "id": "hg7DrPF3yPHa"
      },
      "execution_count": 45,
      "outputs": []
    },
    {
      "cell_type": "code",
      "source": [
        "print(d)"
      ],
      "metadata": {
        "colab": {
          "base_uri": "https://localhost:8080/"
        },
        "id": "B4elUqkM_hMa",
        "outputId": "9cfa6d30-15b2-41a1-ed60-4cbfb595b723"
      },
      "execution_count": 46,
      "outputs": [
        {
          "output_type": "stream",
          "name": "stdout",
          "text": [
            "    1. Raw data is gathered from various sources that explains the business problem.\n",
            "\n"
          ]
        }
      ]
    },
    {
      "cell_type": "code",
      "source": [
        "f.close()"
      ],
      "metadata": {
        "id": "CBA93ISM_kZ1"
      },
      "execution_count": 59,
      "outputs": []
    },
    {
      "cell_type": "markdown",
      "source": [
        "Print lines using readlines method and loop"
      ],
      "metadata": {
        "id": "wiJhARiRBFFo"
      }
    },
    {
      "cell_type": "code",
      "source": [
        "f = open(\"oppe.txt\",'r')"
      ],
      "metadata": {
        "id": "EkjfsO34ATjy"
      },
      "execution_count": 83,
      "outputs": []
    },
    {
      "cell_type": "code",
      "source": [
        "d1 = f.readlines()"
      ],
      "metadata": {
        "id": "ZWoH0LLQATns"
      },
      "execution_count": 84,
      "outputs": []
    },
    {
      "cell_type": "code",
      "source": [
        "for line in d1:\n",
        "  d2 = line.strip(\"\\n\")\n",
        "  print(d2)"
      ],
      "metadata": {
        "colab": {
          "base_uri": "https://localhost:8080/"
        },
        "id": "Wz0l9EUmATrG",
        "outputId": "d91aa06f-840d-4a71-c87e-8015149dfb0b"
      },
      "execution_count": 85,
      "outputs": [
        {
          "output_type": "stream",
          "name": "stdout",
          "text": [
            "    1. Raw data is gathered from various sources that explains the business problem.\n",
            "    2. Using various statistical analysis, and machine learning approaches, data modeling is performed to get the optimum solutions that best explain the business problem.\n",
            "    3. Actionable insights that will serve as a solution for the business problems gathered through data science.\n"
          ]
        }
      ]
    },
    {
      "cell_type": "code",
      "source": [
        "f.close()"
      ],
      "metadata": {
        "id": "naC6GLmuATuR"
      },
      "execution_count": 86,
      "outputs": []
    },
    {
      "cell_type": "markdown",
      "source": [
        "Print using list and loop"
      ],
      "metadata": {
        "id": "_S7dogB6BN3H"
      }
    },
    {
      "cell_type": "code",
      "source": [
        "f = open(\"oppe.txt\",'r')"
      ],
      "metadata": {
        "id": "idKgSZpzAn52"
      },
      "execution_count": 80,
      "outputs": []
    },
    {
      "cell_type": "code",
      "source": [
        "for line in f:\n",
        "  print(line,end='')"
      ],
      "metadata": {
        "colab": {
          "base_uri": "https://localhost:8080/"
        },
        "id": "qYTjapMMAoAg",
        "outputId": "15e42d3e-9bf9-4e12-b3f4-31ef42a221f6"
      },
      "execution_count": 81,
      "outputs": [
        {
          "output_type": "stream",
          "name": "stdout",
          "text": [
            "    1. Raw data is gathered from various sources that explains the business problem.\n",
            "    2. Using various statistical analysis, and machine learning approaches, data modeling is performed to get the optimum solutions that best explain the business problem.\n",
            "    3. Actionable insights that will serve as a solution for the business problems gathered through data science."
          ]
        }
      ]
    },
    {
      "cell_type": "code",
      "source": [
        "f.close()"
      ],
      "metadata": {
        "id": "tmkPF5OZAoDi"
      },
      "execution_count": 82,
      "outputs": []
    },
    {
      "cell_type": "markdown",
      "source": [
        "Find Number of characters,words and lines in File"
      ],
      "metadata": {
        "id": "wZmE2i3HHBwz"
      }
    },
    {
      "cell_type": "code",
      "source": [
        "f = open(\"oppe.txt\",'r')"
      ],
      "metadata": {
        "id": "_xnKJgBKAoHA"
      },
      "execution_count": 88,
      "outputs": []
    },
    {
      "cell_type": "code",
      "source": [
        "no_words = 0\n",
        "no_chars = 0\n",
        "no_lines = 0"
      ],
      "metadata": {
        "id": "LY3RhkHFHglJ"
      },
      "execution_count": 89,
      "outputs": []
    },
    {
      "cell_type": "code",
      "source": [
        "for line in f:\n",
        "  line = line.strip(\"\\n\")\n",
        "  no_lines += 1\n",
        "  no_chars += len(line)\n",
        "  list1 = line.split()\n",
        "  no_words += len(list1)"
      ],
      "metadata": {
        "id": "_uAnZAD6HgoZ"
      },
      "execution_count": 90,
      "outputs": []
    },
    {
      "cell_type": "code",
      "source": [
        "f.close()"
      ],
      "metadata": {
        "id": "0cElU0OLHgrq"
      },
      "execution_count": 91,
      "outputs": []
    },
    {
      "cell_type": "code",
      "source": [
        "print(\"number of lines:\",no_lines)"
      ],
      "metadata": {
        "colab": {
          "base_uri": "https://localhost:8080/"
        },
        "id": "b_urF7QEI9hS",
        "outputId": "a61a4274-74a2-4f7e-c8b8-0eafeafafb95"
      },
      "execution_count": 99,
      "outputs": [
        {
          "output_type": "stream",
          "name": "stdout",
          "text": [
            "number of lines: 3\n"
          ]
        }
      ]
    },
    {
      "cell_type": "code",
      "source": [
        "print(\"number of words:\",no_words)"
      ],
      "metadata": {
        "colab": {
          "base_uri": "https://localhost:8080/"
        },
        "id": "r8doxBHQHgvA",
        "outputId": "ad818b7f-b5ff-4a0e-86e6-1781cfc70196"
      },
      "execution_count": 97,
      "outputs": [
        {
          "output_type": "stream",
          "name": "stdout",
          "text": [
            "number of words: 54\n"
          ]
        }
      ]
    },
    {
      "cell_type": "code",
      "source": [
        "print(\"number of characters:\",no_chars)"
      ],
      "metadata": {
        "colab": {
          "base_uri": "https://localhost:8080/"
        },
        "id": "NDwduEeYI5Lf",
        "outputId": "07ecde6c-e70e-4e83-99ef-13a4d8f53673"
      },
      "execution_count": 101,
      "outputs": [
        {
          "output_type": "stream",
          "name": "stdout",
          "text": [
            "number of characters: 368\n"
          ]
        }
      ]
    },
    {
      "cell_type": "markdown",
      "source": [
        "Copy the file1 to file2"
      ],
      "metadata": {
        "id": "7F48PiXtKJj5"
      }
    },
    {
      "cell_type": "code",
      "source": [
        "f1 = open(\"oppe.txt\",'r')"
      ],
      "metadata": {
        "id": "x7rr0AhGI5MT"
      },
      "execution_count": 110,
      "outputs": []
    },
    {
      "cell_type": "code",
      "source": [
        "f2 = open(\"oppe.txt1\",'w')"
      ],
      "metadata": {
        "id": "etUPFBW9I5U-"
      },
      "execution_count": 111,
      "outputs": []
    },
    {
      "cell_type": "code",
      "source": [
        "for line in f1:\n",
        "  f2.write(line)"
      ],
      "metadata": {
        "id": "457awDovKmt9"
      },
      "execution_count": 112,
      "outputs": []
    },
    {
      "cell_type": "code",
      "source": [
        "f1.close()\n",
        "f2.close()"
      ],
      "metadata": {
        "id": "Auonv_RjKmxi"
      },
      "execution_count": 113,
      "outputs": []
    },
    {
      "cell_type": "markdown",
      "source": [
        "writing data to a text file"
      ],
      "metadata": {
        "id": "4UhnpJciWxcu"
      }
    },
    {
      "cell_type": "code",
      "source": [
        "f = open(\"data.txt\",'w')"
      ],
      "metadata": {
        "id": "rTlw1QcVW4HI"
      },
      "execution_count": 115,
      "outputs": []
    },
    {
      "cell_type": "code",
      "source": [
        "lines_list = ['yogesh\\n','ram\\n','shantanu']"
      ],
      "metadata": {
        "id": "APk37vnOW4KR"
      },
      "execution_count": 117,
      "outputs": []
    },
    {
      "cell_type": "code",
      "source": [
        "f.writelines(lines_list)"
      ],
      "metadata": {
        "id": "BmtOIZbdW4N5"
      },
      "execution_count": 118,
      "outputs": []
    },
    {
      "cell_type": "code",
      "source": [
        "f.close()"
      ],
      "metadata": {
        "id": "1G3M-1x_XVDM"
      },
      "execution_count": 119,
      "outputs": []
    },
    {
      "cell_type": "markdown",
      "source": [
        "Question of file handling"
      ],
      "metadata": {
        "id": "eNOeLfTZpSN4"
      }
    },
    {
      "cell_type": "code",
      "source": [
        "'''Write a function named extract_lines that accepts filename as argument.\n",
        " Within the function, read the file and look for all male students who \n",
        " have scored at least 70 marks in Python. Copy these lines into a new \n",
        " file named python.csv. The entries in this file should be in the increasing \n",
        " order of sequence numbers. Also, the first line of python.csv should be the\n",
        "  header, which is same as the one in filename.'''\n",
        "\n",
        "def extract_lines(filename):\n",
        "    f = open(filename, 'r')\n",
        "    header = f.readline()\n",
        "    g = open('python.csv', 'w')\n",
        "    g.write(header)\n",
        "    for line in f:\n",
        "        L = line.strip().split(',')\n",
        "        python = int(L[4])\n",
        "        gender = L[2]\n",
        "        if gender == 'M' and python >= 70:\n",
        "            g.write(line)\n",
        "    f.close()\n",
        "    g.close()"
      ],
      "metadata": {
        "id": "EA2DdIHPpV55"
      },
      "execution_count": null,
      "outputs": []
    },
    {
      "cell_type": "code",
      "source": [
        "def count_word(filename):\n",
        "  f = open(filename,'r')\n",
        "  l = []\n",
        "  d = dict()\n",
        "  for line in f:\n",
        "    line = line.strip('\\n')\n",
        "    l.append(line)\n",
        "  for word in l:\n",
        "    if word in d:\n",
        "      d[word] = d[word] + 1\n",
        "    else:\n",
        "      d[word] = 1\n",
        "  return d\n"
      ],
      "metadata": {
        "id": "1D3uFT3spV99"
      },
      "execution_count": 128,
      "outputs": []
    },
    {
      "cell_type": "code",
      "source": [
        "count_word('grpa 1.txt')"
      ],
      "metadata": {
        "colab": {
          "base_uri": "https://localhost:8080/"
        },
        "id": "KVymqydgpWKI",
        "outputId": "5db77978-3077-49eb-fc6e-5be24dd5328a"
      },
      "execution_count": 129,
      "outputs": [
        {
          "output_type": "execute_result",
          "data": {
            "text/plain": [
              "{'good': 2, 'great': 1, 'work': 2}"
            ]
          },
          "metadata": {},
          "execution_count": 129
        }
      ]
    },
    {
      "cell_type": "markdown",
      "source": [
        "# Dictionary"
      ],
      "metadata": {
        "id": "oDSxucJIXyw3"
      }
    },
    {
      "cell_type": "code",
      "source": [
        "words = ['good','bad','best','best','best','good']\n",
        "d = dict()\n",
        "for word in words:\n",
        "  if word in d:\n",
        "    d[word] = d[word] + 1\n",
        "  else:\n",
        "    d[word] = 1\n",
        "d"
      ],
      "metadata": {
        "colab": {
          "base_uri": "https://localhost:8080/"
        },
        "id": "ysuqam7fX1ZT",
        "outputId": "d616c023-ae54-4afd-cb8e-9a114cb9eeca"
      },
      "execution_count": 122,
      "outputs": [
        {
          "output_type": "execute_result",
          "data": {
            "text/plain": [
              "{'good': 2, 'bad': 1, 'best': 3}"
            ]
          },
          "metadata": {},
          "execution_count": 122
        }
      ]
    },
    {
      "cell_type": "code",
      "source": [],
      "metadata": {
        "id": "qlH9-9CGX1cw"
      },
      "execution_count": null,
      "outputs": []
    },
    {
      "cell_type": "code",
      "source": [],
      "metadata": {
        "id": "RVzCak3GX1gL"
      },
      "execution_count": null,
      "outputs": []
    },
    {
      "cell_type": "code",
      "source": [],
      "metadata": {
        "id": "VkYg_fPmX1jH"
      },
      "execution_count": null,
      "outputs": []
    },
    {
      "cell_type": "code",
      "source": [],
      "metadata": {
        "id": "I8KnNHn1X1mK"
      },
      "execution_count": null,
      "outputs": []
    },
    {
      "cell_type": "code",
      "source": [],
      "metadata": {
        "id": "K19ACt1JX1pB"
      },
      "execution_count": null,
      "outputs": []
    },
    {
      "cell_type": "markdown",
      "source": [
        "# Matrix"
      ],
      "metadata": {
        "id": "CVDAwrX4qGY5"
      }
    },
    {
      "cell_type": "code",
      "source": [],
      "metadata": {
        "id": "6GhMHOAYqIIN"
      },
      "execution_count": null,
      "outputs": []
    },
    {
      "cell_type": "code",
      "source": [],
      "metadata": {
        "id": "cf8PqCQxqILj"
      },
      "execution_count": null,
      "outputs": []
    },
    {
      "cell_type": "code",
      "source": [],
      "metadata": {
        "id": "cnqK-vzWqIOe"
      },
      "execution_count": null,
      "outputs": []
    },
    {
      "cell_type": "code",
      "source": [],
      "metadata": {
        "id": "pCQ7abdUqIi4"
      },
      "execution_count": null,
      "outputs": []
    },
    {
      "cell_type": "code",
      "source": [],
      "metadata": {
        "id": "cv8sMJPFqImB"
      },
      "execution_count": null,
      "outputs": []
    }
  ]
}