{
  "nbformat": 4,
  "nbformat_minor": 0,
  "metadata": {
    "colab": {
      "name": "Python 2",
      "provenance": [],
      "authorship_tag": "ABX9TyMt+IFo27Ht8VnAnJj1Ixji",
      "include_colab_link": true
    },
    "kernelspec": {
      "name": "python3",
      "display_name": "Python 3"
    },
    "language_info": {
      "name": "python"
    }
  },
  "cells": [
    {
      "cell_type": "markdown",
      "metadata": {
        "id": "view-in-github",
        "colab_type": "text"
      },
      "source": [
        "<a href=\"https://colab.research.google.com/github/harsh903/Python/blob/main/Python_2.ipynb\" target=\"_parent\"><img src=\"https://colab.research.google.com/assets/colab-badge.svg\" alt=\"Open In Colab\"/></a>"
      ]
    },
    {
      "cell_type": "code",
      "metadata": {
        "id": "BEFzKdECWk8h"
      },
      "source": [
        "s = 'harshsingh'"
      ],
      "execution_count": 1,
      "outputs": []
    },
    {
      "cell_type": "code",
      "metadata": {
        "colab": {
          "base_uri": "https://localhost:8080/",
          "height": 35
        },
        "id": "jHwcBn8mWp4V",
        "outputId": "0dbd93c2-495f-43d4-cd43-ebf6629de978"
      },
      "source": [
        "s[1]"
      ],
      "execution_count": 2,
      "outputs": [
        {
          "output_type": "execute_result",
          "data": {
            "application/vnd.google.colaboratory.intrinsic+json": {
              "type": "string"
            },
            "text/plain": [
              "'a'"
            ]
          },
          "metadata": {},
          "execution_count": 2
        }
      ]
    },
    {
      "cell_type": "code",
      "metadata": {
        "colab": {
          "base_uri": "https://localhost:8080/",
          "height": 35
        },
        "id": "D1cEBh6ZW3C2",
        "outputId": "fe88840f-a6f5-41ed-b55c-2150fedf2ae6"
      },
      "source": [
        "s[0:5]"
      ],
      "execution_count": 3,
      "outputs": [
        {
          "output_type": "execute_result",
          "data": {
            "application/vnd.google.colaboratory.intrinsic+json": {
              "type": "string"
            },
            "text/plain": [
              "'harsh'"
            ]
          },
          "metadata": {},
          "execution_count": 3
        }
      ]
    },
    {
      "cell_type": "code",
      "metadata": {
        "colab": {
          "base_uri": "https://localhost:8080/",
          "height": 35
        },
        "id": "TckCAvyjW8DL",
        "outputId": "0314fe17-745c-4dd4-8418-480ce92e38ba"
      },
      "source": [
        "#slice function\n",
        "s[0:5:1]"
      ],
      "execution_count": 4,
      "outputs": [
        {
          "output_type": "execute_result",
          "data": {
            "application/vnd.google.colaboratory.intrinsic+json": {
              "type": "string"
            },
            "text/plain": [
              "'harsh'"
            ]
          },
          "metadata": {},
          "execution_count": 4
        }
      ]
    },
    {
      "cell_type": "code",
      "metadata": {
        "colab": {
          "base_uri": "https://localhost:8080/",
          "height": 35
        },
        "id": "ZGbJfV-RXaQo",
        "outputId": "c2c767bd-2b2b-4b5a-8ff0-73e3c00a216b"
      },
      "source": [
        "s[0:5:2]"
      ],
      "execution_count": 5,
      "outputs": [
        {
          "output_type": "execute_result",
          "data": {
            "application/vnd.google.colaboratory.intrinsic+json": {
              "type": "string"
            },
            "text/plain": [
              "'hrh'"
            ]
          },
          "metadata": {},
          "execution_count": 5
        }
      ]
    },
    {
      "cell_type": "code",
      "metadata": {
        "colab": {
          "base_uri": "https://localhost:8080/",
          "height": 35
        },
        "id": "kdn5HBKeXyNT",
        "outputId": "d9f8f9b4-1013-46e4-926a-31e195fb528b"
      },
      "source": [
        "s[0:-1]"
      ],
      "execution_count": 6,
      "outputs": [
        {
          "output_type": "execute_result",
          "data": {
            "application/vnd.google.colaboratory.intrinsic+json": {
              "type": "string"
            },
            "text/plain": [
              "'harshsing'"
            ]
          },
          "metadata": {},
          "execution_count": 6
        }
      ]
    },
    {
      "cell_type": "code",
      "metadata": {
        "colab": {
          "base_uri": "https://localhost:8080/",
          "height": 35
        },
        "id": "IU63Z3HIZ6T6",
        "outputId": "bce7861e-839a-41db-e727-c8e7421ae887"
      },
      "source": [
        "s[::-1]"
      ],
      "execution_count": 7,
      "outputs": [
        {
          "output_type": "execute_result",
          "data": {
            "application/vnd.google.colaboratory.intrinsic+json": {
              "type": "string"
            },
            "text/plain": [
              "'hgnishsrah'"
            ]
          },
          "metadata": {},
          "execution_count": 7
        }
      ]
    },
    {
      "cell_type": "code",
      "metadata": {
        "colab": {
          "base_uri": "https://localhost:8080/"
        },
        "id": "VecGLiMybLb8",
        "outputId": "53448443-f323-4f46-a06d-b90aa7961cd3"
      },
      "source": [
        "#condition \n",
        "i = 10\n",
        "if i > 5:\n",
        "  print('this is true')"
      ],
      "execution_count": 8,
      "outputs": [
        {
          "output_type": "stream",
          "text": [
            "this is true\n"
          ],
          "name": "stdout"
        }
      ]
    },
    {
      "cell_type": "code",
      "metadata": {
        "id": "zpm_bjFKyRW1"
      },
      "source": [
        "# this is not printing because condition not satisfied\n",
        "i = 10\n",
        "if i < 5:\n",
        "  print('this is true')"
      ],
      "execution_count": 9,
      "outputs": []
    },
    {
      "cell_type": "code",
      "metadata": {
        "colab": {
          "base_uri": "https://localhost:8080/"
        },
        "id": "cPADeL3DyWld",
        "outputId": "d0830c2e-e58c-436f-fb91-7e69078d14c1"
      },
      "source": [
        "# multiple condition\n",
        "i = 10\n",
        "if i < 5:\n",
        "  print('this is true1')\n",
        "elif i == 10:\n",
        "  print('this is also true2')"
      ],
      "execution_count": 10,
      "outputs": [
        {
          "output_type": "stream",
          "text": [
            "this is also true2\n"
          ],
          "name": "stdout"
        }
      ]
    },
    {
      "cell_type": "code",
      "metadata": {
        "colab": {
          "base_uri": "https://localhost:8080/"
        },
        "id": "l4Ybt9ci0UiF",
        "outputId": "ffd99183-f3fd-4144-910b-010d5320da52"
      },
      "source": [
        "i = 10\n",
        "if i < 5:\n",
        "  print('this is true')\n",
        "else:\n",
        "  print('this is false')"
      ],
      "execution_count": 11,
      "outputs": [
        {
          "output_type": "stream",
          "text": [
            "this is false\n"
          ],
          "name": "stdout"
        }
      ]
    },
    {
      "cell_type": "code",
      "metadata": {
        "colab": {
          "base_uri": "https://localhost:8080/"
        },
        "id": "0xr7HAkY05zc",
        "outputId": "c1ed3c43-913b-4c10-de79-88fd8b961190"
      },
      "source": [
        "i = 10\n",
        "if i > 5:\n",
        "  print('this is true')\n",
        "else:\n",
        "  print('this is false')"
      ],
      "execution_count": 12,
      "outputs": [
        {
          "output_type": "stream",
          "text": [
            "this is true\n"
          ],
          "name": "stdout"
        }
      ]
    },
    {
      "cell_type": "code",
      "metadata": {
        "colab": {
          "base_uri": "https://localhost:8080/"
        },
        "id": "99Tdx7ky09op",
        "outputId": "f4749827-ec43-4ff1-9185-8f8550319e99"
      },
      "source": [
        "i = 10\n",
        "s = 'harsh'\n",
        "if i==10:\n",
        "  if type(s)==str:\n",
        "    print('this is my name')\n",
        "  else:\n",
        "    print('this is not my name')\n",
        "else:\n",
        "  print('this is default condition')\n"
      ],
      "execution_count": 13,
      "outputs": [
        {
          "output_type": "stream",
          "text": [
            "this is my name\n"
          ],
          "name": "stdout"
        }
      ]
    },
    {
      "cell_type": "code",
      "metadata": {
        "colab": {
          "base_uri": "https://localhost:8080/"
        },
        "id": "GNQfyB6H2xfC",
        "outputId": "4040ac3f-afbd-4b1b-d3b7-52ac4dcdc86b"
      },
      "source": [
        "i = 10\n",
        "s = 'harsh'\n",
        "if i==10:\n",
        "  if type(s)==int:\n",
        "    print('this is my name')\n",
        "  else:\n",
        "    print('this is not my name')\n",
        "else:\n",
        "  print('this is default condition')"
      ],
      "execution_count": 14,
      "outputs": [
        {
          "output_type": "stream",
          "text": [
            "this is not my name\n"
          ],
          "name": "stdout"
        }
      ]
    },
    {
      "cell_type": "code",
      "metadata": {
        "colab": {
          "base_uri": "https://localhost:8080/"
        },
        "id": "sTROdfcT6jGN",
        "outputId": "ec432912-37e5-40e2-fb02-c9db37aadb6b"
      },
      "source": [
        "l = [1,2,3,4,5,6,'harsh','singh']\n",
        "l"
      ],
      "execution_count": 15,
      "outputs": [
        {
          "output_type": "execute_result",
          "data": {
            "text/plain": [
              "[1, 2, 3, 4, 5, 6, 'harsh', 'singh']"
            ]
          },
          "metadata": {},
          "execution_count": 15
        }
      ]
    },
    {
      "cell_type": "code",
      "metadata": {
        "id": "Y6fePIrp3BYs"
      },
      "source": [
        "#list\n",
        "m = []\n",
        "for i  in l:\n",
        "  if type (i)==int:\n",
        "    m.append(i)"
      ],
      "execution_count": 16,
      "outputs": []
    },
    {
      "cell_type": "code",
      "metadata": {
        "colab": {
          "base_uri": "https://localhost:8080/"
        },
        "id": "MTc5HPDV67km",
        "outputId": "05927371-fd19-4bcf-8142-c1d37d36e495"
      },
      "source": [
        "m"
      ],
      "execution_count": 17,
      "outputs": [
        {
          "output_type": "execute_result",
          "data": {
            "text/plain": [
              "[1, 2, 3, 4, 5, 6]"
            ]
          },
          "metadata": {},
          "execution_count": 17
        }
      ]
    },
    {
      "cell_type": "code",
      "metadata": {
        "id": "7oh7cERI68-3"
      },
      "source": [
        "#list\n",
        "m = []\n",
        "for i  in l:\n",
        "  if type (i)==str:\n",
        "    m.append(i)"
      ],
      "execution_count": 18,
      "outputs": []
    },
    {
      "cell_type": "code",
      "metadata": {
        "colab": {
          "base_uri": "https://localhost:8080/"
        },
        "id": "m8u1aSi07YEL",
        "outputId": "02963598-aca8-49e0-e6ab-702f5abe0e68"
      },
      "source": [
        "m"
      ],
      "execution_count": 19,
      "outputs": [
        {
          "output_type": "execute_result",
          "data": {
            "text/plain": [
              "['harsh', 'singh']"
            ]
          },
          "metadata": {},
          "execution_count": 19
        }
      ]
    },
    {
      "cell_type": "code",
      "metadata": {
        "id": "75XJjNLL7aOh"
      },
      "source": [
        "m = []\n",
        "for i  in l:\n",
        "  if type (i)==int:\n",
        "    m.append(i/2)"
      ],
      "execution_count": 20,
      "outputs": []
    },
    {
      "cell_type": "code",
      "metadata": {
        "colab": {
          "base_uri": "https://localhost:8080/"
        },
        "id": "MSIv-64z70VP",
        "outputId": "ebbd6e18-7f16-4d44-f565-83fd441e9da4"
      },
      "source": [
        "m"
      ],
      "execution_count": 21,
      "outputs": [
        {
          "output_type": "execute_result",
          "data": {
            "text/plain": [
              "[0.5, 1.0, 1.5, 2.0, 2.5, 3.0]"
            ]
          },
          "metadata": {},
          "execution_count": 21
        }
      ]
    },
    {
      "cell_type": "code",
      "metadata": {
        "colab": {
          "base_uri": "https://localhost:8080/"
        },
        "id": "4SDee5XJ71Kl",
        "outputId": "7f0d1872-7bab-4f1c-b222-73c8c522cb3f"
      },
      "source": [
        "b = []\n",
        "for i  in l:\n",
        "  if type (i)==int:\n",
        "    i=i+i\n",
        "    print(i)"
      ],
      "execution_count": 22,
      "outputs": [
        {
          "output_type": "stream",
          "text": [
            "2\n",
            "4\n",
            "6\n",
            "8\n",
            "10\n",
            "12\n"
          ],
          "name": "stdout"
        }
      ]
    },
    {
      "cell_type": "code",
      "metadata": {
        "colab": {
          "base_uri": "https://localhost:8080/"
        },
        "id": "vOi3qcEyC55K",
        "outputId": "a56eedde-b9b6-4634-fb0d-5f6adffce7ac"
      },
      "source": [
        "for i in \"harsh\":\n",
        "  print(i)"
      ],
      "execution_count": 23,
      "outputs": [
        {
          "output_type": "stream",
          "text": [
            "h\n",
            "a\n",
            "r\n",
            "s\n",
            "h\n"
          ],
          "name": "stdout"
        }
      ]
    },
    {
      "cell_type": "code",
      "metadata": {
        "colab": {
          "base_uri": "https://localhost:8080/"
        },
        "id": "FM2YWB0uDxDG",
        "outputId": "1d8844ca-e4b5-4b5a-e304-7a12e8383cd3"
      },
      "source": [
        "s = \"HARSH SINGH\"\n",
        "for i in s:\n",
        "  if i == \"S\":\n",
        "      continue\n",
        "  print(i)"
      ],
      "execution_count": 24,
      "outputs": [
        {
          "output_type": "stream",
          "text": [
            "H\n",
            "A\n",
            "R\n",
            "H\n",
            " \n",
            "I\n",
            "N\n",
            "G\n",
            "H\n"
          ],
          "name": "stdout"
        }
      ]
    },
    {
      "cell_type": "code",
      "metadata": {
        "colab": {
          "base_uri": "https://localhost:8080/"
        },
        "id": "ag_lqsJTK9x6",
        "outputId": "88713fca-13fc-4f3f-ae8b-d12cd48433a8"
      },
      "source": [
        "list(range(5))"
      ],
      "execution_count": 25,
      "outputs": [
        {
          "output_type": "execute_result",
          "data": {
            "text/plain": [
              "[0, 1, 2, 3, 4]"
            ]
          },
          "metadata": {},
          "execution_count": 25
        }
      ]
    },
    {
      "cell_type": "code",
      "metadata": {
        "colab": {
          "base_uri": "https://localhost:8080/"
        },
        "id": "u-uLXPVlMOmF",
        "outputId": "45eb742e-4829-40e5-84e0-77180e75d14c"
      },
      "source": [
        "list(range(4,9))"
      ],
      "execution_count": 26,
      "outputs": [
        {
          "output_type": "execute_result",
          "data": {
            "text/plain": [
              "[4, 5, 6, 7, 8]"
            ]
          },
          "metadata": {},
          "execution_count": 26
        }
      ]
    },
    {
      "cell_type": "code",
      "metadata": {
        "colab": {
          "base_uri": "https://localhost:8080/"
        },
        "id": "sfGrBRzDMiLB",
        "outputId": "59cdf51f-e2cd-44ca-ed4f-fa0567d7559e"
      },
      "source": [
        "list(range(4,9,2))"
      ],
      "execution_count": 27,
      "outputs": [
        {
          "output_type": "execute_result",
          "data": {
            "text/plain": [
              "[4, 6, 8]"
            ]
          },
          "metadata": {},
          "execution_count": 27
        }
      ]
    },
    {
      "cell_type": "code",
      "metadata": {
        "id": "X5HhvphKOCBT"
      },
      "source": [
        "l = [4,6,8]"
      ],
      "execution_count": 28,
      "outputs": []
    },
    {
      "cell_type": "code",
      "metadata": {
        "id": "03qaJNrNOkQi",
        "colab": {
          "base_uri": "https://localhost:8080/",
          "height": 52
        },
        "outputId": "f07e468c-05ea-4991-9fd1-6c312cfafc21"
      },
      "source": [
        "# input function always give string\n",
        "input()"
      ],
      "execution_count": 31,
      "outputs": [
        {
          "output_type": "stream",
          "text": [
            "df\n"
          ],
          "name": "stdout"
        },
        {
          "output_type": "execute_result",
          "data": {
            "application/vnd.google.colaboratory.intrinsic+json": {
              "type": "string"
            },
            "text/plain": [
              "'df'"
            ]
          },
          "metadata": {},
          "execution_count": 31
        }
      ]
    },
    {
      "cell_type": "code",
      "metadata": {
        "colab": {
          "base_uri": "https://localhost:8080/"
        },
        "id": "pWP9dfSphBMj",
        "outputId": "25d199e9-1b67-4059-a206-c59a7e62bce1"
      },
      "source": [
        "a = int(input(\"my name is harsh and my is \"))\n",
        "type(a)"
      ],
      "execution_count": 109,
      "outputs": [
        {
          "output_type": "stream",
          "text": [
            "my name is harsh and my is 19\n"
          ],
          "name": "stdout"
        },
        {
          "output_type": "execute_result",
          "data": {
            "text/plain": [
              "int"
            ]
          },
          "metadata": {},
          "execution_count": 109
        }
      ]
    },
    {
      "cell_type": "code",
      "metadata": {
        "colab": {
          "base_uri": "https://localhost:8080/",
          "height": 35
        },
        "id": "IPB3i62RhMUq",
        "outputId": "40900993-b186-40b0-e86e-c090a76981c5"
      },
      "source": [
        "\"harsh\" + \" singh\""
      ],
      "execution_count": 110,
      "outputs": [
        {
          "output_type": "execute_result",
          "data": {
            "application/vnd.google.colaboratory.intrinsic+json": {
              "type": "string"
            },
            "text/plain": [
              "'harsh singh'"
            ]
          },
          "metadata": {},
          "execution_count": 110
        }
      ]
    },
    {
      "cell_type": "code",
      "metadata": {
        "colab": {
          "base_uri": "https://localhost:8080/",
          "height": 180
        },
        "id": "XUZ1PhB6iElm",
        "outputId": "18dc548b-06cd-4f32-8b5c-ff390271b2fd"
      },
      "source": [
        "# same datatype concatenate\n",
        "\"harsh\" + 4"
      ],
      "execution_count": 36,
      "outputs": [
        {
          "output_type": "error",
          "ename": "TypeError",
          "evalue": "ignored",
          "traceback": [
            "\u001b[0;31m---------------------------------------------------------------------------\u001b[0m",
            "\u001b[0;31mTypeError\u001b[0m                                 Traceback (most recent call last)",
            "\u001b[0;32m<ipython-input-36-14db10416eec>\u001b[0m in \u001b[0;36m<module>\u001b[0;34m()\u001b[0m\n\u001b[1;32m      1\u001b[0m \u001b[0;31m# same datatype concatenate\u001b[0m\u001b[0;34m\u001b[0m\u001b[0;34m\u001b[0m\u001b[0;34m\u001b[0m\u001b[0m\n\u001b[0;32m----> 2\u001b[0;31m \u001b[0;34m\"harsh\"\u001b[0m \u001b[0;34m+\u001b[0m \u001b[0;36m4\u001b[0m\u001b[0;34m\u001b[0m\u001b[0;34m\u001b[0m\u001b[0m\n\u001b[0m",
            "\u001b[0;31mTypeError\u001b[0m: can only concatenate str (not \"int\") to str"
          ]
        }
      ]
    },
    {
      "cell_type": "code",
      "metadata": {
        "colab": {
          "base_uri": "https://localhost:8080/",
          "height": 35
        },
        "id": "2KaeDoTGiUjr",
        "outputId": "1427c6bb-0e65-4771-df45-207ce930a648"
      },
      "source": [
        "\"harsh\" + str(4) "
      ],
      "execution_count": 37,
      "outputs": [
        {
          "output_type": "execute_result",
          "data": {
            "application/vnd.google.colaboratory.intrinsic+json": {
              "type": "string"
            },
            "text/plain": [
              "'harsh4'"
            ]
          },
          "metadata": {},
          "execution_count": 37
        }
      ]
    },
    {
      "cell_type": "code",
      "metadata": {
        "id": "-IO3eGYnikaJ"
      },
      "source": [
        "s = \"harsh singh\""
      ],
      "execution_count": 38,
      "outputs": []
    },
    {
      "cell_type": "code",
      "metadata": {
        "id": "KB0MeVKen_PV"
      },
      "source": [
        "s=s.upper()"
      ],
      "execution_count": 39,
      "outputs": []
    },
    {
      "cell_type": "code",
      "metadata": {
        "colab": {
          "base_uri": "https://localhost:8080/",
          "height": 35
        },
        "id": "EvfFIcj4oFhz",
        "outputId": "90315264-96ef-4fa6-918e-fd8da20ab0c0"
      },
      "source": [
        "s"
      ],
      "execution_count": 40,
      "outputs": [
        {
          "output_type": "execute_result",
          "data": {
            "application/vnd.google.colaboratory.intrinsic+json": {
              "type": "string"
            },
            "text/plain": [
              "'HARSH SINGH'"
            ]
          },
          "metadata": {},
          "execution_count": 40
        }
      ]
    },
    {
      "cell_type": "code",
      "metadata": {
        "id": "KCNiKF1poGry"
      },
      "source": [
        "s=s.lower()"
      ],
      "execution_count": 41,
      "outputs": []
    },
    {
      "cell_type": "code",
      "metadata": {
        "colab": {
          "base_uri": "https://localhost:8080/",
          "height": 35
        },
        "id": "Uycwu_uBoLW3",
        "outputId": "39cd5462-4181-442c-fbc7-05e63aea4c71"
      },
      "source": [
        "s"
      ],
      "execution_count": 42,
      "outputs": [
        {
          "output_type": "execute_result",
          "data": {
            "application/vnd.google.colaboratory.intrinsic+json": {
              "type": "string"
            },
            "text/plain": [
              "'harsh singh'"
            ]
          },
          "metadata": {},
          "execution_count": 42
        }
      ]
    },
    {
      "cell_type": "code",
      "metadata": {
        "id": "HkfmryljoMQq"
      },
      "source": [
        "i = \"my name is harsh\""
      ],
      "execution_count": 43,
      "outputs": []
    },
    {
      "cell_type": "code",
      "metadata": {
        "colab": {
          "base_uri": "https://localhost:8080/"
        },
        "id": "pu10ATePohG-",
        "outputId": "3241e4c7-f746-49a1-c56f-645f1fd1f5da"
      },
      "source": [
        "i.split()"
      ],
      "execution_count": 44,
      "outputs": [
        {
          "output_type": "execute_result",
          "data": {
            "text/plain": [
              "['my', 'name', 'is', 'harsh']"
            ]
          },
          "metadata": {},
          "execution_count": 44
        }
      ]
    },
    {
      "cell_type": "code",
      "metadata": {
        "colab": {
          "base_uri": "https://localhost:8080/",
          "height": 35
        },
        "id": "5w5-q0MhokTz",
        "outputId": "bd34da5a-bd31-41e5-bd2c-38ea66993aaf"
      },
      "source": [
        "\"my name is {} .my age is {}\" .format(\"harsh\",19)"
      ],
      "execution_count": 45,
      "outputs": [
        {
          "output_type": "execute_result",
          "data": {
            "application/vnd.google.colaboratory.intrinsic+json": {
              "type": "string"
            },
            "text/plain": [
              "'my name is harsh .my age is 19'"
            ]
          },
          "metadata": {},
          "execution_count": 45
        }
      ]
    },
    {
      "cell_type": "code",
      "metadata": {
        "id": "8k1codHVl9da"
      },
      "source": [
        "s = \"My name is\""
      ],
      "execution_count": 46,
      "outputs": []
    },
    {
      "cell_type": "code",
      "metadata": {
        "colab": {
          "base_uri": "https://localhost:8080/"
        },
        "id": "eF-wEqmDmQ6_",
        "outputId": "1ccf38ec-3303-48d1-b61c-ff2d0caef467"
      },
      "source": [
        "#find the position \n",
        "s.find('i')"
      ],
      "execution_count": 47,
      "outputs": [
        {
          "output_type": "execute_result",
          "data": {
            "text/plain": [
              "8"
            ]
          },
          "metadata": {},
          "execution_count": 47
        }
      ]
    },
    {
      "cell_type": "code",
      "metadata": {
        "colab": {
          "base_uri": "https://localhost:8080/"
        },
        "id": "v2Fs2TbxmU_G",
        "outputId": "cbb8ad6e-71f4-4abb-9276-de8f60fe9f38"
      },
      "source": [
        "#find the position all of h\n",
        "strl = \"hello world\"\n",
        "l = []\n",
        "l1 = []\n",
        "for i in range(len(strl)):\n",
        "  if strl[i]=='l':\n",
        "    l.append(i)\n",
        "    l1.append(strl[i])\n",
        "print(l,l1,sep='\\n')"
      ],
      "execution_count": 48,
      "outputs": [
        {
          "output_type": "stream",
          "text": [
            "[2, 3, 9]\n",
            "['l', 'l', 'l']\n"
          ],
          "name": "stdout"
        }
      ]
    },
    {
      "cell_type": "code",
      "metadata": {
        "id": "LBZBhnyHpoh1"
      },
      "source": [
        "#boolean function\n",
        "s=\"harsh\""
      ],
      "execution_count": 49,
      "outputs": []
    },
    {
      "cell_type": "code",
      "metadata": {
        "colab": {
          "base_uri": "https://localhost:8080/",
          "height": 35
        },
        "id": "sMRYDaUb9RTH",
        "outputId": "fc6efecd-a2a3-48cf-ea4c-4633a9f41d51"
      },
      "source": [
        "s.center(20,'k')"
      ],
      "execution_count": 50,
      "outputs": [
        {
          "output_type": "execute_result",
          "data": {
            "application/vnd.google.colaboratory.intrinsic+json": {
              "type": "string"
            },
            "text/plain": [
              "'kkkkkkkharshkkkkkkkk'"
            ]
          },
          "metadata": {},
          "execution_count": 50
        }
      ]
    },
    {
      "cell_type": "code",
      "metadata": {
        "colab": {
          "base_uri": "https://localhost:8080/"
        },
        "id": "irJmmLtm9XiS",
        "outputId": "9ed48836-0efe-4cb4-e962-1ad60411a09b"
      },
      "source": [
        "s.isalnum()"
      ],
      "execution_count": 51,
      "outputs": [
        {
          "output_type": "execute_result",
          "data": {
            "text/plain": [
              "True"
            ]
          },
          "metadata": {},
          "execution_count": 51
        }
      ]
    },
    {
      "cell_type": "code",
      "metadata": {
        "colab": {
          "base_uri": "https://localhost:8080/"
        },
        "id": "jZnZzNZ_9k0_",
        "outputId": "f6b701eb-3bfc-428a-c18d-a705054e409e"
      },
      "source": [
        "s.isalpha()"
      ],
      "execution_count": 52,
      "outputs": [
        {
          "output_type": "execute_result",
          "data": {
            "text/plain": [
              "True"
            ]
          },
          "metadata": {},
          "execution_count": 52
        }
      ]
    },
    {
      "cell_type": "code",
      "metadata": {
        "colab": {
          "base_uri": "https://localhost:8080/"
        },
        "id": "W0GEx3PP93a5",
        "outputId": "05c1db2d-de50-4612-acb6-d5cff765c978"
      },
      "source": [
        "s.isnumeric()"
      ],
      "execution_count": 53,
      "outputs": [
        {
          "output_type": "execute_result",
          "data": {
            "text/plain": [
              "False"
            ]
          },
          "metadata": {},
          "execution_count": 53
        }
      ]
    },
    {
      "cell_type": "code",
      "metadata": {
        "colab": {
          "base_uri": "https://localhost:8080/"
        },
        "id": "seKS7nyU98lx",
        "outputId": "70a1c936-bad6-4eef-8d1e-7c69ad95b919"
      },
      "source": [
        "s.islower()"
      ],
      "execution_count": 54,
      "outputs": [
        {
          "output_type": "execute_result",
          "data": {
            "text/plain": [
              "True"
            ]
          },
          "metadata": {},
          "execution_count": 54
        }
      ]
    },
    {
      "cell_type": "code",
      "metadata": {
        "colab": {
          "base_uri": "https://localhost:8080/"
        },
        "id": "9e2HnZk4-Cji",
        "outputId": "3e476dd7-c8a3-427e-9f22-64d7d1743d8a"
      },
      "source": [
        "s.isspace()"
      ],
      "execution_count": 55,
      "outputs": [
        {
          "output_type": "execute_result",
          "data": {
            "text/plain": [
              "False"
            ]
          },
          "metadata": {},
          "execution_count": 55
        }
      ]
    },
    {
      "cell_type": "code",
      "metadata": {
        "colab": {
          "base_uri": "https://localhost:8080/"
        },
        "id": "bt7g9LZN-HP6",
        "outputId": "6a1fd8e0-662f-4e7c-a6fa-2e9302bc2402"
      },
      "source": [
        "s.isupper()"
      ],
      "execution_count": 56,
      "outputs": [
        {
          "output_type": "execute_result",
          "data": {
            "text/plain": [
              "False"
            ]
          },
          "metadata": {},
          "execution_count": 56
        }
      ]
    },
    {
      "cell_type": "code",
      "metadata": {
        "colab": {
          "base_uri": "https://localhost:8080/"
        },
        "id": "c8RM0rzd-OUl",
        "outputId": "af647a15-d1a8-48a6-c63c-1dcd42aed700"
      },
      "source": [
        "s.istitle()"
      ],
      "execution_count": 57,
      "outputs": [
        {
          "output_type": "execute_result",
          "data": {
            "text/plain": [
              "False"
            ]
          },
          "metadata": {},
          "execution_count": 57
        }
      ]
    },
    {
      "cell_type": "code",
      "metadata": {
        "colab": {
          "base_uri": "https://localhost:8080/",
          "height": 35
        },
        "id": "4S-GJgZB-lmi",
        "outputId": "1764b5f1-ceac-4244-f165-6a93572585d2"
      },
      "source": [
        "#multiple function\n",
        "\" harsh \" *4"
      ],
      "execution_count": 58,
      "outputs": [
        {
          "output_type": "execute_result",
          "data": {
            "application/vnd.google.colaboratory.intrinsic+json": {
              "type": "string"
            },
            "text/plain": [
              "' harsh  harsh  harsh  harsh '"
            ]
          },
          "metadata": {},
          "execution_count": 58
        }
      ]
    },
    {
      "cell_type": "code",
      "metadata": {
        "colab": {
          "base_uri": "https://localhost:8080/"
        },
        "id": "6hUdRhVt-4pZ",
        "outputId": "180bbe18-524d-487e-dd5e-0c7565b362dd"
      },
      "source": [
        "[2,3,4]*4"
      ],
      "execution_count": 59,
      "outputs": [
        {
          "output_type": "execute_result",
          "data": {
            "text/plain": [
              "[2, 3, 4, 2, 3, 4, 2, 3, 4, 2, 3, 4]"
            ]
          },
          "metadata": {},
          "execution_count": 59
        }
      ]
    },
    {
      "cell_type": "code",
      "metadata": {
        "id": "PXx5AyNa_JRK"
      },
      "source": [
        "# append function (for addition)\n",
        "l =[1,2,3,4,5,6,7,8]"
      ],
      "execution_count": 60,
      "outputs": []
    },
    {
      "cell_type": "code",
      "metadata": {
        "id": "jDBbgkt2_jpx"
      },
      "source": [
        "\n",
        "l.append(\"harsh\")"
      ],
      "execution_count": 61,
      "outputs": []
    },
    {
      "cell_type": "code",
      "metadata": {
        "colab": {
          "base_uri": "https://localhost:8080/"
        },
        "id": "FMAm7Ti5_qTX",
        "outputId": "1cdda65e-6c9d-4b8b-96e3-2af8c83bf750"
      },
      "source": [
        "\n",
        "l"
      ],
      "execution_count": 62,
      "outputs": [
        {
          "output_type": "execute_result",
          "data": {
            "text/plain": [
              "[1, 2, 3, 4, 5, 6, 7, 8, 'harsh']"
            ]
          },
          "metadata": {},
          "execution_count": 62
        }
      ]
    },
    {
      "cell_type": "code",
      "metadata": {
        "id": "82CN-RsG_wNi"
      },
      "source": [
        "# insert we provide position for addition\n",
        "l.insert(3,\"singh\")"
      ],
      "execution_count": 63,
      "outputs": []
    },
    {
      "cell_type": "code",
      "metadata": {
        "colab": {
          "base_uri": "https://localhost:8080/"
        },
        "id": "UvW3tpQ4AMyV",
        "outputId": "32be4fcc-704d-424b-d141-642d764e5b5f"
      },
      "source": [
        "l"
      ],
      "execution_count": 64,
      "outputs": [
        {
          "output_type": "execute_result",
          "data": {
            "text/plain": [
              "[1, 2, 3, 'singh', 4, 5, 6, 7, 8, 'harsh']"
            ]
          },
          "metadata": {},
          "execution_count": 64
        }
      ]
    },
    {
      "cell_type": "code",
      "metadata": {
        "colab": {
          "base_uri": "https://localhost:8080/",
          "height": 35
        },
        "id": "sdWUl4RZAOOF",
        "outputId": "8b357067-1b18-4642-84af-1d2789e9c951"
      },
      "source": [
        "# pop function to remove data\n",
        "l.pop(3)"
      ],
      "execution_count": 65,
      "outputs": [
        {
          "output_type": "execute_result",
          "data": {
            "application/vnd.google.colaboratory.intrinsic+json": {
              "type": "string"
            },
            "text/plain": [
              "'singh'"
            ]
          },
          "metadata": {},
          "execution_count": 65
        }
      ]
    },
    {
      "cell_type": "code",
      "metadata": {
        "colab": {
          "base_uri": "https://localhost:8080/"
        },
        "id": "IHrSdAauBZk_",
        "outputId": "bd402ecc-78d2-4911-96b4-5665f7907f1e"
      },
      "source": [
        "l"
      ],
      "execution_count": 66,
      "outputs": [
        {
          "output_type": "execute_result",
          "data": {
            "text/plain": [
              "[1, 2, 3, 4, 5, 6, 7, 8, 'harsh']"
            ]
          },
          "metadata": {},
          "execution_count": 66
        }
      ]
    },
    {
      "cell_type": "code",
      "metadata": {
        "colab": {
          "base_uri": "https://localhost:8080/"
        },
        "id": "JD0Kmv_6Be9j",
        "outputId": "7f517039-ad29-481d-c246-5412bcbdc4a4"
      },
      "source": [
        "# reverse the data temporarily\n",
        "l[::-1]"
      ],
      "execution_count": 67,
      "outputs": [
        {
          "output_type": "execute_result",
          "data": {
            "text/plain": [
              "['harsh', 8, 7, 6, 5, 4, 3, 2, 1]"
            ]
          },
          "metadata": {},
          "execution_count": 67
        }
      ]
    },
    {
      "cell_type": "code",
      "metadata": {
        "colab": {
          "base_uri": "https://localhost:8080/"
        },
        "id": "KqI-IdPpCLky",
        "outputId": "69742a30-2d0a-476b-f18d-20896bca1243"
      },
      "source": [
        "l"
      ],
      "execution_count": 68,
      "outputs": [
        {
          "output_type": "execute_result",
          "data": {
            "text/plain": [
              "[1, 2, 3, 4, 5, 6, 7, 8, 'harsh']"
            ]
          },
          "metadata": {},
          "execution_count": 68
        }
      ]
    },
    {
      "cell_type": "code",
      "metadata": {
        "colab": {
          "base_uri": "https://localhost:8080/"
        },
        "id": "_2pdWpCQB72Y",
        "outputId": "9ee73839-dd1a-4ccb-a7c2-cdbe20b7c4df"
      },
      "source": [
        "# reverse permanently\n",
        "l.reverse()\n",
        "l"
      ],
      "execution_count": 69,
      "outputs": [
        {
          "output_type": "execute_result",
          "data": {
            "text/plain": [
              "['harsh', 8, 7, 6, 5, 4, 3, 2, 1]"
            ]
          },
          "metadata": {},
          "execution_count": 69
        }
      ]
    },
    {
      "cell_type": "code",
      "metadata": {
        "id": "p11XFoE-B_Vo"
      },
      "source": [
        "l =[1,3,2,5,9,6,7,10]"
      ],
      "execution_count": 70,
      "outputs": []
    },
    {
      "cell_type": "code",
      "metadata": {
        "colab": {
          "base_uri": "https://localhost:8080/"
        },
        "id": "_XmBrsB5CnNP",
        "outputId": "89877d84-db68-4a69-c651-6113b8730a92"
      },
      "source": [
        "#sorting function\n",
        "l.sort()\n",
        "l"
      ],
      "execution_count": 71,
      "outputs": [
        {
          "output_type": "execute_result",
          "data": {
            "text/plain": [
              "[1, 2, 3, 5, 6, 7, 9, 10]"
            ]
          },
          "metadata": {},
          "execution_count": 71
        }
      ]
    },
    {
      "cell_type": "code",
      "metadata": {
        "colab": {
          "base_uri": "https://localhost:8080/"
        },
        "id": "rLqoL05QCpgy",
        "outputId": "4041d02d-245c-4bd7-f183-cabf98bcfa44"
      },
      "source": [
        "sl =['my', 'name', 'is', 'harsh' ,'my', 'age','is']\n",
        "sl.sort()\n",
        "sl"
      ],
      "execution_count": 72,
      "outputs": [
        {
          "output_type": "execute_result",
          "data": {
            "text/plain": [
              "['age', 'harsh', 'is', 'is', 'my', 'my', 'name']"
            ]
          },
          "metadata": {},
          "execution_count": 72
        }
      ]
    },
    {
      "cell_type": "code",
      "metadata": {
        "id": "T1lnVTYGDQye"
      },
      "source": [
        "# list in list\n",
        "l1=[1,2,3]\n",
        "l2=[4,5,6]\n",
        "l3=[7,8,9]"
      ],
      "execution_count": 73,
      "outputs": []
    },
    {
      "cell_type": "code",
      "metadata": {
        "id": "f9_65X-pD50E"
      },
      "source": [
        "l=[l1,l2,l3]"
      ],
      "execution_count": 74,
      "outputs": []
    },
    {
      "cell_type": "code",
      "metadata": {
        "colab": {
          "base_uri": "https://localhost:8080/"
        },
        "id": "_FRV_-3XD_1l",
        "outputId": "c02d942b-e881-47ed-8116-524e23585ba4"
      },
      "source": [
        "l"
      ],
      "execution_count": 75,
      "outputs": [
        {
          "output_type": "execute_result",
          "data": {
            "text/plain": [
              "[[1, 2, 3], [4, 5, 6], [7, 8, 9]]"
            ]
          },
          "metadata": {},
          "execution_count": 75
        }
      ]
    },
    {
      "cell_type": "code",
      "metadata": {
        "id": "b5rk4rWVEApy"
      },
      "source": [
        "# to get position based number\n",
        "n = []\n",
        "for lis in l:\n",
        "  n.append(lis[2])"
      ],
      "execution_count": 76,
      "outputs": []
    },
    {
      "cell_type": "code",
      "metadata": {
        "colab": {
          "base_uri": "https://localhost:8080/"
        },
        "id": "SLTRgbRJFEzN",
        "outputId": "4e26ca74-f483-4944-ed8c-1ac7283f26dc"
      },
      "source": [
        "n"
      ],
      "execution_count": 77,
      "outputs": [
        {
          "output_type": "execute_result",
          "data": {
            "text/plain": [
              "[3, 6, 9]"
            ]
          },
          "metadata": {},
          "execution_count": 77
        }
      ]
    },
    {
      "cell_type": "code",
      "metadata": {
        "id": "bq6pHxODFNZh"
      },
      "source": [
        "n = []\n",
        "for lis in l:\n",
        "  n.append(lis[1])"
      ],
      "execution_count": 78,
      "outputs": []
    },
    {
      "cell_type": "code",
      "metadata": {
        "id": "H-y3F9-kF2eI",
        "colab": {
          "base_uri": "https://localhost:8080/"
        },
        "outputId": "7170fbc8-d03f-476d-dea7-af93060ec6b2"
      },
      "source": [
        "n"
      ],
      "execution_count": 79,
      "outputs": [
        {
          "output_type": "execute_result",
          "data": {
            "text/plain": [
              "[2, 5, 8]"
            ]
          },
          "metadata": {},
          "execution_count": 79
        }
      ]
    },
    {
      "cell_type": "code",
      "metadata": {
        "id": "BUQ4hX19ObSj"
      },
      "source": [
        "l1=[1,2,3]\n",
        "l2=[4,5,6]\n",
        "l3=[7,8,9]\n",
        "l=[l1,l2,l3]"
      ],
      "execution_count": 81,
      "outputs": []
    },
    {
      "cell_type": "code",
      "metadata": {
        "id": "cn0rjJlXF3nw",
        "colab": {
          "base_uri": "https://localhost:8080/"
        },
        "outputId": "6b56a21e-0ed6-4b92-f3fc-0bfff6fa4396"
      },
      "source": [
        "# list comprehension\n",
        "[i[2] for i in l]"
      ],
      "execution_count": 83,
      "outputs": [
        {
          "output_type": "execute_result",
          "data": {
            "text/plain": [
              "[3, 6, 9]"
            ]
          },
          "metadata": {},
          "execution_count": 83
        }
      ]
    },
    {
      "cell_type": "code",
      "metadata": {
        "colab": {
          "base_uri": "https://localhost:8080/"
        },
        "id": "wo0fwn3RMU9B",
        "outputId": "dec9e224-960b-4f56-bc46-dc9a290006ae"
      },
      "source": [
        "# extend function for merge the data\n",
        "l1.extend([6,3,5,3])\n",
        "l1"
      ],
      "execution_count": 88,
      "outputs": [
        {
          "output_type": "execute_result",
          "data": {
            "text/plain": [
              "[1, 2, 3, 6, 3, 5, 3]"
            ]
          },
          "metadata": {},
          "execution_count": 88
        }
      ]
    },
    {
      "cell_type": "code",
      "metadata": {
        "colab": {
          "base_uri": "https://localhost:8080/"
        },
        "id": "oB8ippqaPfF3",
        "outputId": "c6fd790d-2468-4957-d1b7-a102845824be"
      },
      "source": [
        "l1.sort()\n",
        "l1"
      ],
      "execution_count": 106,
      "outputs": [
        {
          "output_type": "execute_result",
          "data": {
            "text/plain": [
              "[1, 2, 3, 3, 3, 5, 6]"
            ]
          },
          "metadata": {},
          "execution_count": 106
        }
      ]
    },
    {
      "cell_type": "code",
      "metadata": {
        "colab": {
          "base_uri": "https://localhost:8080/"
        },
        "id": "dQYJD6ljPkJr",
        "outputId": "f2dfdda1-b1a8-4b11-a53e-2d2d1be61d0d"
      },
      "source": [
        "#for romove the particular data\n",
        "l =[1, 2, 3, 6, 3, 5, 3]\n",
        "l = [i for i in l if i !=3]\n",
        "l"
      ],
      "execution_count": 107,
      "outputs": [
        {
          "output_type": "execute_result",
          "data": {
            "text/plain": [
              "[1, 2, 6, 5]"
            ]
          },
          "metadata": {},
          "execution_count": 107
        }
      ]
    },
    {
      "cell_type": "code",
      "metadata": {
        "colab": {
          "base_uri": "https://localhost:8080/"
        },
        "id": "G9HUU_fPkWCN",
        "outputId": "7007efdb-546a-4e6a-9d2e-1a8aaf04b905"
      },
      "source": [
        "m =[]\n",
        "l =[1, 2, 3, 6, 3, 5, 3]\n",
        "for i in l:\n",
        "  if i !=2 :\n",
        "    m.append(i)\n",
        "print(m)"
      ],
      "execution_count": 108,
      "outputs": [
        {
          "output_type": "stream",
          "text": [
            "[1, 3, 6, 3, 5, 3]\n"
          ],
          "name": "stdout"
        }
      ]
    },
    {
      "cell_type": "code",
      "metadata": {
        "id": "4VQ3C_vGneCc"
      },
      "source": [
        ""
      ],
      "execution_count": null,
      "outputs": []
    }
  ]
}