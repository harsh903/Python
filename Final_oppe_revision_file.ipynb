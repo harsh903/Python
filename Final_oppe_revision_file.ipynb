{
  "nbformat": 4,
  "nbformat_minor": 0,
  "metadata": {
    "colab": {
      "provenance": [],
      "authorship_tag": "ABX9TyP3QUoRT4j/QzXIKLEmmulM",
      "include_colab_link": true
    },
    "kernelspec": {
      "name": "python3",
      "display_name": "Python 3"
    },
    "language_info": {
      "name": "python"
    }
  },
  "cells": [
    {
      "cell_type": "markdown",
      "metadata": {
        "id": "view-in-github",
        "colab_type": "text"
      },
      "source": [
        "<a href=\"https://colab.research.google.com/github/harsh903/Python/blob/main/Final_oppe_revision_file.ipynb\" target=\"_parent\"><img src=\"https://colab.research.google.com/assets/colab-badge.svg\" alt=\"Open In Colab\"/></a>"
      ]
    },
    {
      "cell_type": "markdown",
      "source": [
        "# File Handling"
      ],
      "metadata": {
        "id": "Ss5NlziIXn2p"
      }
    },
    {
      "cell_type": "markdown",
      "source": [
        "File Handling"
      ],
      "metadata": {
        "id": "G2_NXO0K4LiT"
      }
    },
    {
      "cell_type": "code",
      "source": [
        "f = open('mytext.txt','w')"
      ],
      "metadata": {
        "id": "i4zA7FLX4N4Y"
      },
      "execution_count": null,
      "outputs": []
    },
    {
      "cell_type": "code",
      "source": [
        "f.write('harsh')"
      ],
      "metadata": {
        "colab": {
          "base_uri": "https://localhost:8080/"
        },
        "id": "w-M6DDf-4N5j",
        "outputId": "a63fa3ea-2696-485a-86ad-b00d54a3edbb"
      },
      "execution_count": null,
      "outputs": [
        {
          "output_type": "execute_result",
          "data": {
            "text/plain": [
              "5"
            ]
          },
          "metadata": {},
          "execution_count": 13
        }
      ]
    },
    {
      "cell_type": "code",
      "source": [
        "f.close()"
      ],
      "metadata": {
        "id": "G2YSkcq74N9X"
      },
      "execution_count": null,
      "outputs": []
    },
    {
      "cell_type": "code",
      "source": [
        "f1 = open('mytext.txt','r')"
      ],
      "metadata": {
        "id": "w6gPNveF6Nwb"
      },
      "execution_count": null,
      "outputs": []
    },
    {
      "cell_type": "code",
      "source": [
        "s = f1.read()"
      ],
      "metadata": {
        "id": "FX2A6-jx6N2D"
      },
      "execution_count": null,
      "outputs": []
    },
    {
      "cell_type": "code",
      "source": [
        "print(s)"
      ],
      "metadata": {
        "colab": {
          "base_uri": "https://localhost:8080/"
        },
        "id": "GCj2kCu86N7Q",
        "outputId": "a40ec35f-1338-4645-e023-f663785a6b70"
      },
      "execution_count": null,
      "outputs": [
        {
          "output_type": "stream",
          "name": "stdout",
          "text": [
            "harsh\n"
          ]
        }
      ]
    },
    {
      "cell_type": "code",
      "source": [
        "f3 = open('file.txt','w')"
      ],
      "metadata": {
        "id": "mwfpNyP66zJL"
      },
      "execution_count": null,
      "outputs": []
    },
    {
      "cell_type": "code",
      "source": [
        "f3.write('This is first line')"
      ],
      "metadata": {
        "colab": {
          "base_uri": "https://localhost:8080/"
        },
        "id": "rCMO2aGq8B1F",
        "outputId": "77b81104-7603-48a0-9440-c11f69a29b5c"
      },
      "execution_count": null,
      "outputs": [
        {
          "output_type": "execute_result",
          "data": {
            "text/plain": [
              "18"
            ]
          },
          "metadata": {},
          "execution_count": 20
        }
      ]
    },
    {
      "cell_type": "code",
      "source": [
        "f3.write('\\n')"
      ],
      "metadata": {
        "colab": {
          "base_uri": "https://localhost:8080/"
        },
        "id": "CONESGUN8B4s",
        "outputId": "37162b2a-81e5-4232-a3a9-3d366d3b5180"
      },
      "execution_count": null,
      "outputs": [
        {
          "output_type": "execute_result",
          "data": {
            "text/plain": [
              "1"
            ]
          },
          "metadata": {},
          "execution_count": 21
        }
      ]
    },
    {
      "cell_type": "code",
      "source": [
        "f3.write('This is second line')"
      ],
      "metadata": {
        "colab": {
          "base_uri": "https://localhost:8080/"
        },
        "id": "w7h9Qocz8eo0",
        "outputId": "cfa1ec77-570c-4a3b-90e4-e611ea035428"
      },
      "execution_count": null,
      "outputs": [
        {
          "output_type": "execute_result",
          "data": {
            "text/plain": [
              "19"
            ]
          },
          "metadata": {},
          "execution_count": 22
        }
      ]
    },
    {
      "cell_type": "code",
      "source": [
        "f3.write('\\n')"
      ],
      "metadata": {
        "colab": {
          "base_uri": "https://localhost:8080/"
        },
        "id": "f1RcDcyM8if-",
        "outputId": "1aefb4cb-1ad1-4288-ac8f-6622ab6a9abe"
      },
      "execution_count": null,
      "outputs": [
        {
          "output_type": "execute_result",
          "data": {
            "text/plain": [
              "1"
            ]
          },
          "metadata": {},
          "execution_count": 23
        }
      ]
    },
    {
      "cell_type": "code",
      "source": [
        "f3.write('This is third line')"
      ],
      "metadata": {
        "colab": {
          "base_uri": "https://localhost:8080/"
        },
        "id": "gXOUtUYG8irJ",
        "outputId": "34964e8e-541d-41e9-b531-488362c32b10"
      },
      "execution_count": null,
      "outputs": [
        {
          "output_type": "execute_result",
          "data": {
            "text/plain": [
              "18"
            ]
          },
          "metadata": {},
          "execution_count": 24
        }
      ]
    },
    {
      "cell_type": "code",
      "source": [
        "f3.close()"
      ],
      "metadata": {
        "id": "X09tXkIJ8phf"
      },
      "execution_count": null,
      "outputs": []
    },
    {
      "cell_type": "code",
      "source": [
        "txt = \"i am harsh singh     \""
      ],
      "metadata": {
        "id": "O3GptKgYzGbX"
      },
      "execution_count": null,
      "outputs": []
    },
    {
      "cell_type": "code",
      "source": [
        "txt"
      ],
      "metadata": {
        "id": "WTZEnlsLzQfo",
        "outputId": "697edcbb-081c-4d60-a941-11c075ede993",
        "colab": {
          "base_uri": "https://localhost:8080/",
          "height": 35
        }
      },
      "execution_count": null,
      "outputs": [
        {
          "output_type": "execute_result",
          "data": {
            "text/plain": [
              "'i am harsh singh     '"
            ],
            "application/vnd.google.colaboratory.intrinsic+json": {
              "type": "string"
            }
          },
          "metadata": {},
          "execution_count": 7
        }
      ]
    },
    {
      "cell_type": "code",
      "source": [
        "x = txt.strip()"
      ],
      "metadata": {
        "id": "limYBb2rECS_"
      },
      "execution_count": null,
      "outputs": []
    },
    {
      "cell_type": "code",
      "source": [
        "x"
      ],
      "metadata": {
        "id": "2xjytnhdECUH",
        "colab": {
          "base_uri": "https://localhost:8080/",
          "height": 35
        },
        "outputId": "e5604093-92af-4f55-a9ce-46ef6e98d1e2"
      },
      "execution_count": null,
      "outputs": [
        {
          "output_type": "execute_result",
          "data": {
            "text/plain": [
              "'i am harsh singh'"
            ],
            "application/vnd.google.colaboratory.intrinsic+json": {
              "type": "string"
            }
          },
          "metadata": {},
          "execution_count": 6
        }
      ]
    },
    {
      "cell_type": "markdown",
      "source": [
        "Read method"
      ],
      "metadata": {
        "id": "04fFxvq5A5-H"
      }
    },
    {
      "cell_type": "code",
      "source": [
        "f = open(\"oppe.txt\",'r')"
      ],
      "metadata": {
        "id": "OdhLOMDq_qGH"
      },
      "execution_count": null,
      "outputs": []
    },
    {
      "cell_type": "code",
      "source": [
        "data = f.read() # read method"
      ],
      "metadata": {
        "id": "iMy2ttsE_qJa"
      },
      "execution_count": null,
      "outputs": []
    },
    {
      "cell_type": "code",
      "source": [
        "print(data)"
      ],
      "metadata": {
        "colab": {
          "base_uri": "https://localhost:8080/"
        },
        "id": "YFpwfCtD_qQr",
        "outputId": "c73998b4-e391-43fe-b1b1-32f067d74a47"
      },
      "execution_count": null,
      "outputs": [
        {
          "output_type": "stream",
          "name": "stdout",
          "text": [
            "    1. Raw data is gathered from various sources that explains the business problem.\n",
            "    2. Using various statistical analysis, and machine learning approaches, data modeling is performed to get the optimum solutions that best explain the business problem.\n",
            "    3. Actionable insights that will serve as a solution for the business problems gathered through data science.\n"
          ]
        }
      ]
    },
    {
      "cell_type": "code",
      "source": [
        "f.close()"
      ],
      "metadata": {
        "id": "QRwdNvvw_qcG"
      },
      "execution_count": null,
      "outputs": []
    },
    {
      "cell_type": "markdown",
      "source": [
        "Readlines Method"
      ],
      "metadata": {
        "id": "AfXN2gQAA9z9"
      }
    },
    {
      "cell_type": "code",
      "source": [
        "f = open(\"oppe.txt\",'r')"
      ],
      "metadata": {
        "id": "hsUB3CzdECYL"
      },
      "execution_count": null,
      "outputs": []
    },
    {
      "cell_type": "code",
      "source": [
        "data2 = f.readlines() # readlines method"
      ],
      "metadata": {
        "id": "8MqvbSdV8-Ve"
      },
      "execution_count": null,
      "outputs": []
    },
    {
      "cell_type": "code",
      "source": [
        "print(data2)"
      ],
      "metadata": {
        "id": "yAvbK2yEEClg",
        "colab": {
          "base_uri": "https://localhost:8080/"
        },
        "outputId": "981cb036-5036-4e11-f4c5-43f4f339f2a2"
      },
      "execution_count": null,
      "outputs": [
        {
          "output_type": "stream",
          "name": "stdout",
          "text": [
            "['    1. Raw data is gathered from various sources that explains the business problem.\\n', '    2. Using various statistical analysis, and machine learning approaches, data modeling is performed to get the optimum solutions that best explain the business problem.\\n', '    3. Actionable insights that will serve as a solution for the business problems gathered through data science.']\n"
          ]
        }
      ]
    },
    {
      "cell_type": "code",
      "source": [
        "f.close()"
      ],
      "metadata": {
        "id": "_CDoKRsix63t"
      },
      "execution_count": null,
      "outputs": []
    },
    {
      "cell_type": "markdown",
      "source": [
        "Readline Method"
      ],
      "metadata": {
        "id": "B-QsAesWBBJZ"
      }
    },
    {
      "cell_type": "code",
      "source": [
        "f = open(\"oppe.txt\",'r')"
      ],
      "metadata": {
        "id": "kLFAwSi2yPGi"
      },
      "execution_count": null,
      "outputs": []
    },
    {
      "cell_type": "code",
      "source": [
        "d = f.readline()"
      ],
      "metadata": {
        "id": "hg7DrPF3yPHa"
      },
      "execution_count": null,
      "outputs": []
    },
    {
      "cell_type": "code",
      "source": [
        "print(d)"
      ],
      "metadata": {
        "colab": {
          "base_uri": "https://localhost:8080/"
        },
        "id": "B4elUqkM_hMa",
        "outputId": "9cfa6d30-15b2-41a1-ed60-4cbfb595b723"
      },
      "execution_count": null,
      "outputs": [
        {
          "output_type": "stream",
          "name": "stdout",
          "text": [
            "    1. Raw data is gathered from various sources that explains the business problem.\n",
            "\n"
          ]
        }
      ]
    },
    {
      "cell_type": "code",
      "source": [
        "f.close()"
      ],
      "metadata": {
        "id": "CBA93ISM_kZ1"
      },
      "execution_count": null,
      "outputs": []
    },
    {
      "cell_type": "markdown",
      "source": [
        "Print lines using readlines method and loop"
      ],
      "metadata": {
        "id": "wiJhARiRBFFo"
      }
    },
    {
      "cell_type": "code",
      "source": [
        "f = open(\"oppe.txt\",'r')"
      ],
      "metadata": {
        "id": "EkjfsO34ATjy"
      },
      "execution_count": null,
      "outputs": []
    },
    {
      "cell_type": "code",
      "source": [
        "d1 = f.readlines()"
      ],
      "metadata": {
        "id": "ZWoH0LLQATns"
      },
      "execution_count": null,
      "outputs": []
    },
    {
      "cell_type": "code",
      "source": [
        "for line in d1:\n",
        "  d2 = line.strip(\"\\n\")\n",
        "  print(d2)"
      ],
      "metadata": {
        "colab": {
          "base_uri": "https://localhost:8080/"
        },
        "id": "Wz0l9EUmATrG",
        "outputId": "d91aa06f-840d-4a71-c87e-8015149dfb0b"
      },
      "execution_count": null,
      "outputs": [
        {
          "output_type": "stream",
          "name": "stdout",
          "text": [
            "    1. Raw data is gathered from various sources that explains the business problem.\n",
            "    2. Using various statistical analysis, and machine learning approaches, data modeling is performed to get the optimum solutions that best explain the business problem.\n",
            "    3. Actionable insights that will serve as a solution for the business problems gathered through data science.\n"
          ]
        }
      ]
    },
    {
      "cell_type": "code",
      "source": [
        "f.close()"
      ],
      "metadata": {
        "id": "naC6GLmuATuR"
      },
      "execution_count": null,
      "outputs": []
    },
    {
      "cell_type": "markdown",
      "source": [
        "Print using list and loop"
      ],
      "metadata": {
        "id": "_S7dogB6BN3H"
      }
    },
    {
      "cell_type": "code",
      "source": [
        "f = open(\"oppe.txt\",'r')"
      ],
      "metadata": {
        "id": "idKgSZpzAn52"
      },
      "execution_count": null,
      "outputs": []
    },
    {
      "cell_type": "code",
      "source": [
        "for line in f:\n",
        "  print(line,end='')"
      ],
      "metadata": {
        "colab": {
          "base_uri": "https://localhost:8080/"
        },
        "id": "qYTjapMMAoAg",
        "outputId": "15e42d3e-9bf9-4e12-b3f4-31ef42a221f6"
      },
      "execution_count": null,
      "outputs": [
        {
          "output_type": "stream",
          "name": "stdout",
          "text": [
            "    1. Raw data is gathered from various sources that explains the business problem.\n",
            "    2. Using various statistical analysis, and machine learning approaches, data modeling is performed to get the optimum solutions that best explain the business problem.\n",
            "    3. Actionable insights that will serve as a solution for the business problems gathered through data science."
          ]
        }
      ]
    },
    {
      "cell_type": "code",
      "source": [
        "f.close()"
      ],
      "metadata": {
        "id": "tmkPF5OZAoDi"
      },
      "execution_count": null,
      "outputs": []
    },
    {
      "cell_type": "markdown",
      "source": [
        "Find Number of characters,words and lines in File"
      ],
      "metadata": {
        "id": "wZmE2i3HHBwz"
      }
    },
    {
      "cell_type": "code",
      "source": [
        "f = open(\"oppe.txt\",'r')"
      ],
      "metadata": {
        "id": "_xnKJgBKAoHA"
      },
      "execution_count": null,
      "outputs": []
    },
    {
      "cell_type": "code",
      "source": [
        "no_words = 0\n",
        "no_chars = 0\n",
        "no_lines = 0"
      ],
      "metadata": {
        "id": "LY3RhkHFHglJ"
      },
      "execution_count": null,
      "outputs": []
    },
    {
      "cell_type": "code",
      "source": [
        "for line in f:\n",
        "  line = line.strip(\"\\n\")\n",
        "  no_lines += 1\n",
        "  no_chars += len(line)\n",
        "  list1 = line.split()\n",
        "  no_words += len(list1)"
      ],
      "metadata": {
        "id": "_uAnZAD6HgoZ"
      },
      "execution_count": null,
      "outputs": []
    },
    {
      "cell_type": "code",
      "source": [
        "f.close()"
      ],
      "metadata": {
        "id": "0cElU0OLHgrq"
      },
      "execution_count": null,
      "outputs": []
    },
    {
      "cell_type": "code",
      "source": [
        "print(\"number of lines:\",no_lines)"
      ],
      "metadata": {
        "colab": {
          "base_uri": "https://localhost:8080/"
        },
        "id": "b_urF7QEI9hS",
        "outputId": "a61a4274-74a2-4f7e-c8b8-0eafeafafb95"
      },
      "execution_count": null,
      "outputs": [
        {
          "output_type": "stream",
          "name": "stdout",
          "text": [
            "number of lines: 3\n"
          ]
        }
      ]
    },
    {
      "cell_type": "code",
      "source": [
        "print(\"number of words:\",no_words)"
      ],
      "metadata": {
        "colab": {
          "base_uri": "https://localhost:8080/"
        },
        "id": "r8doxBHQHgvA",
        "outputId": "ad818b7f-b5ff-4a0e-86e6-1781cfc70196"
      },
      "execution_count": null,
      "outputs": [
        {
          "output_type": "stream",
          "name": "stdout",
          "text": [
            "number of words: 54\n"
          ]
        }
      ]
    },
    {
      "cell_type": "code",
      "source": [
        "print(\"number of characters:\",no_chars)"
      ],
      "metadata": {
        "colab": {
          "base_uri": "https://localhost:8080/"
        },
        "id": "NDwduEeYI5Lf",
        "outputId": "07ecde6c-e70e-4e83-99ef-13a4d8f53673"
      },
      "execution_count": null,
      "outputs": [
        {
          "output_type": "stream",
          "name": "stdout",
          "text": [
            "number of characters: 368\n"
          ]
        }
      ]
    },
    {
      "cell_type": "markdown",
      "source": [
        "Copy the file1 to file2"
      ],
      "metadata": {
        "id": "7F48PiXtKJj5"
      }
    },
    {
      "cell_type": "code",
      "source": [
        "f1 = open(\"oppe.txt\",'r')"
      ],
      "metadata": {
        "id": "x7rr0AhGI5MT"
      },
      "execution_count": null,
      "outputs": []
    },
    {
      "cell_type": "code",
      "source": [
        "f2 = open(\"oppe.txt1\",'w')"
      ],
      "metadata": {
        "id": "etUPFBW9I5U-"
      },
      "execution_count": null,
      "outputs": []
    },
    {
      "cell_type": "code",
      "source": [
        "for line in f1:\n",
        "  f2.write(line)"
      ],
      "metadata": {
        "id": "457awDovKmt9"
      },
      "execution_count": null,
      "outputs": []
    },
    {
      "cell_type": "code",
      "source": [
        "f1.close()\n",
        "f2.close()"
      ],
      "metadata": {
        "id": "Auonv_RjKmxi"
      },
      "execution_count": null,
      "outputs": []
    },
    {
      "cell_type": "markdown",
      "source": [
        "writing data to a text file"
      ],
      "metadata": {
        "id": "4UhnpJciWxcu"
      }
    },
    {
      "cell_type": "code",
      "source": [
        "f = open(\"data.txt\",'w')"
      ],
      "metadata": {
        "id": "rTlw1QcVW4HI"
      },
      "execution_count": null,
      "outputs": []
    },
    {
      "cell_type": "code",
      "source": [
        "lines_list = ['yogesh\\n','ram\\n','shantanu']"
      ],
      "metadata": {
        "id": "APk37vnOW4KR"
      },
      "execution_count": null,
      "outputs": []
    },
    {
      "cell_type": "code",
      "source": [
        "f.writelines(lines_list)"
      ],
      "metadata": {
        "id": "BmtOIZbdW4N5"
      },
      "execution_count": null,
      "outputs": []
    },
    {
      "cell_type": "code",
      "source": [
        "f.close()"
      ],
      "metadata": {
        "id": "1G3M-1x_XVDM"
      },
      "execution_count": null,
      "outputs": []
    },
    {
      "cell_type": "markdown",
      "source": [
        "Question of file handling"
      ],
      "metadata": {
        "id": "eNOeLfTZpSN4"
      }
    },
    {
      "cell_type": "code",
      "source": [
        "'''Write a function named extract_lines that accepts filename as argument.\n",
        " Within the function, read the file and look for all male students who \n",
        " have scored at least 70 marks in Python. Copy these lines into a new \n",
        " file named python.csv. The entries in this file should be in the increasing \n",
        " order of sequence numbers. Also, the first line of python.csv should be the\n",
        "  header, which is same as the one in filename.'''\n",
        "\n",
        "def extract_lines(filename):\n",
        "    f = open(filename, 'r')\n",
        "    header = f.readline()\n",
        "    g = open('python.csv', 'w')\n",
        "    g.write(header)\n",
        "    for line in f:\n",
        "        L = line.strip().split(',')\n",
        "        python = int(L[4])\n",
        "        gender = L[2]\n",
        "        if gender == 'M' and python >= 70:\n",
        "            g.write(line)\n",
        "    f.close()\n",
        "    g.close()"
      ],
      "metadata": {
        "id": "EA2DdIHPpV55"
      },
      "execution_count": null,
      "outputs": []
    },
    {
      "cell_type": "code",
      "source": [
        "def count_word(filename):\n",
        "  f = open(filename,'r')\n",
        "  l = []\n",
        "  d = dict()\n",
        "  for line in f:\n",
        "    line = line.strip('\\n')\n",
        "    l.append(line)\n",
        "  for word in l:\n",
        "    if word in d:\n",
        "      d[word] = d[word] + 1\n",
        "    else:\n",
        "      d[word] = 1\n",
        "  return d"
      ],
      "metadata": {
        "id": "1D3uFT3spV99"
      },
      "execution_count": null,
      "outputs": []
    },
    {
      "cell_type": "code",
      "source": [
        "count_word('grpa 1.txt')"
      ],
      "metadata": {
        "colab": {
          "base_uri": "https://localhost:8080/"
        },
        "id": "KVymqydgpWKI",
        "outputId": "5db77978-3077-49eb-fc6e-5be24dd5328a"
      },
      "execution_count": null,
      "outputs": [
        {
          "output_type": "execute_result",
          "data": {
            "text/plain": [
              "{'good': 2, 'great': 1, 'work': 2}"
            ]
          },
          "metadata": {},
          "execution_count": 129
        }
      ]
    },
    {
      "cell_type": "markdown",
      "source": [
        "# Dictionary"
      ],
      "metadata": {
        "id": "oDSxucJIXyw3"
      }
    },
    {
      "cell_type": "markdown",
      "source": [
        "Q 1"
      ],
      "metadata": {
        "id": "xgL2RwG5YpF5"
      }
    },
    {
      "cell_type": "code",
      "source": [
        "words = ['good','bad','best','best','best','good']\n",
        "d = dict()\n",
        "for word in words:\n",
        "  if word in d:\n",
        "    d[word] = d[word] + 1\n",
        "  else:\n",
        "    d[word] = 1\n",
        "d"
      ],
      "metadata": {
        "colab": {
          "base_uri": "https://localhost:8080/"
        },
        "id": "ysuqam7fX1ZT",
        "outputId": "d616c023-ae54-4afd-cb8e-9a114cb9eeca"
      },
      "execution_count": null,
      "outputs": [
        {
          "output_type": "execute_result",
          "data": {
            "text/plain": [
              "{'good': 2, 'bad': 1, 'best': 3}"
            ]
          },
          "metadata": {},
          "execution_count": 122
        }
      ]
    },
    {
      "cell_type": "markdown",
      "source": [
        "Q2"
      ],
      "metadata": {
        "id": "-Xt0mmFdYuQx"
      }
    },
    {
      "cell_type": "code",
      "source": [
        "voting_dict = {'lucky':5453,'prachi':4234,'surbhi':4243,'gaurav':5452}"
      ],
      "metadata": {
        "id": "qlH9-9CGX1cw"
      },
      "execution_count": 1,
      "outputs": []
    },
    {
      "cell_type": "code",
      "source": [
        "def get_winner(D):\n",
        "  s = D.items()\n",
        "  winner = []\n",
        "  maxmarks = 0\n",
        "  for i in s:\n",
        "      if i[1] > maxmarks:\n",
        "          maxmarks = i[1]\n",
        "          winner = i[0]\n",
        "      elif i[1] == maxmarks:\n",
        "        winner.append(i[0])\n",
        "  return winner"
      ],
      "metadata": {
        "id": "RVzCak3GX1gL"
      },
      "execution_count": 17,
      "outputs": []
    },
    {
      "cell_type": "code",
      "source": [
        "get_winner(voting_dict)"
      ],
      "metadata": {
        "id": "VkYg_fPmX1jH",
        "colab": {
          "base_uri": "https://localhost:8080/",
          "height": 35
        },
        "outputId": "dfbca390-06ff-406a-c5e0-416f027f0464"
      },
      "execution_count": 18,
      "outputs": [
        {
          "output_type": "execute_result",
          "data": {
            "text/plain": [
              "'lucky'"
            ],
            "application/vnd.google.colaboratory.intrinsic+json": {
              "type": "string"
            }
          },
          "metadata": {},
          "execution_count": 18
        }
      ]
    },
    {
      "cell_type": "markdown",
      "source": [
        "Q3"
      ],
      "metadata": {
        "id": "je8Yj8EaYwbY"
      }
    },
    {
      "cell_type": "code",
      "source": [
        "# Refer PPA-1 of week-6 for this function\n",
        "def words_to_frequency(words):\n",
        "    freq_dict = dict()\n",
        "    for word in words:\n",
        "        if word not in freq_dict:\n",
        "            freq_dict[word] = 0\n",
        "        freq_dict[word] += 1\n",
        "    return freq_dict\n",
        "\n",
        "def freq_to_words(words):\n",
        "    freq_dict = words_to_frequency(words)\n",
        "\n",
        "    result = dict()\n",
        "    for word in freq_dict:\n",
        "        freq = freq_dict[word]\n",
        "        if freq not in result:\n",
        "            result[freq] = [ ]\n",
        "        result[freq].append(word)\n",
        "    return result"
      ],
      "metadata": {
        "id": "mWpjwL0IYizy"
      },
      "execution_count": null,
      "outputs": []
    },
    {
      "cell_type": "markdown",
      "source": [
        "Q4"
      ],
      "metadata": {
        "id": "3-288GpUcYgc"
      }
    },
    {
      "cell_type": "code",
      "source": [
        " # Refer PPA-6 of week-6 for this function\n",
        "\n",
        "def get_marks(scores_dataset, subject):\n",
        "    L = [ ]\n",
        "    for student in scores_dataset:\n",
        "        marks = student[subject]\n",
        "        name = student['Name']\n",
        "        L.append((name, marks))\n",
        "    return L"
      ],
      "metadata": {
        "id": "yLo4WYDacagj"
      },
      "execution_count": null,
      "outputs": []
    },
    {
      "cell_type": "markdown",
      "source": [
        " Q 5"
      ],
      "metadata": {
        "id": "6A-k7DMiZqYv"
      }
    },
    {
      "cell_type": "code",
      "source": [
        "# Refer PPA-6 of week-6 to understand how get_marks\n",
        "def get_marks(scores_dataset, subject, gender):\n",
        "    L = [ ]\n",
        "    for student in scores_dataset:\n",
        "        if student['Gender'] == gender:\n",
        "            marks = student[subject]\n",
        "            name = student['Name']\n",
        "            L.append((name, marks))\n",
        "    return L\n",
        "\n",
        "def get_toppers(scores_dataset, subject, gender):\n",
        "    # get the list of tuples\n",
        "    L = get_marks(scores_dataset, subject, gender)\n",
        "    toppers = [ ]\n",
        "    maxmarks = 0\n",
        "    for i in range(len(L)):\n",
        "        # L[i][0] -> name, L[i][1] -> marks \n",
        "        if L[i][1] > maxmarks:\n",
        "            maxmarks = L[i][1]\n",
        "            # if a new max is found,\n",
        "            # create a new list and add L[i][0] as first element\n",
        "            toppers = [L[i][0]]\n",
        "        # if two have obtained same maximum, just append L[i][0] to current list\n",
        "        elif L[i][1] == maxmarks:\n",
        "            toppers.append(L[i][0])\n",
        "    return toppers"
      ],
      "metadata": {
        "id": "LQjljYc6Yi2j"
      },
      "execution_count": null,
      "outputs": []
    },
    {
      "cell_type": "markdown",
      "source": [
        "Q6"
      ],
      "metadata": {
        "id": "iIzl1Nc3Zwui"
      }
    },
    {
      "cell_type": "code",
      "source": [
        "def two_level_sort(scores):\n",
        "    sorted_L = [ ]\n",
        "    while scores != [ ]:\n",
        "        # minentry[0] -> name, minentry[1] -> score\n",
        "        minentry = scores[0]\n",
        "        for i in range(len(scores)):\n",
        "            # scores[i][0] -> name, scores[i][1] -> marks\n",
        "            if scores[i][1] < minentry[1]:\n",
        "                minentry = scores[i]\n",
        "            # If scores are equal, check for alphabetical order\n",
        "            elif (scores[i][1] == minentry[1] and\n",
        "                  scores[i][0] < minentry[0]):\n",
        "                minentry = scores[i]\n",
        "        sorted_L.append(minentry)\n",
        "        scores.remove(minentry)\n",
        "\n",
        "    return sorted_L"
      ],
      "metadata": {
        "id": "wcivU5oOYi5m"
      },
      "execution_count": null,
      "outputs": []
    },
    {
      "cell_type": "markdown",
      "source": [
        "Q7"
      ],
      "metadata": {
        "id": "Z-fCaTUdZ_Uu"
      }
    },
    {
      "cell_type": "code",
      "source": [
        "# merge two dictionry\n",
        "\n",
        "def merge(D1, D2, priority):\n",
        "    if priority == 'second':\n",
        "        return merge(D2, D1, 'first')\n",
        "    D = dict()\n",
        "    for key in D1:\n",
        "        value = D1[key]\n",
        "        D[key] = value\n",
        "    for key in D2:\n",
        "        value = D2[key]\n",
        "        if key not in D:\n",
        "            D[key] = value\n",
        "    return D"
      ],
      "metadata": {
        "id": "mdPQyVmpYjHG"
      },
      "execution_count": null,
      "outputs": []
    },
    {
      "cell_type": "markdown",
      "source": [
        " Q8"
      ],
      "metadata": {
        "id": "BI9-AnTbaWAv"
      }
    },
    {
      "cell_type": "code",
      "source": [
        "results = [ ]\n",
        "for i in range(8):\n",
        "    L = input().split(',')\n",
        "    winner = L[0]      \n",
        "    losers = L[1: ]     \n",
        "    results.append((winner, len(losers)))\n",
        "print(results)\n",
        "table = [ ]\n",
        "\n",
        "while results != [ ]:\n",
        "    maxteam = results[0]\n",
        "    for i in range(len(results)):\n",
        "        team = results[i]\n",
        "        if team[1] > maxteam[1]:\n",
        "            maxteam = team\n",
        "        elif team[1] == maxteam[1] and team[0] < maxteam[0]:\n",
        "            maxteam = team\n",
        "    results.remove(maxteam)\n",
        "    table.append(maxteam)\n",
        "\n",
        "for team in table:\n",
        "    print(f'{team[0]}:{team[1]}')"
      ],
      "metadata": {
        "colab": {
          "base_uri": "https://localhost:8080/"
        },
        "id": "Yx5_hK0xaVC8",
        "outputId": "82d0bf89-4ba3-4982-aeed-ddc74ac0074f"
      },
      "execution_count": 2,
      "outputs": [
        {
          "output_type": "stream",
          "name": "stdout",
          "text": [
            "CSK,DC,MI,PK\n",
            "DC,RR,RCB,SH\n",
            "KKR,CSK,DC,RR,MI\n",
            "MI,DC,RCB,RR\n",
            "PK,DC,KKR,MI,RCB\n",
            "RR,CSK,PK,SH\n",
            "RCB,CSK,KKR,RR\n",
            "SH,CSK,KKR,MI,PK,RCB\n",
            "[('CSK', 3), ('DC', 3), ('KKR', 4), ('MI', 3), ('PK', 4), ('RR', 3), ('RCB', 3), ('SH', 5)]\n",
            "SH:5\n",
            "KKR:4\n",
            "PK:4\n",
            "CSK:3\n",
            "DC:3\n",
            "MI:3\n",
            "RCB:3\n",
            "RR:3\n"
          ]
        }
      ]
    },
    {
      "cell_type": "code",
      "source": [
        "# # Refer PPA-10 of week-6 for this function\n",
        "\n",
        "def group_by_city(scores_dataset):\n",
        "    cities = dict()\n",
        "    for student in scores_dataset:\n",
        "        city = student['City']\n",
        "        name = student['Name']\n",
        "        if city not in cities:\n",
        "            cities[city] = [ ]\n",
        "            cities[city].append(name)\n",
        "        else:\n",
        "            cities[city].append(name)\n",
        "    return cities\n",
        "    \n",
        "def busy_cities(scores_dataset):\n",
        "    cities = group_by_city(scores_dataset)\n",
        "    busy = [ ]\n",
        "    maxpop = 0\n",
        "    for city in cities:\n",
        "        if len(cities[city]) >maxpop:\n",
        "            maxpop = len(cities[city])\n",
        "            busy = [city]\n",
        "        elif len(cities[city]) == maxpop:\n",
        "            busy.append(city)\n",
        "    return busy"
      ],
      "metadata": {
        "id": "i9gMLo3YaVGN"
      },
      "execution_count": null,
      "outputs": []
    },
    {
      "cell_type": "markdown",
      "source": [
        "# Matrix"
      ],
      "metadata": {
        "id": "CVDAwrX4qGY5"
      }
    },
    {
      "cell_type": "code",
      "source": [
        "def add_mat(A,B):\n",
        "  Mat = []\n",
        "  for i in range(len(A)):\n",
        "    Mat.append([])\n",
        "    for j in range(len(A[0])):\n",
        "      add = A[i][j] + B[i][j]\n",
        "      Mat[i].append(add)\n",
        "  return Mat"
      ],
      "metadata": {
        "id": "Gkx2ZAS_dlnO"
      },
      "execution_count": 3,
      "outputs": []
    },
    {
      "cell_type": "code",
      "source": [
        "def multipy_mat(A,B):\n",
        "  Mat = []\n",
        "  for i in range(len(A)):\n",
        "    Mat.append([])\n",
        "    for j in range(len(A[0])):\n",
        "      Mat[i].append(0)\n",
        "  for i in range(len(A)):\n",
        "    for j in range(len(A[0])):\n",
        "      for k in range(len(B)):\n",
        "        Mat[i][j] += A[i][k] * B[k][j]\n",
        "  return Mat"
      ],
      "metadata": {
        "id": "9xh07KyAdlqj"
      },
      "execution_count": 4,
      "outputs": []
    },
    {
      "cell_type": "code",
      "source": [
        "# Max value\n",
        "def max_elem(M):\n",
        "    maxval = M[0][0]\n",
        "    imax, jmax = 0, 0\n",
        "    for i in range(len(M)):\n",
        "        for j in range(len(M)):\n",
        "            if M[i][j] > maxval:\n",
        "                maxval = M[i][j]\n",
        "                imax, jmax = i, j\n",
        "    return imax, jmax"
      ],
      "metadata": {
        "id": "JdPm23-Fdlty"
      },
      "execution_count": 7,
      "outputs": []
    },
    {
      "cell_type": "code",
      "source": [
        "# Min value\n",
        "def min_elem(M):\n",
        "    minval = M[0][0]\n",
        "    imin, jmin = 0, 0\n",
        "    for i in range(len(M)):\n",
        "        for j in range(len(M)):\n",
        "            if M[i][j] < minval:\n",
        "                minval = M[i][j]\n",
        "                imin, jmin = i, j\n",
        "    return imin, jmin"
      ],
      "metadata": {
        "id": "-SDeuGIFdlw8"
      },
      "execution_count": 6,
      "outputs": []
    },
    {
      "cell_type": "code",
      "source": [
        "# Diagonal\n",
        "def diagonal(A):\n",
        "  l = []\n",
        "  for i in range(len(A)):\n",
        "    for j in range(len(A)):\n",
        "      if i == j:\n",
        "        l.append(A[i][j])\n",
        "  return l "
      ],
      "metadata": {
        "id": "zxQbRIIwdlz-"
      },
      "execution_count": 5,
      "outputs": []
    },
    {
      "cell_type": "code",
      "source": [
        "# Lower triangle\n",
        "def Lower_triangle(A):\n",
        "  l = []\n",
        "  for i in range(len(A)):\n",
        "    for j in range(len(A)):\n",
        "      if i > j:\n",
        "        l.append(A[i][j])\n",
        "  return l "
      ],
      "metadata": {
        "id": "q2VqKe2kdl3Y"
      },
      "execution_count": 8,
      "outputs": []
    },
    {
      "cell_type": "code",
      "source": [
        "# upper triangle\n",
        "def Upper_triangle(A):\n",
        "  l = []\n",
        "  for i in range(len(A)):\n",
        "    for j in range(len(A)):\n",
        "      if i < j:\n",
        "        l.append(A[i][j])\n",
        "  return l "
      ],
      "metadata": {
        "id": "ZS7BBIaNeat1"
      },
      "execution_count": 9,
      "outputs": []
    },
    {
      "cell_type": "code",
      "source": [
        "# rotate\n",
        "def Transpose(A):\n",
        "    for i in range(len(A)):\n",
        "        for j in range(len(A)):\n",
        "          A[i][j] = A[j][i]\n",
        "    return A\n",
        "def roate(A):\n",
        "  Mat = []\n",
        "  A_new = Transpose(A)\n",
        "  for i in range(len(A_new)):\n",
        "    Mat.append([])\n",
        "    for j in range(len(A_new)-1,-1,-1):\n",
        "      Mat[i].append(A_new[i][j])\n",
        "  return Mat"
      ],
      "metadata": {
        "id": "oXyAmUVxea8q"
      },
      "execution_count": 10,
      "outputs": []
    },
    {
      "cell_type": "code",
      "source": [
        "# add one \n",
        "def add_one(lis):\n",
        "  a = []\n",
        "  a.append(1)\n",
        "  a.extend(lis)\n",
        "  return a\n",
        "\n",
        "def main_function(M):\n",
        "  new_mat = []\n",
        "  for i in M:\n",
        "    new_row = add_one(i)\n",
        "    new_mat.append(new_row)\n",
        "  return new_mat"
      ],
      "metadata": {
        "id": "M1AlqNMtebA6"
      },
      "execution_count": null,
      "outputs": []
    },
    {
      "cell_type": "code",
      "source": [
        "def matrix_type(M):\n",
        "    a=True \n",
        "    b=True \n",
        "    c=True\n",
        "    for i in range(len(M)):\n",
        "        for j in range(len(M)):\n",
        "            if i!=j:\n",
        "                if M[i][j]!=0:\n",
        "                    a=False \n",
        "                if M[i][i]!=M[j][j]:\n",
        "                    b=False \n",
        "                if M[i][i]!=1:\n",
        "                    c=False \n",
        "    if a and b and c:\n",
        "        return'identity'\n",
        "    elif a and b:\n",
        "        return'scalar'\n",
        "    elif a:\n",
        "        return'diagonal'\n",
        "    else:\n",
        "        return'non-diagonal'"
      ],
      "metadata": {
        "id": "6GhMHOAYqIIN"
      },
      "execution_count": null,
      "outputs": []
    },
    {
      "cell_type": "markdown",
      "source": [
        "# Recursion"
      ],
      "metadata": {
        "id": "pd2dhA5IOoxJ"
      }
    },
    {
      "cell_type": "code",
      "source": [
        "# 1 sum of the first nn positive integers\n",
        "def triangular(n):\n",
        "    if n == 1:\n",
        "        return 1\n",
        "    return n + triangular(n-1)"
      ],
      "metadata": {
        "id": "_v3wZhK6Oqv-"
      },
      "execution_count": 1,
      "outputs": []
    },
    {
      "cell_type": "code",
      "source": [],
      "metadata": {
        "id": "J2yLDt0US3mr"
      },
      "execution_count": null,
      "outputs": []
    },
    {
      "cell_type": "code",
      "source": [
        "# 2 The factorial of a positive integer n\n",
        "def factorial(n):\n",
        "    if n == 1:\n",
        "        return 1\n",
        "    return n * factorial(n-1)"
      ],
      "metadata": {
        "id": "2J8hpthUOqy8"
      },
      "execution_count": null,
      "outputs": []
    },
    {
      "cell_type": "code",
      "source": [
        "# 3 Write a recursive function named multiply accepts two positive integers a and b\n",
        "def multiply(a, b):\n",
        "    if b== 1:\n",
        "        return a\n",
        "    return a+ multiply(a,b-1)"
      ],
      "metadata": {
        "id": "n40ud74tOq2X"
      },
      "execution_count": null,
      "outputs": []
    },
    {
      "cell_type": "code",
      "source": [
        "# 4 Write a recursive function named logarithm that accepts this positive integer xx as argument and returns log⁡2(x)log2​(x)\n",
        "\n",
        "def logarithm(x):\n",
        "    if x == 1:\n",
        "        return 0\n",
        "    return 1 + logarithm(x // 2)    "
      ],
      "metadata": {
        "id": "dW6wN_LwOrJi"
      },
      "execution_count": null,
      "outputs": []
    },
    {
      "cell_type": "code",
      "source": [
        "# 5 Write a recursive function named palindrome that accepts a string word as argument\n",
        "\n",
        "def palindrome(word):\n",
        "    if len(word) <= 1:\n",
        "        return True\n",
        "    if word[0] != word[-1]:\n",
        "        return False \n",
        "    return palindrome(word[1:-1])"
      ],
      "metadata": {
        "id": "glDGBTxpTDYu"
      },
      "execution_count": null,
      "outputs": []
    },
    {
      "cell_type": "code",
      "source": [
        "'''Write a recursive function named count that accepts the following arguments:\n",
        "L: list of words\n",
        "word: a word, could be any string\n",
        "This function should return the number of occurrences of word in L. '''\n",
        "\n",
        "def count(L, word):\n",
        "    if len(L) == 0:\n",
        "        return 0\n",
        "    if L[-1] == word:\n",
        "        return 1 + count(L[:-1], word)\n",
        "    else:\n",
        "        return count(L[:-1], word)   "
      ],
      "metadata": {
        "id": "tOLWhCdlTDbs"
      },
      "execution_count": null,
      "outputs": []
    },
    {
      "cell_type": "code",
      "source": [
        "''' Write a recursive function named uniq that accepts a non-empty list L as argument and \n",
        "returns a new list after removing all duplicates from it.'''\n",
        "\n",
        "def uniq(L):\n",
        "    if len(L) == 1:\n",
        "        return L\n",
        "    if L[0] in L[1: ]:\n",
        "        return uniq(L[1: ])\n",
        "    else:\n",
        "        return [L[0]] + uniq(L[1: ])"
      ],
      "metadata": {
        "id": "XlRCnh7CTDe0"
      },
      "execution_count": null,
      "outputs": []
    },
    {
      "cell_type": "code",
      "source": [
        "''' Write a recursive function named search that accepts the following arguments:\n",
        "(1) L: a sorted list of integers\n",
        "(2) k: integer\n",
        "The function should return True if k is found in the list L, and False otherwise.'''\n",
        "\n",
        "def search(L, k):\n",
        "    if len(L) == 0:\n",
        "        return False\n",
        "    if L[0] == k:\n",
        "        return True\n",
        "    return search(L[1: ], k)"
      ],
      "metadata": {
        "id": "L3Le090JTDiU"
      },
      "execution_count": null,
      "outputs": []
    },
    {
      "cell_type": "markdown",
      "source": [
        "# Mixed Question"
      ],
      "metadata": {
        "id": "5oZsK_M9gJvl"
      }
    },
    {
      "cell_type": "code",
      "source": [],
      "metadata": {
        "id": "bJTUtqNTgUUv"
      },
      "execution_count": null,
      "outputs": []
    },
    {
      "cell_type": "code",
      "source": [],
      "metadata": {
        "id": "02OhB3-JgUeK"
      },
      "execution_count": null,
      "outputs": []
    },
    {
      "cell_type": "code",
      "source": [],
      "metadata": {
        "id": "hk26t23LgUfJ"
      },
      "execution_count": null,
      "outputs": []
    },
    {
      "cell_type": "code",
      "source": [],
      "metadata": {
        "id": "zkI89w77gUiL"
      },
      "execution_count": null,
      "outputs": []
    },
    {
      "cell_type": "code",
      "source": [],
      "metadata": {
        "id": "OVSYZswVgUmG"
      },
      "execution_count": null,
      "outputs": []
    }
  ]
}