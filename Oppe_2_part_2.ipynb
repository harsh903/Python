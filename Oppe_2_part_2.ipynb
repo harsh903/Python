{
  "nbformat": 4,
  "nbformat_minor": 0,
  "metadata": {
    "colab": {
      "provenance": [],
      "authorship_tag": "ABX9TyMBLw/eSKpeLgCOwcII/0wz",
      "include_colab_link": true
    },
    "kernelspec": {
      "name": "python3",
      "display_name": "Python 3"
    },
    "language_info": {
      "name": "python"
    }
  },
  "cells": [
    {
      "cell_type": "markdown",
      "metadata": {
        "id": "view-in-github",
        "colab_type": "text"
      },
      "source": [
        "<a href=\"https://colab.research.google.com/github/harsh903/Python/blob/main/Oppe_2_part_2.ipynb\" target=\"_parent\"><img src=\"https://colab.research.google.com/assets/colab-badge.svg\" alt=\"Open In Colab\"/></a>"
      ]
    },
    {
      "cell_type": "markdown",
      "source": [
        "Sorting"
      ],
      "metadata": {
        "id": "wMcH4FFKmDJu"
      }
    },
    {
      "cell_type": "code",
      "source": [
        "list1 = [1,5,3,2,7,4]"
      ],
      "metadata": {
        "id": "D9kD1ZxJVi3-"
      },
      "execution_count": null,
      "outputs": []
    },
    {
      "cell_type": "code",
      "source": [
        "def acceding_sort(l):\n",
        "  for i in range(len(l)-1):  \n",
        "    for j in range(len(l)-1):  \n",
        "      if(l[j]<l[j+1]):\n",
        "        l[j] ,l[j+1] = l[j+1],l[j]\n",
        "  return l"
      ],
      "metadata": {
        "id": "qBsHzxD5W6q2"
      },
      "execution_count": null,
      "outputs": []
    },
    {
      "cell_type": "code",
      "source": [
        "def descending_sort(l):\n",
        "  for i in range(len(l)-1):  \n",
        "    for j in range(len(l)-1):  \n",
        "      if(l[j]>l[j+1]):\n",
        "        l[j] ,l[j+1] = l[j+1],l[j]\n",
        "  return l"
      ],
      "metadata": {
        "id": "jfae9IOrXdOA"
      },
      "execution_count": null,
      "outputs": []
    },
    {
      "cell_type": "code",
      "source": [
        "acceding_sort(list1)"
      ],
      "metadata": {
        "colab": {
          "base_uri": "https://localhost:8080/"
        },
        "id": "Eb00mQzPYOTw",
        "outputId": "9fcb6d77-ddf3-4b5d-e957-0b8507257995"
      },
      "execution_count": null,
      "outputs": [
        {
          "output_type": "execute_result",
          "data": {
            "text/plain": [
              "[7, 5, 4, 3, 2, 1]"
            ]
          },
          "metadata": {},
          "execution_count": 19
        }
      ]
    },
    {
      "cell_type": "code",
      "source": [
        "descending_sort(list1)"
      ],
      "metadata": {
        "colab": {
          "base_uri": "https://localhost:8080/"
        },
        "id": "2xo8h0QDYOVL",
        "outputId": "ba98bc46-ac9d-4685-e467-e4e9ff4d8f51"
      },
      "execution_count": null,
      "outputs": [
        {
          "output_type": "execute_result",
          "data": {
            "text/plain": [
              "[1, 2, 3, 4, 5, 7]"
            ]
          },
          "metadata": {},
          "execution_count": 20
        }
      ]
    },
    {
      "cell_type": "markdown",
      "source": [
        "Longest streak"
      ],
      "metadata": {
        "id": "BFgbJvYpmG9p"
      }
    },
    {
      "cell_type": "code",
      "source": [
        "# longest streak\n",
        "def longest_streak(l):\n",
        "  count = 0\n",
        "  maxim = -1\n",
        "  for score in l:\n",
        "    if score >= 100:\n",
        "      count += 1\n",
        "      if maxim < count:\n",
        "        maxim = count\n",
        "    elif score < 100:\n",
        "      count = 0\n",
        "  return maxim"
      ],
      "metadata": {
        "id": "Nb7ftckSgnNb"
      },
      "execution_count": null,
      "outputs": []
    },
    {
      "cell_type": "code",
      "source": [
        "list2 = [150,20,0,100,120,201,50,101,141,40,20]"
      ],
      "metadata": {
        "id": "fd5SUFrChTwI"
      },
      "execution_count": null,
      "outputs": []
    },
    {
      "cell_type": "code",
      "source": [
        "longest_streak(list2)"
      ],
      "metadata": {
        "colab": {
          "base_uri": "https://localhost:8080/"
        },
        "id": "87rpWLgOgnUL",
        "outputId": "c2412705-76cb-427c-d9fe-90ed2fe4cf10"
      },
      "execution_count": null,
      "outputs": [
        {
          "output_type": "execute_result",
          "data": {
            "text/plain": [
              "3"
            ]
          },
          "metadata": {},
          "execution_count": 8
        }
      ]
    },
    {
      "cell_type": "code",
      "source": [
        "# Equidistance\n",
        "def equidistance(Points,P,d):\n",
        "  count = 0 \n",
        "  for point in Points:\n",
        "    if abs(point[0]-P[0]) + abs(point[1]-P[1]) ==d:\n",
        "      count += 1\n",
        "  return count"
      ],
      "metadata": {
        "id": "-l6WTfXKiOhN"
      },
      "execution_count": null,
      "outputs": []
    },
    {
      "cell_type": "code",
      "source": [
        "Points = [(0,0),(2,0),(1,1),(1,-1),(3,0)]\n",
        "P = (1,0)\n",
        "d = 1"
      ],
      "metadata": {
        "id": "bfiHbfI4iOpB"
      },
      "execution_count": null,
      "outputs": []
    },
    {
      "cell_type": "code",
      "source": [
        "equidistance(Points,P,d)"
      ],
      "metadata": {
        "colab": {
          "base_uri": "https://localhost:8080/"
        },
        "id": "fQmw77AfiOr2",
        "outputId": "b819be1f-f144-495d-ceaf-de0dfe311e8b"
      },
      "execution_count": null,
      "outputs": [
        {
          "output_type": "execute_result",
          "data": {
            "text/plain": [
              "4"
            ]
          },
          "metadata": {},
          "execution_count": 32
        }
      ]
    },
    {
      "cell_type": "markdown",
      "source": [
        "Dictionary"
      ],
      "metadata": {
        "id": "w3-AcD5YmPTQ"
      }
    },
    {
      "cell_type": "code",
      "source": [
        "# Digit count question\n",
        "def digit_count(n):\n",
        "  d = dict()\n",
        "  for t in range(10):\n",
        "    d[t] = 0\n",
        "  for digit in range(1, n+1):\n",
        "    a = str(digit)\n",
        "    for i in a:\n",
        "      d[int(i)] += 1\n",
        "  return d"
      ],
      "metadata": {
        "id": "rJDH0aIdmOdH"
      },
      "execution_count": null,
      "outputs": []
    },
    {
      "cell_type": "code",
      "source": [
        "digit_count(15)"
      ],
      "metadata": {
        "id": "Rrkh7mR-iOs8",
        "colab": {
          "base_uri": "https://localhost:8080/"
        },
        "outputId": "278b1491-35c8-443d-f41c-33f3be343c0d"
      },
      "execution_count": null,
      "outputs": [
        {
          "output_type": "execute_result",
          "data": {
            "text/plain": [
              "{0: 1, 1: 8, 2: 2, 3: 2, 4: 2, 5: 2, 6: 1, 7: 1, 8: 1, 9: 1}"
            ]
          },
          "metadata": {},
          "execution_count": 2
        }
      ]
    },
    {
      "cell_type": "code",
      "source": [
        "\n",
        "def matrix_type(M):\n",
        "    n = len(M)\n",
        "    is_diag = True\n",
        "    for i in range(n):\n",
        "        for j in range(n):\n",
        "            if i != j and M[i][j] != 0:\n",
        "                is_diag = False\n",
        "                break\n",
        "\n",
        "    if is_diag:\n",
        "        is_scalar = True\n",
        "    else:\n",
        "        is_scalar = False\n",
        "\n",
        "    if is_scalar:\n",
        "        l = M[0][0]\n",
        "        for i in range(n):\n",
        "            if M[i][i] != l:\n",
        "                is_scalar = False\n",
        "                break\n",
        "\n",
        "    if is_scalar:\n",
        "        is_iden = True\n",
        "    else:\n",
        "        is_iden = False\n",
        "        \n",
        "    if is_iden:\n",
        "        for i in range(n):\n",
        "            if M[i][i] != 1:\n",
        "                is_iden = False\n",
        "                break\n",
        "\n",
        "    if not is_diag:\n",
        "        return 'non-diagonal'\n",
        "    if is_iden:\n",
        "        return 'identity'\n",
        "    if is_scalar:\n",
        "        return 'scalar'\n",
        "    return 'diagonal'"
      ],
      "metadata": {
        "id": "gwmSIf7FZ6IZ"
      },
      "execution_count": null,
      "outputs": []
    },
    {
      "cell_type": "code",
      "source": [
        "M = [[1,0],[0,1]]"
      ],
      "metadata": {
        "id": "lGawqDauNqMi"
      },
      "execution_count": null,
      "outputs": []
    },
    {
      "cell_type": "code",
      "source": [
        "matrix_type(M)"
      ],
      "metadata": {
        "colab": {
          "base_uri": "https://localhost:8080/",
          "height": 35
        },
        "id": "EYLkjp72NqNs",
        "outputId": "c7e71b87-ef32-46ac-c86c-258f99d2e840"
      },
      "execution_count": null,
      "outputs": [
        {
          "output_type": "execute_result",
          "data": {
            "text/plain": [
              "'identity'"
            ],
            "application/vnd.google.colaboratory.intrinsic+json": {
              "type": "string"
            }
          },
          "metadata": {},
          "execution_count": 3
        }
      ]
    },
    {
      "cell_type": "code",
      "source": [
        "def max_elem(M):\n",
        "    maxval = M[0][0]\n",
        "    imax, jmax = 0, 0\n",
        "    n = len(M)\n",
        "    for i in range(n):\n",
        "        for j in range(n):\n",
        "            if M[i][j] > maxval:\n",
        "                maxval = M[i][j]\n",
        "                imax, jmax = i, j\n",
        "    return imax, jmax"
      ],
      "metadata": {
        "id": "70Bwh6sENqOs"
      },
      "execution_count": null,
      "outputs": []
    },
    {
      "cell_type": "code",
      "source": [
        "max_elem(M)"
      ],
      "metadata": {
        "colab": {
          "base_uri": "https://localhost:8080/"
        },
        "id": "kOO8wc__PJP2",
        "outputId": "43fbd02a-103b-4019-f02e-16ca221df8d1"
      },
      "execution_count": null,
      "outputs": [
        {
          "output_type": "execute_result",
          "data": {
            "text/plain": [
              "(0, 0)"
            ]
          },
          "metadata": {},
          "execution_count": 5
        }
      ]
    },
    {
      "cell_type": "code",
      "source": [
        "M1 = [[123, -123, 0], [19, 300, 500], [-1, -100, -200]]"
      ],
      "metadata": {
        "id": "3HwZXl39PJRK"
      },
      "execution_count": null,
      "outputs": []
    },
    {
      "cell_type": "code",
      "source": [
        "max_elem(M1)"
      ],
      "metadata": {
        "colab": {
          "base_uri": "https://localhost:8080/"
        },
        "id": "hn-wu3ZMPJSX",
        "outputId": "1ce734d3-6aaf-41b4-a534-e11448995f87"
      },
      "execution_count": null,
      "outputs": [
        {
          "output_type": "execute_result",
          "data": {
            "text/plain": [
              "(1, 2)"
            ]
          },
          "metadata": {},
          "execution_count": 7
        }
      ]
    },
    {
      "cell_type": "code",
      "source": [
        "def dict_to_list(D):\n",
        "    L = [ ]\n",
        "    for key in D:\n",
        "        L.append((key, D[key]))\n",
        "    return L"
      ],
      "metadata": {
        "id": "AQYhdhgFPJTe"
      },
      "execution_count": null,
      "outputs": []
    },
    {
      "cell_type": "code",
      "source": [
        "def list_to_dict(L):\n",
        "    D = dict()\n",
        "    for key, value in L:\n",
        "        D[key] = value\n",
        "    return D"
      ],
      "metadata": {
        "id": "1BrDfgB8NHAI"
      },
      "execution_count": null,
      "outputs": []
    },
    {
      "cell_type": "code",
      "source": [
        "def get_marks(scores_dataset, subject):\n",
        "    L = [ ]\n",
        "    for student in scores_dataset:\n",
        "        marks = student[subject]\n",
        "        name = student['Name']\n",
        "        L.append((name, marks))\n",
        "    return L"
      ],
      "metadata": {
        "id": "QG6qkjWMNHDA"
      },
      "execution_count": null,
      "outputs": []
    },
    {
      "cell_type": "code",
      "source": [
        "# Refer PPA-6 of week-6 to understand how get_marks\n",
        "def get_marks(scores_dataset, subject, gender):\n",
        "    L = [ ]\n",
        "    for student in scores_dataset:\n",
        "        if student['Gender'] == gender:\n",
        "            marks = student[subject]\n",
        "            name = student['Name']\n",
        "            L.append((name, marks))\n",
        "    return L\n",
        "\n",
        "def get_toppers(scores_dataset, subject, gender):\n",
        "    # get the list of tuples\n",
        "    L = get_marks(scores_dataset, subject, gender)\n",
        "    toppers = [ ]\n",
        "    maxmarks = 0\n",
        "    for i in range(len(L)):\n",
        "        # L[i][0] -> name, L[i][1] -> marks \n",
        "        if L[i][1] > maxmarks:\n",
        "            maxmarks = L[i][1]\n",
        "            # if a new max is found,\n",
        "            # create a new list and add L[i][0] as first element\n",
        "            toppers = [L[i][0]]\n",
        "        # if two have obtained same maximum, just append L[i][0] to current list\n",
        "        elif L[i][1] == maxmarks:\n",
        "            toppers.append(L[i][0])\n",
        "    return toppers"
      ],
      "metadata": {
        "id": "0w1M0Yhof_yy"
      },
      "execution_count": null,
      "outputs": []
    },
    {
      "cell_type": "code",
      "source": [
        "# Refer PPA-1 of week-6 for this function\n",
        "def words_to_frequency(words):\n",
        "    freq_dict = dict()\n",
        "    for word in words:\n",
        "        if word not in freq_dict:\n",
        "            freq_dict[word] = 0\n",
        "        freq_dict[word] += 1\n",
        "    return freq_dict\n",
        "\n",
        "def freq_to_words(words):\n",
        "    freq_dict = words_to_frequency(words)\n",
        "\n",
        "    result = dict()\n",
        "    for word in freq_dict:\n",
        "        freq = freq_dict[word]\n",
        "        if freq not in result:\n",
        "            result[freq] = [ ]\n",
        "        result[freq].append(word)\n",
        "\n",
        "    return result"
      ],
      "metadata": {
        "id": "nxD34ziug03Z"
      },
      "execution_count": null,
      "outputs": []
    },
    {
      "cell_type": "code",
      "source": [
        "def words_to_frequency(words):\n",
        "    freq_dict = dict()\n",
        "    for word in words:\n",
        "        if word not in freq_dict:\n",
        "            freq_dict[word] = 0\n",
        "        freq_dict[word] += 1\n",
        "    return freq_dict"
      ],
      "metadata": {
        "id": "INmNQ4hWg9S7"
      },
      "execution_count": null,
      "outputs": []
    },
    {
      "cell_type": "code",
      "source": [
        "w = ['a', 'random', 'collection', 'a', 'another', 'a', 'random']"
      ],
      "metadata": {
        "id": "jlX4Xj7ihHHc"
      },
      "execution_count": null,
      "outputs": []
    },
    {
      "cell_type": "code",
      "source": [
        "words_to_frequency(w)"
      ],
      "metadata": {
        "colab": {
          "base_uri": "https://localhost:8080/"
        },
        "id": "XdzzI091g08V",
        "outputId": "0186061d-38ae-4c30-8ca9-2c793886fbe6"
      },
      "execution_count": null,
      "outputs": [
        {
          "output_type": "execute_result",
          "data": {
            "text/plain": [
              "{'a': 3, 'random': 2, 'collection': 1, 'another': 1}"
            ]
          },
          "metadata": {},
          "execution_count": 4
        }
      ]
    },
    {
      "cell_type": "code",
      "source": [
        "freq_to_words(w)"
      ],
      "metadata": {
        "colab": {
          "base_uri": "https://localhost:8080/"
        },
        "id": "4OtysTSINnHY",
        "outputId": "48d0e6db-36e5-45be-ab3f-0e2a32e25c36"
      },
      "execution_count": null,
      "outputs": [
        {
          "output_type": "execute_result",
          "data": {
            "text/plain": [
              "{3: ['a'], 2: ['random'], 1: ['collection', 'another']}"
            ]
          },
          "metadata": {},
          "execution_count": 5
        }
      ]
    },
    {
      "cell_type": "code",
      "source": [
        "L_marks = [('Harish', 80), ('Ram', 90), ('Harshita', 80)]"
      ],
      "metadata": {
        "id": "iexrCE95g09V"
      },
      "execution_count": null,
      "outputs": []
    },
    {
      "cell_type": "code",
      "source": [
        "def two_level_sort(scores):\n",
        "    sorted_L = [ ]\n",
        "    while scores != [ ]:\n",
        "        # minentry[0] -> name, minentry[1] -> score\n",
        "        minentry = scores[0]\n",
        "        for i in range(len(scores)):\n",
        "            # scores[i][0] -> name, scores[i][1] -> marks\n",
        "            if scores[i][1] < minentry[1]:\n",
        "                minentry = scores[i]\n",
        "            # If scores are equal, check for alphabetical order\n",
        "            elif (scores[i][1] == minentry[1] and\n",
        "                  scores[i][0] < minentry[0]):\n",
        "                minentry = scores[i]\n",
        "        sorted_L.append(minentry)\n",
        "        scores.remove(minentry)\n",
        "\n",
        "    return sorted_L"
      ],
      "metadata": {
        "id": "C4ZQS9Xyg1A1"
      },
      "execution_count": null,
      "outputs": []
    },
    {
      "cell_type": "code",
      "source": [
        "two_level_sort(L_marks)"
      ],
      "metadata": {
        "colab": {
          "base_uri": "https://localhost:8080/"
        },
        "id": "NcjRwp2TyQXd",
        "outputId": "1859af03-325b-4667-dfc9-f0be43a5e0d0"
      },
      "execution_count": null,
      "outputs": [
        {
          "output_type": "execute_result",
          "data": {
            "text/plain": [
              "[('Harish', 80), ('Harshita', 80), ('Ram', 90)]"
            ]
          },
          "metadata": {},
          "execution_count": 9
        }
      ]
    },
    {
      "cell_type": "code",
      "source": [
        "results = [ ]\n",
        "for i in range(8):\n",
        "    L = input().split(',')\n",
        "    winner = L[0]       # the first team is the winner\n",
        "    losers = L[1: ]     # all these teams have lost to the winner\n",
        "    # we only need the number of wins and the winning team\n",
        "    results.append((winner, len(losers)))\n",
        "print(results)\n",
        "table = [ ]\n",
        "# two-level-sort\n",
        "# refer GrPA-4 of week-6\n",
        "# we first sort by points, then by name\n",
        "while results != [ ]:\n",
        "    maxteam = results[0]\n",
        "    for i in range(len(results)):\n",
        "        team = results[i]\n",
        "        if team[1] > maxteam[1]:\n",
        "            maxteam = team\n",
        "        elif team[1] == maxteam[1] and team[0] < maxteam[0]:\n",
        "            maxteam = team\n",
        "    results.remove(maxteam)\n",
        "    table.append(maxteam)\n",
        "\n",
        "for team in table:\n",
        "    print(f'{team[0]}:{team[1]}')"
      ],
      "metadata": {
        "colab": {
          "base_uri": "https://localhost:8080/"
        },
        "id": "zu05s-Kq09mM",
        "outputId": "d31ea2e0-b811-41d8-c30b-ca4a1358eb76"
      },
      "execution_count": null,
      "outputs": [
        {
          "output_type": "stream",
          "name": "stdout",
          "text": [
            "CSK,DC,MI,PK\n",
            "DC,RR,RCB,SH\n",
            "KKR,CSK,DC,RR,MI\n",
            "MI,DC,RCB,RR\n",
            "PK,DC,KKR,MI,RCB\n",
            "RR,CSK,PK,SH\n",
            "RCB,CSK,KKR,RR\n",
            "SH,CSK,KKR,MI,PK,RCB\n",
            "[('CSK', 3), ('DC', 3), ('KKR', 4), ('MI', 3), ('PK', 4), ('RR', 3), ('RCB', 3), ('SH', 5)]\n",
            "SH:5\n",
            "KKR:4\n",
            "PK:4\n",
            "CSK:3\n",
            "DC:3\n",
            "MI:3\n",
            "RCB:3\n",
            "RR:3\n"
          ]
        }
      ]
    },
    {
      "cell_type": "code",
      "source": [
        "# confusion\n",
        "def merge(D1, D2, priority):\n",
        "    if priority == 'second':\n",
        "        return merge(D2, D1, 'first')\n",
        "    D = dict()\n",
        "    # First copy all key-value pairs in D1 to D\n",
        "    for key in D1:\n",
        "        value = D1[key]\n",
        "        D[key] = value\n",
        "    # Copy all those key-value pairs in D2 to D\n",
        "    # where the key is not already present in D\n",
        "    for key in D2:\n",
        "        value = D2[key]\n",
        "        if key not in D:\n",
        "            D[key] = value\n",
        "    return D"
      ],
      "metadata": {
        "id": "JLYn1gVG2wjM"
      },
      "execution_count": null,
      "outputs": []
    },
    {
      "cell_type": "code",
      "source": [
        "n = int(input())\n",
        "station_dict = dict()\n",
        "\n",
        "while n > 0:\n",
        "    train = input()\n",
        "    num_comps = int(input())\n",
        "    train_dict = dict()\n",
        "    for i in range(num_comps):\n",
        "        comp, count = input().split(',')\n",
        "        train_dict[comp] = int(count)\n",
        "    station_dict[train] = train_dict\n",
        "    n = n - 1"
      ],
      "metadata": {
        "id": "DEp9IsgW313O"
      },
      "execution_count": null,
      "outputs": []
    },
    {
      "cell_type": "code",
      "source": [
        "pno = input()\n",
        "cpno = ''\n",
        "count = 0\n",
        "for char in pno:\n",
        "    if char == 'o':\n",
        "        cpno = cpno + '0'\n",
        "        count += 1\n",
        "    elif char == 'l':\n",
        "        cpno = cpno + '1'\n",
        "        count += 1\n",
        "    else:\n",
        "        cpno = cpno + char\n",
        "\n",
        "if count == 0:\n",
        "    print('No mistakes')\n",
        "else:\n",
        "    print(f'{count} mistakes')\n",
        "    print(cpno)"
      ],
      "metadata": {
        "colab": {
          "base_uri": "https://localhost:8080/"
        },
        "id": "5H2oteOOFh0J",
        "outputId": "e637d6d4-6567-4f07-cb92-dcfe38b0b600"
      },
      "execution_count": null,
      "outputs": [
        {
          "output_type": "stream",
          "name": "stdout",
          "text": [
            "987o35l7o4\n",
            "3 mistakes\n",
            "9870351704\n"
          ]
        }
      ]
    },
    {
      "cell_type": "code",
      "source": [
        "L = list(eval(input()))\n",
        "mid = len(L) // 2\n",
        "\n",
        "lsum, rsum = 0, 0\n",
        "for i in range(mid):\n",
        "    lsum = lsum + L[i]\n",
        "    rsum = rsum + L[mid + i]\n",
        "\n",
        "if lsum == rsum:\n",
        "    print('balanced')\n",
        "elif lsum > rsum:\n",
        "    print('left-heavy')\n",
        "else:\n",
        "    print('right-heavy')"
      ],
      "metadata": {
        "id": "XIfp4SYlFh1z"
      },
      "execution_count": null,
      "outputs": []
    },
    {
      "cell_type": "code",
      "source": [
        "def exact_count(para, n):\n",
        "    D = dict()\n",
        "    for word in para.split(' '):\n",
        "        if word not in D:\n",
        "            D[word] = 0\n",
        "        D[word] += 1\n",
        "    for word in D:\n",
        "        if D[word] == n:\n",
        "            return True\n",
        "        else:\n",
        "          return False"
      ],
      "metadata": {
        "id": "wfEfAHIdFh5u"
      },
      "execution_count": null,
      "outputs": []
    },
    {
      "cell_type": "code",
      "source": [
        "para = 'true true true false false false true false false true'"
      ],
      "metadata": {
        "id": "NNUgMP_XFh9q"
      },
      "execution_count": null,
      "outputs": []
    },
    {
      "cell_type": "code",
      "source": [
        "n = 5"
      ],
      "metadata": {
        "id": "B2mZQVErFiCh"
      },
      "execution_count": null,
      "outputs": []
    },
    {
      "cell_type": "code",
      "source": [
        "exact_count(para,n)"
      ],
      "metadata": {
        "colab": {
          "base_uri": "https://localhost:8080/"
        },
        "id": "xOsmAyEoFiGa",
        "outputId": "0eacaeaa-ae8d-4465-8ed4-19b6dbf69437"
      },
      "execution_count": null,
      "outputs": [
        {
          "output_type": "execute_result",
          "data": {
            "text/plain": [
              "True"
            ]
          },
          "metadata": {},
          "execution_count": 19
        }
      ]
    },
    {
      "cell_type": "code",
      "source": [
        "def get_summary(trans):\n",
        "    summary = list()\n",
        "    for T in trans:\n",
        "        D = {'TID': T['TID']}\n",
        "        val = 0\n",
        "        for item in T['Items']:\n",
        "            val = val + item['Price'] * item['Qty']\n",
        "        D['Cost'] = val\n",
        "        summary.append(D)\n",
        "    return summary"
      ],
      "metadata": {
        "id": "1_9oZldSFiJ4"
      },
      "execution_count": null,
      "outputs": []
    },
    {
      "cell_type": "code",
      "source": [
        "def crowded_group(scores, sub, mark_limit):\n",
        "    L = [ ]\n",
        "    for st in scores:\n",
        "        L.append(st[sub])\n",
        "    L.sort()\n",
        "    gsize = 1\n",
        "    for i in range(len(L)):\n",
        "        for j in range(i, len(L)):\n",
        "            if L[j] - L[i] <= mark_limit:\n",
        "                if j - i + 1 > gsize:\n",
        "                    gsize = j - i + 1\n",
        "    return gsize"
      ],
      "metadata": {
        "id": "7pS_0K7iFiNf"
      },
      "execution_count": null,
      "outputs": []
    },
    {
      "cell_type": "code",
      "source": [
        "area = int(input())\n",
        "for i in range(1, area + 1):\n",
        "    if area % i == 0:\n",
        "        a, b = i, area // i\n",
        "        if a > b:\n",
        "            continue\n",
        "        print(a, b, sep = ',')"
      ],
      "metadata": {
        "id": "9dDum_TdK2Fe"
      },
      "execution_count": null,
      "outputs": []
    },
    {
      "cell_type": "code",
      "source": [
        "def max_elem(M):\n",
        "    maxval = M[0][0]\n",
        "    imax, jmax = 0, 0\n",
        "    n = len(M)\n",
        "    for i in range(n):\n",
        "        for j in range(n):\n",
        "            if M[i][j] > maxval:\n",
        "                maxval = M[i][j]\n",
        "                imax, jmax = i, j\n",
        "    return imax, jmax"
      ],
      "metadata": {
        "id": "2OuB8CuLLXwp"
      },
      "execution_count": null,
      "outputs": []
    },
    {
      "cell_type": "code",
      "source": [
        "def is_reachable(grid):\n",
        "    n = len(grid)\n",
        "    for i in range(n):\n",
        "        for j in range(n):\n",
        "            if grid[i][j] == 'G':\n",
        "                food = (i, j)\n",
        "            elif grid[i][j] == 'B':\n",
        "                ant = (i, j)\n",
        "    if food[0] <= ant[0] and food[1] >= ant[1]:\n",
        "        steps = (ant[0] - food[0]) + (food[1] - ant[1])\n",
        "        return (True, steps)\n",
        "    return (False, None)"
      ],
      "metadata": {
        "id": "WdwQLbIrLXxx"
      },
      "execution_count": null,
      "outputs": []
    },
    {
      "cell_type": "markdown",
      "source": [
        "Matrix"
      ],
      "metadata": {
        "id": "VpIqCn77cHUU"
      }
    },
    {
      "cell_type": "code",
      "source": [
        "# Adition \n",
        "X = [[1,2,3],\n",
        "    [4 ,5,6],\n",
        "    [7 ,8,9]]\n",
        " \n",
        "Y = [[9,8,7],\n",
        "    [6,5,4],\n",
        "    [3,2,1]]"
      ],
      "metadata": {
        "id": "PVXFVFnbLX1S"
      },
      "execution_count": null,
      "outputs": []
    },
    {
      "cell_type": "code",
      "source": [
        "def add_mat(A,B):\n",
        "  Mat = []\n",
        "  for i in range(len(A)):\n",
        "    Mat.append([])\n",
        "    for j in range(len(A[0])):\n",
        "      add = A[i][j] + B[i][j]\n",
        "      Mat[i].append(add)\n",
        "  return Mat"
      ],
      "metadata": {
        "id": "6wE2o5CtuTP-"
      },
      "execution_count": null,
      "outputs": []
    },
    {
      "cell_type": "code",
      "source": [
        "add_mat(X,Y)"
      ],
      "metadata": {
        "colab": {
          "base_uri": "https://localhost:8080/"
        },
        "id": "xj-Wo9DouxER",
        "outputId": "449b532d-f85f-4c8f-c219-9b76e6015ebe"
      },
      "execution_count": null,
      "outputs": [
        {
          "output_type": "execute_result",
          "data": {
            "text/plain": [
              "[[10, 10, 10], [10, 10, 10], [10, 10, 10]]"
            ]
          },
          "metadata": {},
          "execution_count": 16
        }
      ]
    },
    {
      "cell_type": "code",
      "source": [
        "def multipy_mat(A,B):\n",
        "  Mat = []\n",
        "  for i in range(len(A)):\n",
        "    Mat.append([])\n",
        "    for j in range(len(A[0])):\n",
        "      Mat[i].append(0)\n",
        "  for i in range(len(A)):\n",
        "    for j in range(len(A[0])):\n",
        "      for k in range(len(B)):\n",
        "        Mat[i][j] += A[i][k] * B[k][j]\n",
        "  return Mat"
      ],
      "metadata": {
        "id": "2FUFCP9pxb0C"
      },
      "execution_count": null,
      "outputs": []
    },
    {
      "cell_type": "code",
      "source": [
        "A = [ [1, 2,3],[6, 7, 4], [8, 10, 11] ]\n",
        "  \n",
        "B = [[1, 5, 3],[2, 6, 5], [7, 4, 9] ]"
      ],
      "metadata": {
        "id": "bmfAzSAZh3Fe"
      },
      "execution_count": null,
      "outputs": []
    },
    {
      "cell_type": "code",
      "source": [
        "A1 = [ [1, 2],[6, 7]]\n",
        "  \n",
        "B1 = [[1, 5],[2, 6]] "
      ],
      "metadata": {
        "id": "xV3IcE_pjDoR"
      },
      "execution_count": null,
      "outputs": []
    },
    {
      "cell_type": "code",
      "source": [
        "multipy_mat(A,B)"
      ],
      "metadata": {
        "colab": {
          "base_uri": "https://localhost:8080/"
        },
        "id": "WeXvDHPpjVgB",
        "outputId": "0345b6c8-30de-4f05-c20d-5d61afedaa85"
      },
      "execution_count": null,
      "outputs": [
        {
          "output_type": "execute_result",
          "data": {
            "text/plain": [
              "[[26, 29, 40], [48, 88, 89], [105, 144, 173]]"
            ]
          },
          "metadata": {},
          "execution_count": 34
        }
      ]
    },
    {
      "cell_type": "code",
      "source": [
        "multipy_mat(A,B)"
      ],
      "metadata": {
        "colab": {
          "base_uri": "https://localhost:8080/"
        },
        "id": "ZzWD5MEb0wvW",
        "outputId": "7ef83ef5-6030-4cf7-c433-35b15e05bcbd"
      },
      "execution_count": null,
      "outputs": [
        {
          "output_type": "execute_result",
          "data": {
            "text/plain": [
              "[[26, 29, 40], [48, 88, 89], [105, 144, 173]]"
            ]
          },
          "metadata": {},
          "execution_count": 32
        }
      ]
    },
    {
      "cell_type": "code",
      "source": [
        "multipy_mat(A1,B1)"
      ],
      "metadata": {
        "colab": {
          "base_uri": "https://localhost:8080/"
        },
        "id": "HkOHZBlt0xb4",
        "outputId": "e785067a-327f-42e6-c49c-f59ce5a3c369"
      },
      "execution_count": null,
      "outputs": [
        {
          "output_type": "execute_result",
          "data": {
            "text/plain": [
              "[[5, 17], [20, 72]]"
            ]
          },
          "metadata": {},
          "execution_count": 33
        }
      ]
    },
    {
      "cell_type": "code",
      "source": [
        "n = int(input())\n",
        "\n",
        "# Accept matrix A\n",
        "A = [ ]\n",
        "for i in range(n):\n",
        "    row = [ ]\n",
        "    for x in input().split(','):\n",
        "        row.append(int(x))\n",
        "    A.append(row)\n",
        "\n",
        "# Accept matrix B    \n",
        "B = [ ]\n",
        "for i in range(n):\n",
        "    row = [ ]\n",
        "    for x in input().split(','):\n",
        "        row.append(int(x))\n",
        "    B.append(row)\n",
        "\n",
        "# Initialize matrix C as a zero-matrix\n",
        "C = [ ]\n",
        "for i in range(n):\n",
        "    row = [ ]\n",
        "    for j in range(n):\n",
        "        row.append(0)\n",
        "    C.append(row)\n",
        "\n",
        "# Matrix product\n",
        "for i in range(n):\n",
        "    for j in range(n):\n",
        "        for k in range(n):\n",
        "            C[i][j] += A[i][k] * B[k][j]\n",
        "        if j != n - 1:\n",
        "            print(C[i][j], end = ',')\n",
        "        else:\n",
        "            print(C[i][j])"
      ],
      "metadata": {
        "id": "8LP0Qc5HJMa8"
      },
      "execution_count": null,
      "outputs": []
    },
    {
      "cell_type": "code",
      "source": [
        "# Max value\n",
        "def max_elem(M):\n",
        "    maxval = M[0][0]\n",
        "    imax, jmax = 0, 0\n",
        "    for i in range(len(M)):\n",
        "        for j in range(len(M)):\n",
        "            if M[i][j] > maxval:\n",
        "                maxval = M[i][j]\n",
        "                imax, jmax = i, j\n",
        "    return imax, jmax"
      ],
      "metadata": {
        "id": "XGapbK-HLX7T"
      },
      "execution_count": null,
      "outputs": []
    },
    {
      "cell_type": "code",
      "source": [
        "max_elem(A)"
      ],
      "metadata": {
        "colab": {
          "base_uri": "https://localhost:8080/"
        },
        "id": "SX9c-Q0d6xwV",
        "outputId": "7873c6d1-62a0-4b68-d462-947039c5b5da"
      },
      "execution_count": null,
      "outputs": [
        {
          "output_type": "execute_result",
          "data": {
            "text/plain": [
              "(2, 2)"
            ]
          },
          "metadata": {},
          "execution_count": 23
        }
      ]
    },
    {
      "cell_type": "code",
      "source": [
        "# Min value\n",
        "def min_elem(M):\n",
        "    minval = M[0][0]\n",
        "    imin, jmin = 0, 0\n",
        "    for i in range(len(M)):\n",
        "        for j in range(len(M)):\n",
        "            if M[i][j] < minval:\n",
        "                minval = M[i][j]\n",
        "                imin, jmin = i, j\n",
        "    return imin, jmin"
      ],
      "metadata": {
        "id": "2dG5eem-6-dU"
      },
      "execution_count": null,
      "outputs": []
    },
    {
      "cell_type": "code",
      "source": [
        "min_elem(A)"
      ],
      "metadata": {
        "colab": {
          "base_uri": "https://localhost:8080/"
        },
        "id": "87qoTK7Q7Qyu",
        "outputId": "7ea7d106-b338-4ec4-ab27-568d01c60d36"
      },
      "execution_count": null,
      "outputs": [
        {
          "output_type": "execute_result",
          "data": {
            "text/plain": [
              "(0, 0)"
            ]
          },
          "metadata": {},
          "execution_count": 27
        }
      ]
    },
    {
      "cell_type": "code",
      "source": [
        "A = [[1, 6, 8], [6, 7, 10], [8, 10, 11]]"
      ],
      "metadata": {
        "id": "9WxzXRqQSGBP"
      },
      "execution_count": null,
      "outputs": []
    },
    {
      "cell_type": "code",
      "source": [
        "def trans(M):\n",
        "  mat = [[M[j][i] for j in range(len(M))] for i in range(len(M[0]))]\n",
        "  return mat"
      ],
      "metadata": {
        "id": "QJvyDFMPcY6p"
      },
      "execution_count": null,
      "outputs": []
    },
    {
      "cell_type": "code",
      "source": [
        "trans(A)"
      ],
      "metadata": {
        "colab": {
          "base_uri": "https://localhost:8080/"
        },
        "id": "bfqJb2W9SHCc",
        "outputId": "d2b97c0c-d42c-4204-9190-4ce7fc7afa7b"
      },
      "execution_count": null,
      "outputs": [
        {
          "output_type": "execute_result",
          "data": {
            "text/plain": [
              "[[1, 6, 8], [6, 7, 10], [8, 10, 11]]"
            ]
          },
          "metadata": {},
          "execution_count": 17
        }
      ]
    },
    {
      "cell_type": "code",
      "source": [
        "# Diagonal\n",
        "def diagonal(A):\n",
        "  l = []\n",
        "  for i in range(len(A)):\n",
        "    for j in range(len(A)):\n",
        "      if i == j:\n",
        "        l.append(A[i][j])\n",
        "  return l "
      ],
      "metadata": {
        "id": "3Rpr4zaNcY8V"
      },
      "execution_count": null,
      "outputs": []
    },
    {
      "cell_type": "code",
      "source": [
        "diagonal(A)"
      ],
      "metadata": {
        "colab": {
          "base_uri": "https://localhost:8080/"
        },
        "id": "fWw1FvkMGH5C",
        "outputId": "a9b8d6a0-662e-4bb7-e7e6-c58770d0170a"
      },
      "execution_count": null,
      "outputs": [
        {
          "output_type": "execute_result",
          "data": {
            "text/plain": [
              "[1, 7, 11]"
            ]
          },
          "metadata": {},
          "execution_count": 29
        }
      ]
    },
    {
      "cell_type": "code",
      "source": [
        "# Lower triangle\n",
        "def Lower_triangle(A):\n",
        "  l = []\n",
        "  for i in range(len(A)):\n",
        "    for j in range(len(A)):\n",
        "      if i > j:\n",
        "        l.append(A[i][j])\n",
        "  return l "
      ],
      "metadata": {
        "id": "e1gLzL7xcY-S"
      },
      "execution_count": null,
      "outputs": []
    },
    {
      "cell_type": "code",
      "source": [
        "Lower_triangle(A)"
      ],
      "metadata": {
        "colab": {
          "base_uri": "https://localhost:8080/"
        },
        "id": "joHWeGJuHW5S",
        "outputId": "cde4a3ec-a005-4bd1-f6db-bd8f536d2b4d"
      },
      "execution_count": null,
      "outputs": [
        {
          "output_type": "execute_result",
          "data": {
            "text/plain": [
              "[6, 8, 10]"
            ]
          },
          "metadata": {},
          "execution_count": 31
        }
      ]
    },
    {
      "cell_type": "code",
      "source": [
        "# upper triangle\n",
        "def Upper_triangle(A):\n",
        "  l = []\n",
        "  for i in range(len(A)):\n",
        "    for j in range(len(A)):\n",
        "      if i < j:\n",
        "        l.append(A[i][j])\n",
        "  return l "
      ],
      "metadata": {
        "id": "5yk3AMMkcY_9"
      },
      "execution_count": null,
      "outputs": []
    },
    {
      "cell_type": "code",
      "source": [
        "Mat = [[1,2,3],[4,5,6]]"
      ],
      "metadata": {
        "id": "BoRWN4wZ0C6T"
      },
      "execution_count": null,
      "outputs": []
    },
    {
      "cell_type": "code",
      "source": [
        "Upper_triangle(A)"
      ],
      "metadata": {
        "colab": {
          "base_uri": "https://localhost:8080/"
        },
        "id": "-M3kb5rrHx_5",
        "outputId": "62d48a20-637d-4689-d31d-d631b81f11d0"
      },
      "execution_count": null,
      "outputs": [
        {
          "output_type": "execute_result",
          "data": {
            "text/plain": [
              "[6, 8, 10]"
            ]
          },
          "metadata": {},
          "execution_count": 33
        }
      ]
    },
    {
      "cell_type": "code",
      "source": [
        "# rotate\n",
        "def Transpose(A):\n",
        "    for i in range(len(A)):\n",
        "        for j in range(len(A)):\n",
        "          A[i][j] = A[j][i]\n",
        "    return A\n",
        "def roate(A):\n",
        "  Mat = []\n",
        "  A_new = Transpose(A)\n",
        "  for i in range(len(A_new)):\n",
        "    Mat.append([])\n",
        "    for j in range(len(A_new)-1,-1,-1):\n",
        "      Mat[i].append(A_new[i][j])\n",
        "  return Mat"
      ],
      "metadata": {
        "id": "PXP9WsaKcZDR"
      },
      "execution_count": null,
      "outputs": []
    },
    {
      "cell_type": "code",
      "source": [
        "matrix = [[1,4,7],[2,5,8],[3,6,9]]"
      ],
      "metadata": {
        "id": "tWXZTFsXtbqi"
      },
      "execution_count": null,
      "outputs": []
    },
    {
      "cell_type": "code",
      "source": [
        "roate(matrix)"
      ],
      "metadata": {
        "colab": {
          "base_uri": "https://localhost:8080/"
        },
        "id": "Iz3UN-J1touu",
        "outputId": "08622eab-80b6-4692-f662-698e4beb92fd"
      },
      "execution_count": null,
      "outputs": [
        {
          "output_type": "execute_result",
          "data": {
            "text/plain": [
              "[[3, 2, 1], [6, 5, 2], [9, 6, 3]]"
            ]
          },
          "metadata": {},
          "execution_count": 13
        }
      ]
    },
    {
      "cell_type": "code",
      "source": [
        "# Determinat\n",
        "def matrix_type(M):\n",
        "    n = len(M)\n",
        "    is_diag = True\n",
        "    for i in range(n):\n",
        "        for j in range(n):\n",
        "            if i != j and M[i][j] != 0:\n",
        "                is_diag = False\n",
        "                break\n",
        "\n",
        "    if is_diag:\n",
        "        is_scalar = True\n",
        "    else:\n",
        "        is_scalar = False\n",
        "\n",
        "    if is_scalar:\n",
        "        l = M[0][0]\n",
        "        for i in range(n):\n",
        "            if M[i][i] != l:\n",
        "                is_scalar = False\n",
        "                break\n",
        "\n",
        "    if is_scalar:\n",
        "        is_iden = True\n",
        "    else:\n",
        "        is_iden = False\n",
        "        \n",
        "    if is_iden:\n",
        "        for i in range(n):\n",
        "            if M[i][i] != 1:\n",
        "                is_iden = False\n",
        "                break\n",
        "\n",
        "    if not is_diag:\n",
        "        return 'non-diagonal'\n",
        "    if is_iden:\n",
        "        return 'identity'\n",
        "    if is_scalar:\n",
        "        return 'scalar'\n",
        "    return 'diagonal'\n",
        "\n"
      ],
      "metadata": {
        "id": "G8FV_e2LcZFQ"
      },
      "execution_count": null,
      "outputs": []
    },
    {
      "cell_type": "code",
      "source": [
        "def matrix_type(M):\n",
        "  if is_diag == True:\n",
        "    return 'diagonal'\n",
        "  elif is_scalar == True:\n",
        "      return 'scalar'\n",
        "  elif is_iden == Tu:\n",
        "        return 'identity'\n",
        "  else:\n",
        "    return 'non-diagonal'\n",
        "\n",
        "\n",
        "\n",
        "def is_diag(M):\n",
        "  for i in range(len(M)):\n",
        "    for j in range(len(M[0])):\n",
        "      if i != j and M[i][j] != 0:\n",
        "        return False\n",
        "  return True\n",
        "\n",
        "'''def is_scalar(M):\n",
        "  is_scalar = True\n",
        "  l = M[0][0]\n",
        "  for i in range(len(M)):\n",
        "    for j in range(len(M[0])):\n",
        "      if M[i][i] != l:\n",
        "        is_scalar = False\n",
        "  return is_scalar\n",
        "\n",
        "def is_iden(M):\n",
        "  is_iden = True\n",
        "  for i in range(len(M)):\n",
        "    for j in range(len(M[0])):\n",
        "      if i == j:\n",
        "        if M[i][j] != 1:\n",
        "          is_iden = False\n",
        "  return is_iden'''\n",
        "                \n"
      ],
      "metadata": {
        "colab": {
          "base_uri": "https://localhost:8080/",
          "height": 70
        },
        "id": "0AajWoDv61N-",
        "outputId": "b87b0593-b1d8-40d7-e4cd-d1f5d19fc100"
      },
      "execution_count": null,
      "outputs": [
        {
          "output_type": "execute_result",
          "data": {
            "text/plain": [
              "'def is_scalar(M):\\n  is_scalar = True\\n  l = M[0][0]\\n  for i in range(len(M)):\\n    for j in range(len(M[0])):\\n      if M[i][i] != l:\\n        is_scalar = False\\n  return is_scalar\\n\\ndef is_iden(M):\\n  is_iden = True\\n  for i in range(len(M)):\\n    for j in range(len(M[0])):\\n      if i == j:\\n        if M[i][j] != 1:\\n          is_iden = False\\n  return is_iden'"
            ],
            "application/vnd.google.colaboratory.intrinsic+json": {
              "type": "string"
            }
          },
          "metadata": {},
          "execution_count": 56
        }
      ]
    },
    {
      "cell_type": "code",
      "source": [
        "def is_diag(M):\n",
        "  for i in range(len(M)):\n",
        "    for j in range(len(M[0])):\n",
        "      if i != j and M[i][j] != 0:\n",
        "        return False\n",
        "  return True"
      ],
      "metadata": {
        "id": "hb5HOaP_G8x4"
      },
      "execution_count": null,
      "outputs": []
    },
    {
      "cell_type": "code",
      "source": [
        "def is_scalar(M):\n",
        "  if is_diag == True:\n",
        "    l = M[0][0]\n",
        "    for i in range(len(M)):\n",
        "      for j in range(len(M[0])):\n",
        "        if M[i][i] != l:\n",
        "          return False\n",
        "  return True"
      ],
      "metadata": {
        "id": "3a0rov2MHFcP"
      },
      "execution_count": null,
      "outputs": []
    },
    {
      "cell_type": "code",
      "source": [
        "a = [[1, 0], [0, 1]] #identity\n",
        "b = [[1, 2, 5], [2, 3, 5], [1, 4, 9]] #non-diagonal\n",
        "c = [[2, 0, 0], [0, 2, 0], [0, 0, 2]] # scalar\n",
        "e = [[1, 0, 1], [0, 1, 0], [0, 0, 1]] # non-diagonal\n",
        "f = [[1, 0, 0], [0, 1, 0], [0, 0, 1]] # identity\n",
        "g = [[1, 0, 0, 0], [0, 1, 0, 0], [0, 0, 1, 0], [0, 0, 0, 2]] # diagonal\n",
        "h = [[1, 0, 0, 0], [0, 2, 0, 0], [0, 0, 3, 0], [0, 0, 0, 4]] # diagonal"
      ],
      "metadata": {
        "id": "7f4RPvgw_9_s"
      },
      "execution_count": null,
      "outputs": []
    },
    {
      "cell_type": "code",
      "source": [
        "is_diag(c)"
      ],
      "metadata": {
        "colab": {
          "base_uri": "https://localhost:8080/"
        },
        "id": "NUFH-7FxAAh7",
        "outputId": "9b1ecb7e-4c91-4cf9-be9e-53b59942e320"
      },
      "execution_count": null,
      "outputs": [
        {
          "output_type": "execute_result",
          "data": {
            "text/plain": [
              "False"
            ]
          },
          "metadata": {},
          "execution_count": 63
        }
      ]
    },
    {
      "cell_type": "code",
      "source": [
        "is_scalar(f)"
      ],
      "metadata": {
        "colab": {
          "base_uri": "https://localhost:8080/"
        },
        "id": "rk9hfanPHkoG",
        "outputId": "0f23ae17-5b1d-4a54-e3c8-5d4546762f99"
      },
      "execution_count": null,
      "outputs": [
        {
          "output_type": "execute_result",
          "data": {
            "text/plain": [
              "True"
            ]
          },
          "metadata": {},
          "execution_count": 62
        }
      ]
    },
    {
      "cell_type": "code",
      "source": [
        "def is_iden(M):\n",
        "  if is_scalar == True:\n",
        "    for i in range(len(M)):\n",
        "      for j in range(len(M[0])):\n",
        "        if i == j:\n",
        "          if M[i][j] != 1:\n",
        "            return False\n",
        "  return True"
      ],
      "metadata": {
        "id": "6Z9EkC8uHzwZ"
      },
      "execution_count": null,
      "outputs": []
    },
    {
      "cell_type": "code",
      "source": [
        "def matrix_type(M):\n",
        "  if is_iden(M) ==True:\n",
        "    return 'identity'\n",
        "  if is_scalar(M)==True:\n",
        "    return 'scalar'\n",
        "  if is_diag(M)==True:\n",
        "   return 'diagonal' \n",
        "  return 'non-diagonal'\n",
        "\n",
        "\n",
        "def is_diag(M):\n",
        "  for i in range(len(M)):\n",
        "    for j in range(len(M[0])):\n",
        "      if i != j and M[i][j] != 0:\n",
        "        return False\n",
        "  return True\n",
        "\n",
        "def is_scalar(M):\n",
        "  if is_diag(M) == True:\n",
        "    l = M[0][0]\n",
        "    for i in range(len(M)):\n",
        "      for j in range(len(M[0])):\n",
        "        if M[i][j] != l:\n",
        "          return False\n",
        "  return True\n",
        "\n",
        "def is_iden(M):\n",
        "  if is_scalar(M) == True:\n",
        "    for i in range(len(M)):\n",
        "      for j in range(len(M[0])):\n",
        "        if i == j:\n",
        "          if M[i][j] != 1:\n",
        "            return False\n",
        "  return True"
      ],
      "metadata": {
        "id": "zinqkFcvIWWH"
      },
      "execution_count": null,
      "outputs": []
    },
    {
      "cell_type": "code",
      "source": [
        "matrix_type(a)"
      ],
      "metadata": {
        "colab": {
          "base_uri": "https://localhost:8080/",
          "height": 35
        },
        "id": "ObPRW58SJVDi",
        "outputId": "2ce01a0f-0c09-41c5-8ccf-84a321999920"
      },
      "execution_count": null,
      "outputs": [
        {
          "output_type": "execute_result",
          "data": {
            "text/plain": [
              "'identity'"
            ],
            "application/vnd.google.colaboratory.intrinsic+json": {
              "type": "string"
            }
          },
          "metadata": {},
          "execution_count": 4
        }
      ]
    },
    {
      "cell_type": "code",
      "source": [
        "matrix_type(b)"
      ],
      "metadata": {
        "colab": {
          "base_uri": "https://localhost:8080/",
          "height": 35
        },
        "id": "GEnAjIxpDKOi",
        "outputId": "8a79342f-7212-43b9-e883-47c5800cc23c"
      },
      "execution_count": null,
      "outputs": [
        {
          "output_type": "execute_result",
          "data": {
            "text/plain": [
              "'non-diagonal'"
            ],
            "application/vnd.google.colaboratory.intrinsic+json": {
              "type": "string"
            }
          },
          "metadata": {},
          "execution_count": 5
        }
      ]
    },
    {
      "cell_type": "code",
      "source": [
        "matrix_type(c)"
      ],
      "metadata": {
        "colab": {
          "base_uri": "https://localhost:8080/",
          "height": 35
        },
        "id": "75LVOd6kKJoj",
        "outputId": "22c56d13-79fa-4786-d2e6-e3a6e359ba25"
      },
      "execution_count": null,
      "outputs": [
        {
          "output_type": "execute_result",
          "data": {
            "text/plain": [
              "'identity'"
            ],
            "application/vnd.google.colaboratory.intrinsic+json": {
              "type": "string"
            }
          },
          "metadata": {},
          "execution_count": 6
        }
      ]
    },
    {
      "cell_type": "code",
      "source": [
        "matrix_type(e)"
      ],
      "metadata": {
        "colab": {
          "base_uri": "https://localhost:8080/",
          "height": 35
        },
        "id": "qdvyet2SKJsK",
        "outputId": "27daf45a-fcc2-44e2-92b4-a7ab10534336"
      },
      "execution_count": null,
      "outputs": [
        {
          "output_type": "execute_result",
          "data": {
            "text/plain": [
              "'non-diagonal'"
            ],
            "application/vnd.google.colaboratory.intrinsic+json": {
              "type": "string"
            }
          },
          "metadata": {},
          "execution_count": 7
        }
      ]
    },
    {
      "cell_type": "code",
      "source": [
        "matrix_type(f)"
      ],
      "metadata": {
        "colab": {
          "base_uri": "https://localhost:8080/",
          "height": 35
        },
        "id": "NbfgXa4_KJvW",
        "outputId": "7691e5e4-eafe-46b9-ed5a-b8f77fa7c8dc"
      },
      "execution_count": null,
      "outputs": [
        {
          "output_type": "execute_result",
          "data": {
            "text/plain": [
              "'identity'"
            ],
            "application/vnd.google.colaboratory.intrinsic+json": {
              "type": "string"
            }
          },
          "metadata": {},
          "execution_count": 8
        }
      ]
    },
    {
      "cell_type": "code",
      "source": [
        "matrix_type(g)"
      ],
      "metadata": {
        "colab": {
          "base_uri": "https://localhost:8080/",
          "height": 35
        },
        "id": "MuVWjML1KTyu",
        "outputId": "0f74225b-e8c3-40ea-d45d-cd86dbc2cb6c"
      },
      "execution_count": null,
      "outputs": [
        {
          "output_type": "execute_result",
          "data": {
            "text/plain": [
              "'identity'"
            ],
            "application/vnd.google.colaboratory.intrinsic+json": {
              "type": "string"
            }
          },
          "metadata": {},
          "execution_count": 15
        }
      ]
    },
    {
      "cell_type": "code",
      "source": [
        "matrix_type(h)"
      ],
      "metadata": {
        "colab": {
          "base_uri": "https://localhost:8080/",
          "height": 35
        },
        "id": "4hocUF-7LaOd",
        "outputId": "de9799b1-4845-44ad-9f56-edd1e38111e7"
      },
      "execution_count": null,
      "outputs": [
        {
          "output_type": "execute_result",
          "data": {
            "text/plain": [
              "'identity'"
            ],
            "application/vnd.google.colaboratory.intrinsic+json": {
              "type": "string"
            }
          },
          "metadata": {},
          "execution_count": 16
        }
      ]
    },
    {
      "cell_type": "code",
      "source": [
        "is_scalar(g)"
      ],
      "metadata": {
        "colab": {
          "base_uri": "https://localhost:8080/"
        },
        "id": "TJ_u8kQAK3Ol",
        "outputId": "271bd40a-ae59-4d40-a30f-a421b0c4672e"
      },
      "execution_count": null,
      "outputs": [
        {
          "output_type": "execute_result",
          "data": {
            "text/plain": [
              "False"
            ]
          },
          "metadata": {},
          "execution_count": 134
        }
      ]
    },
    {
      "cell_type": "code",
      "source": [
        "def get_column(mat, col):\n",
        "    col_list = [ ]\n",
        "    m = len(mat)\n",
        "    for row in range(m):\n",
        "        col_list.append(mat[row][col])\n",
        "    return col_list\n",
        "\n",
        "def transpose(mat):\n",
        "    m, n = len(mat), len(mat[0])\n",
        "    mat_trans = [ ]\n",
        "    for i in range(n):\n",
        "        mat_trans.append(get_column(mat, i))\n",
        "    return mat_trans\n",
        "\n",
        "def rotate(mat):\n",
        "    # Get transpose\n",
        "    mat_trans = transpose(mat)\n",
        "    rotated_mat = [ ]\n",
        "    m, n = len(mat_trans), len(mat_trans[0])\n",
        "    for i in range(m):\n",
        "        row = [ ]\n",
        "        for j in range(n):\n",
        "            # reverse the row of the transpose\n",
        "            row = [mat_trans[i][j]] + row\n",
        "        rotated_mat.append(row)\n",
        "    return rotated_mat "
      ],
      "metadata": {
        "id": "_t7H-dDV0r9F"
      },
      "execution_count": null,
      "outputs": []
    },
    {
      "cell_type": "code",
      "source": [
        "def add_one(A):\n",
        "  Mat = []\n",
        "  for i in range(len(A)):\n",
        "    for j in range(len(A[0])+1):\n",
        "      if j == 0:\n",
        "        Mat[i].append(1)\n",
        "      else:\n",
        "        Mat[i].append(A[i][j])\n",
        "\n",
        "  return Mat"
      ],
      "metadata": {
        "id": "gz-Behqf0sZW"
      },
      "execution_count": null,
      "outputs": []
    },
    {
      "cell_type": "code",
      "source": [
        "def add_one(lis):\n",
        "  a = []\n",
        "  a.append(1)\n",
        "  a.extend(lis)\n",
        "  return a"
      ],
      "metadata": {
        "id": "6A5r_WwRPwK4"
      },
      "execution_count": null,
      "outputs": []
    },
    {
      "cell_type": "code",
      "source": [
        "def main_function(M):\n",
        "  new_mat = []\n",
        "  for i in M:\n",
        "    new_row = add_one(i)\n",
        "    new_mat.append(new_row)\n",
        "  return new_mat"
      ],
      "metadata": {
        "id": "_UpbnJs7Pzxy"
      },
      "execution_count": null,
      "outputs": []
    },
    {
      "cell_type": "code",
      "source": [
        "g"
      ],
      "metadata": {
        "colab": {
          "base_uri": "https://localhost:8080/"
        },
        "id": "xgYkbbgqQ45z",
        "outputId": "6a281edd-8398-4fe9-a85c-3057c33fc765"
      },
      "execution_count": null,
      "outputs": [
        {
          "output_type": "execute_result",
          "data": {
            "text/plain": [
              "[[1, 0, 0, 0], [0, 1, 0, 0], [0, 0, 1, 0], [0, 0, 0, 2]]"
            ]
          },
          "metadata": {},
          "execution_count": 11
        }
      ]
    },
    {
      "cell_type": "code",
      "source": [
        "main_function(g)"
      ],
      "metadata": {
        "colab": {
          "base_uri": "https://localhost:8080/"
        },
        "id": "_27rZR5XQux1",
        "outputId": "7abc6614-e58f-46e2-df1e-3e7f8fe1a6ed"
      },
      "execution_count": null,
      "outputs": [
        {
          "output_type": "execute_result",
          "data": {
            "text/plain": [
              "[[1, 1, 0, 0, 0], [1, 0, 1, 0, 0], [1, 0, 0, 1, 0], [1, 0, 0, 0, 2]]"
            ]
          },
          "metadata": {},
          "execution_count": 12
        }
      ]
    },
    {
      "cell_type": "code",
      "source": [
        "coins = input()\n",
        "box = [0]*5\n",
        "\n",
        "for i in range(len(coins)):\n",
        "    box[i%5] += int(coins[i])\n",
        "print(int(box.index(max(box))+1))"
      ],
      "metadata": {
        "id": "cafWN117Mjhr"
      },
      "execution_count": null,
      "outputs": []
    }
  ]
}