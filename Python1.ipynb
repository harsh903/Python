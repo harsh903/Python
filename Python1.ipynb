{
  "nbformat": 4,
  "nbformat_minor": 0,
  "metadata": {
    "colab": {
      "name": "Python1",
      "provenance": [],
      "collapsed_sections": [],
      "authorship_tag": "ABX9TyMgLfNqW6MoruFu0dJQkAD7",
      "include_colab_link": true
    },
    "kernelspec": {
      "name": "python3",
      "display_name": "Python 3"
    },
    "language_info": {
      "name": "python"
    }
  },
  "cells": [
    {
      "cell_type": "markdown",
      "metadata": {
        "id": "view-in-github",
        "colab_type": "text"
      },
      "source": [
        "<a href=\"https://colab.research.google.com/github/harsh903/Python/blob/main/Python1.ipynb\" target=\"_parent\"><img src=\"https://colab.research.google.com/assets/colab-badge.svg\" alt=\"Open In Colab\"/></a>"
      ]
    },
    {
      "cell_type": "code",
      "metadata": {
        "id": "B_ziiF7w4WBJ"
      },
      "source": [
        "# list\n",
        "l=[1,2,3,4,'harsh']"
      ],
      "execution_count": 1,
      "outputs": []
    },
    {
      "cell_type": "code",
      "metadata": {
        "colab": {
          "base_uri": "https://localhost:8080/"
        },
        "id": "qXnThbLmdLjc",
        "outputId": "77556e89-44dd-4467-eadd-20e6f02ed8cc"
      },
      "source": [
        "l"
      ],
      "execution_count": 2,
      "outputs": [
        {
          "output_type": "execute_result",
          "data": {
            "text/plain": [
              "[1, 2, 3, 4, 'harsh']"
            ]
          },
          "metadata": {
            "tags": []
          },
          "execution_count": 2
        }
      ]
    },
    {
      "cell_type": "code",
      "metadata": {
        "colab": {
          "base_uri": "https://localhost:8080/"
        },
        "id": "YbkjrSFgcz4l",
        "outputId": "ccffafab-3db3-4b56-b95f-2c61dc36d1d8"
      },
      "source": [
        "len(l)"
      ],
      "execution_count": 3,
      "outputs": [
        {
          "output_type": "execute_result",
          "data": {
            "text/plain": [
              "5"
            ]
          },
          "metadata": {
            "tags": []
          },
          "execution_count": 3
        }
      ]
    },
    {
      "cell_type": "code",
      "metadata": {
        "id": "DqDGF6BLc7fg"
      },
      "source": [
        "#tuples\n",
        "t= (1,2,3,4,'harsh')"
      ],
      "execution_count": null,
      "outputs": []
    },
    {
      "cell_type": "code",
      "metadata": {
        "colab": {
          "base_uri": "https://localhost:8080/"
        },
        "id": "IKh3wnXQdJKN",
        "outputId": "5a34d9e0-2920-4606-96c7-8a8bab48c755"
      },
      "source": [
        "t"
      ],
      "execution_count": null,
      "outputs": [
        {
          "output_type": "execute_result",
          "data": {
            "text/plain": [
              "(1, 2, 3, 4, 'harsh')"
            ]
          },
          "metadata": {
            "tags": []
          },
          "execution_count": 34
        }
      ]
    },
    {
      "cell_type": "code",
      "metadata": {
        "colab": {
          "base_uri": "https://localhost:8080/"
        },
        "id": "BrarlFCAdNMd",
        "outputId": "5e1fec65-c85c-43f5-d0d1-5c932e77ace5"
      },
      "source": [
        "for i in t:\n",
        "  print(t)"
      ],
      "execution_count": null,
      "outputs": [
        {
          "output_type": "stream",
          "text": [
            "(1, 2, 3, 4, 'harsh')\n",
            "(1, 2, 3, 4, 'harsh')\n",
            "(1, 2, 3, 4, 'harsh')\n",
            "(1, 2, 3, 4, 'harsh')\n",
            "(1, 2, 3, 4, 'harsh')\n"
          ],
          "name": "stdout"
        }
      ]
    },
    {
      "cell_type": "code",
      "metadata": {
        "colab": {
          "base_uri": "https://localhost:8080/"
        },
        "id": "x49lrj6NdXAm",
        "outputId": "5cb00207-53bf-4a89-d582-e424506e296c"
      },
      "source": [
        "for i in l:\n",
        "  print(i)"
      ],
      "execution_count": null,
      "outputs": [
        {
          "output_type": "stream",
          "text": [
            "1\n",
            "2\n",
            "3\n",
            "4\n",
            "harsh\n"
          ],
          "name": "stdout"
        }
      ]
    },
    {
      "cell_type": "code",
      "metadata": {
        "colab": {
          "base_uri": "https://localhost:8080/",
          "height": 163
        },
        "id": "UTbnFYZydbGP",
        "outputId": "b976c335-6d56-4d96-e2ad-197b7c133047"
      },
      "source": [
        "t[0] = 'singh'"
      ],
      "execution_count": null,
      "outputs": [
        {
          "output_type": "error",
          "ename": "TypeError",
          "evalue": "ignored",
          "traceback": [
            "\u001b[0;31m---------------------------------------------------------------------------\u001b[0m",
            "\u001b[0;31mTypeError\u001b[0m                                 Traceback (most recent call last)",
            "\u001b[0;32m<ipython-input-38-7162ac63f856>\u001b[0m in \u001b[0;36m<module>\u001b[0;34m()\u001b[0m\n\u001b[0;32m----> 1\u001b[0;31m \u001b[0mt\u001b[0m\u001b[0;34m[\u001b[0m\u001b[0;36m0\u001b[0m\u001b[0;34m]\u001b[0m \u001b[0;34m=\u001b[0m \u001b[0;34m'singh'\u001b[0m\u001b[0;34m\u001b[0m\u001b[0;34m\u001b[0m\u001b[0m\n\u001b[0m",
            "\u001b[0;31mTypeError\u001b[0m: 'tuple' object does not support item assignment"
          ]
        }
      ]
    },
    {
      "cell_type": "code",
      "metadata": {
        "id": "tK_FccX1dvMa"
      },
      "source": [
        "l[0] = \"singh\""
      ],
      "execution_count": null,
      "outputs": []
    },
    {
      "cell_type": "code",
      "metadata": {
        "colab": {
          "base_uri": "https://localhost:8080/"
        },
        "id": "Ti2cevMKd005",
        "outputId": "52831c56-e0df-4f6e-d00e-de326f3772e3"
      },
      "source": [
        "l"
      ],
      "execution_count": null,
      "outputs": [
        {
          "output_type": "execute_result",
          "data": {
            "text/plain": [
              "['singh', 2, 3, 4, 'harsh']"
            ]
          },
          "metadata": {
            "tags": []
          },
          "execution_count": 40
        }
      ]
    },
    {
      "cell_type": "code",
      "metadata": {
        "colab": {
          "base_uri": "https://localhost:8080/"
        },
        "id": "IiJvJxd2d862",
        "outputId": "68b556ab-46ab-42fd-ee46-3492d34fbc08"
      },
      "source": [
        "t.index(1)"
      ],
      "execution_count": null,
      "outputs": [
        {
          "output_type": "execute_result",
          "data": {
            "text/plain": [
              "0"
            ]
          },
          "metadata": {
            "tags": []
          },
          "execution_count": 41
        }
      ]
    },
    {
      "cell_type": "code",
      "metadata": {
        "colab": {
          "base_uri": "https://localhost:8080/"
        },
        "id": "tVPta8Tyeaca",
        "outputId": "bc45a463-6277-42ac-8d2e-d5b64bc9f4b5"
      },
      "source": [
        "t.index(\"harsh\")"
      ],
      "execution_count": null,
      "outputs": [
        {
          "output_type": "execute_result",
          "data": {
            "text/plain": [
              "4"
            ]
          },
          "metadata": {
            "tags": []
          },
          "execution_count": 42
        }
      ]
    },
    {
      "cell_type": "code",
      "metadata": {
        "id": "Bo-MLdtsffhu"
      },
      "source": [
        "t1=(1,2,3,4,5)\n",
        "t2=(6,7,8,9,10)"
      ],
      "execution_count": null,
      "outputs": []
    },
    {
      "cell_type": "code",
      "metadata": {
        "colab": {
          "base_uri": "https://localhost:8080/"
        },
        "id": "gGzO37dYfykE",
        "outputId": "3eb373e8-7cc1-42bd-8ea9-cf10017dd2dd"
      },
      "source": [
        "t1+t2"
      ],
      "execution_count": null,
      "outputs": [
        {
          "output_type": "execute_result",
          "data": {
            "text/plain": [
              "(1, 2, 3, 4, 5, 6, 7, 8, 9, 10)"
            ]
          },
          "metadata": {
            "tags": []
          },
          "execution_count": 44
        }
      ]
    },
    {
      "cell_type": "code",
      "metadata": {
        "id": "kxFCiGnJf3E3"
      },
      "source": [
        "l = list(t1)"
      ],
      "execution_count": null,
      "outputs": []
    },
    {
      "cell_type": "code",
      "metadata": {
        "id": "NcXFfRBDhIjh"
      },
      "source": [
        "l.insert(9,\"gopal\")"
      ],
      "execution_count": null,
      "outputs": []
    },
    {
      "cell_type": "code",
      "metadata": {
        "colab": {
          "base_uri": "https://localhost:8080/"
        },
        "id": "xMJfxfNUj1ES",
        "outputId": "cb577d78-d957-4199-9d18-95390899b59b"
      },
      "source": [
        "l"
      ],
      "execution_count": null,
      "outputs": [
        {
          "output_type": "execute_result",
          "data": {
            "text/plain": [
              "[1, 2, 3, 4, 5, 'gopal']"
            ]
          },
          "metadata": {
            "tags": []
          },
          "execution_count": 47
        }
      ]
    },
    {
      "cell_type": "code",
      "metadata": {
        "id": "DyLQAeC9j1yH"
      },
      "source": [
        "#set\n",
        "s = set([1,1,1,2,3,3,4,4,4,7,7,7,7,5,6])"
      ],
      "execution_count": null,
      "outputs": []
    },
    {
      "cell_type": "code",
      "metadata": {
        "colab": {
          "base_uri": "https://localhost:8080/"
        },
        "id": "Tw3HQT5fk2AW",
        "outputId": "16f46bd6-cb26-480e-ada7-e0d98487c6a2"
      },
      "source": [
        "s"
      ],
      "execution_count": null,
      "outputs": [
        {
          "output_type": "execute_result",
          "data": {
            "text/plain": [
              "{1, 2, 3, 4, 5, 6, 7}"
            ]
          },
          "metadata": {
            "tags": []
          },
          "execution_count": 56
        }
      ]
    },
    {
      "cell_type": "code",
      "metadata": {
        "colab": {
          "base_uri": "https://localhost:8080/"
        },
        "id": "1VbIpnz_yJEL",
        "outputId": "cb371c0b-1a0c-40db-83d6-c0255d25d605"
      },
      "source": [
        "s1 = {1,1,1,2,3,3,4,24,54,67,88,4,4,7,7,7,7,5,6}\n",
        "s1"
      ],
      "execution_count": null,
      "outputs": [
        {
          "output_type": "execute_result",
          "data": {
            "text/plain": [
              "{1, 2, 3, 4, 5, 6, 7, 24, 54, 67, 88}"
            ]
          },
          "metadata": {
            "tags": []
          },
          "execution_count": 59
        }
      ]
    },
    {
      "cell_type": "code",
      "metadata": {
        "colab": {
          "base_uri": "https://localhost:8080/"
        },
        "id": "jqDO9aDIk5m7",
        "outputId": "1bb78288-58b7-4653-b080-4916ee504ef7"
      },
      "source": [
        "for i in s:\n",
        "  print(i)"
      ],
      "execution_count": null,
      "outputs": [
        {
          "output_type": "stream",
          "text": [
            "1\n",
            "2\n",
            "3\n",
            "4\n",
            "7\n"
          ],
          "name": "stdout"
        }
      ]
    },
    {
      "cell_type": "code",
      "metadata": {
        "id": "KIA6Ij9RnQ5Y"
      },
      "source": [
        "list(s)[::-1]"
      ],
      "execution_count": null,
      "outputs": []
    },
    {
      "cell_type": "code",
      "metadata": {
        "colab": {
          "base_uri": "https://localhost:8080/"
        },
        "id": "8B7HnytLpjyZ",
        "outputId": "beee829f-e3e7-4592-f791-7c00addc7b2a"
      },
      "source": [
        " #removes and returns the last value from the List or the given index value\n",
        "s.pop()"
      ],
      "execution_count": null,
      "outputs": [
        {
          "output_type": "execute_result",
          "data": {
            "text/plain": [
              "1"
            ]
          },
          "metadata": {
            "tags": []
          },
          "execution_count": 52
        }
      ]
    },
    {
      "cell_type": "markdown",
      "metadata": {
        "id": "LmYMW_XmzDTJ"
      },
      "source": [
        "Dictionary"
      ]
    },
    {
      "cell_type": "code",
      "metadata": {
        "id": "LLc1R1FXwvNs"
      },
      "source": [
        "d = {\"name\":\"harsh\"} #key=name#value=harsh"
      ],
      "execution_count": null,
      "outputs": []
    },
    {
      "cell_type": "code",
      "metadata": {
        "colab": {
          "base_uri": "https://localhost:8080/"
        },
        "id": "eP9tO1-hy6Ks",
        "outputId": "58494239-a05d-4375-a9df-1f5169b8c389"
      },
      "source": [
        "d"
      ],
      "execution_count": null,
      "outputs": [
        {
          "output_type": "execute_result",
          "data": {
            "text/plain": [
              "{'name': 'harsh'}"
            ]
          },
          "metadata": {
            "tags": []
          },
          "execution_count": 62
        }
      ]
    },
    {
      "cell_type": "code",
      "metadata": {
        "id": "wgINUEU4zdXw"
      },
      "source": [
        "d1 = {\"key\":[1,2,3,4,5],\"key1\":(6,7,8,9),\"key2\":{1,3,5,7,9},\"key3\":{'A':'a','B':'b','C':'c'}}"
      ],
      "execution_count": null,
      "outputs": []
    },
    {
      "cell_type": "code",
      "metadata": {
        "colab": {
          "base_uri": "https://localhost:8080/"
        },
        "id": "p_TBaO-U1oNi",
        "outputId": "acc0c189-75da-414c-e8fb-79a915b7da7f"
      },
      "source": [
        "d1"
      ],
      "execution_count": null,
      "outputs": [
        {
          "output_type": "execute_result",
          "data": {
            "text/plain": [
              "{'key': [1, 2, 3, 4, 5],\n",
              " 'key1': (6, 7, 8, 9),\n",
              " 'key2': {1, 3, 5, 7, 9},\n",
              " 'key3': {'A': 'a', 'B': 'b', 'C': 'c'}}"
            ]
          },
          "metadata": {
            "tags": []
          },
          "execution_count": 69
        }
      ]
    },
    {
      "cell_type": "code",
      "metadata": {
        "colab": {
          "base_uri": "https://localhost:8080/"
        },
        "id": "knbS0yvI1qTE",
        "outputId": "eb765908-11ee-4982-e3e9-f3183ecad8d3"
      },
      "source": [
        "d1['key']"
      ],
      "execution_count": null,
      "outputs": [
        {
          "output_type": "execute_result",
          "data": {
            "text/plain": [
              "[1, 2, 3, 4, 5]"
            ]
          },
          "metadata": {
            "tags": []
          },
          "execution_count": 65
        }
      ]
    },
    {
      "cell_type": "code",
      "metadata": {
        "colab": {
          "base_uri": "https://localhost:8080/",
          "height": 35
        },
        "id": "hCa80VTJ4FUm",
        "outputId": "ea83373d-417b-430c-c739-aea01942cb02"
      },
      "source": [
        "# access data from dict\n",
        "d1['key3']['A']"
      ],
      "execution_count": null,
      "outputs": [
        {
          "output_type": "execute_result",
          "data": {
            "application/vnd.google.colaboratory.intrinsic+json": {
              "type": "string"
            },
            "text/plain": [
              "'a'"
            ]
          },
          "metadata": {
            "tags": []
          },
          "execution_count": 71
        }
      ]
    },
    {
      "cell_type": "code",
      "metadata": {
        "colab": {
          "base_uri": "https://localhost:8080/"
        },
        "id": "kISs9H1p4MhP",
        "outputId": "318e0b9d-d6a9-44a4-e625-d87a02fad25e"
      },
      "source": [
        "for i in d1:\n",
        "  print(i)"
      ],
      "execution_count": null,
      "outputs": [
        {
          "output_type": "stream",
          "text": [
            "key\n",
            "key1\n",
            "key2\n",
            "key3\n"
          ],
          "name": "stdout"
        }
      ]
    },
    {
      "cell_type": "code",
      "metadata": {
        "colab": {
          "base_uri": "https://localhost:8080/"
        },
        "id": "yRFStuNB5MQM",
        "outputId": "0122c21f-12e8-43ab-fdb8-7a3e365b0e05"
      },
      "source": [
        "for i in d1:\n",
        "  print(d1[i])"
      ],
      "execution_count": null,
      "outputs": [
        {
          "output_type": "stream",
          "text": [
            "[1, 2, 3, 4, 5]\n",
            "(6, 7, 8, 9)\n",
            "{1, 3, 5, 7, 9}\n",
            "{'A': 'a', 'B': 'b', 'C': 'c'}\n"
          ],
          "name": "stdout"
        }
      ]
    },
    {
      "cell_type": "code",
      "metadata": {
        "colab": {
          "base_uri": "https://localhost:8080/"
        },
        "id": "zfuR899F5fpV",
        "outputId": "22e71ba8-dc83-4d12-9250-7f1ed97a1a78"
      },
      "source": [
        "#values\n",
        "d1.values()"
      ],
      "execution_count": null,
      "outputs": [
        {
          "output_type": "execute_result",
          "data": {
            "text/plain": [
              "dict_values([[1, 2, 3, 4, 5], (6, 7, 8, 9), {1, 3, 5, 7, 9}, {'A': 'a', 'B': 'b', 'C': 'c'}])"
            ]
          },
          "metadata": {
            "tags": []
          },
          "execution_count": 77
        }
      ]
    },
    {
      "cell_type": "code",
      "metadata": {
        "colab": {
          "base_uri": "https://localhost:8080/"
        },
        "id": "aC3Wtdjy5m0Z",
        "outputId": "75f7f3c2-bac6-483b-ca1e-8c6f0e4403e2"
      },
      "source": [
        "#key\n",
        "d1.keys()"
      ],
      "execution_count": null,
      "outputs": [
        {
          "output_type": "execute_result",
          "data": {
            "text/plain": [
              "dict_keys(['key', 'key1', 'key2', 'key3'])"
            ]
          },
          "metadata": {
            "tags": []
          },
          "execution_count": 79
        }
      ]
    },
    {
      "cell_type": "code",
      "metadata": {
        "id": "kPwLEJ125w_4"
      },
      "source": [
        "#find tuple in dictionary\n",
        "m = []\n",
        "for i in d1.values():\n",
        "  if type(i)==tuple:\n",
        "    for j in i :\n",
        "      m.append(j)"
      ],
      "execution_count": null,
      "outputs": []
    },
    {
      "cell_type": "code",
      "metadata": {
        "colab": {
          "base_uri": "https://localhost:8080/"
        },
        "id": "clKOdA6R6lvI",
        "outputId": "6c4a9833-3058-4c2e-ac80-b44edeafb0a6"
      },
      "source": [
        "m"
      ],
      "execution_count": null,
      "outputs": [
        {
          "output_type": "execute_result",
          "data": {
            "text/plain": [
              "[6, 7, 8, 9]"
            ]
          },
          "metadata": {
            "tags": []
          },
          "execution_count": 83
        }
      ]
    },
    {
      "cell_type": "code",
      "metadata": {
        "id": "-LhKFB_26nKm"
      },
      "source": [
        "#How to generate 10 cube number\n",
        "d2 = {}\n",
        "for i in range(10):\n",
        "  d2[i] = i**3"
      ],
      "execution_count": 9,
      "outputs": []
    },
    {
      "cell_type": "code",
      "metadata": {
        "colab": {
          "base_uri": "https://localhost:8080/"
        },
        "id": "1bCkgwYRKxz9",
        "outputId": "15d4353d-c339-4e01-ede1-32724447976e"
      },
      "source": [
        "d2"
      ],
      "execution_count": 10,
      "outputs": [
        {
          "output_type": "execute_result",
          "data": {
            "text/plain": [
              "{0: 0, 1: 1, 2: 8, 3: 27, 4: 64, 5: 125, 6: 216, 7: 343, 8: 512, 9: 729}"
            ]
          },
          "metadata": {
            "tags": []
          },
          "execution_count": 10
        }
      ]
    },
    {
      "cell_type": "code",
      "metadata": {
        "id": "K1rEsid3K2E-"
      },
      "source": [
        "l = ['harsh','singh','HARSH']\n",
        "d3 = {}\n",
        "for i in l:\n",
        "  d3[i]=i.isupper()"
      ],
      "execution_count": 16,
      "outputs": []
    },
    {
      "cell_type": "code",
      "metadata": {
        "colab": {
          "base_uri": "https://localhost:8080/"
        },
        "id": "-NEr81ZKLtfy",
        "outputId": "799aab95-2bfc-4a3c-8539-221ea7f997f6"
      },
      "source": [
        "d3"
      ],
      "execution_count": 17,
      "outputs": [
        {
          "output_type": "execute_result",
          "data": {
            "text/plain": [
              "{'HARSH': True, 'harsh': False, 'singh': False}"
            ]
          },
          "metadata": {
            "tags": []
          },
          "execution_count": 17
        }
      ]
    },
    {
      "cell_type": "code",
      "metadata": {
        "colab": {
          "base_uri": "https://localhost:8080/"
        },
        "id": "e_YYJMfWLwig",
        "outputId": "e876550e-ab9f-46e1-cc97-0e8c324ed609"
      },
      "source": [
        "#reduce line for  generate 10 cube number\n",
        "{i:i**3 for i in range(10)}"
      ],
      "execution_count": 18,
      "outputs": [
        {
          "output_type": "execute_result",
          "data": {
            "text/plain": [
              "{0: 0, 1: 1, 2: 8, 3: 27, 4: 64, 5: 125, 6: 216, 7: 343, 8: 512, 9: 729}"
            ]
          },
          "metadata": {
            "tags": []
          },
          "execution_count": 18
        }
      ]
    },
    {
      "cell_type": "code",
      "metadata": {
        "colab": {
          "base_uri": "https://localhost:8080/"
        },
        "id": "el1C-raMMmvh",
        "outputId": "26d32f4c-3588-4c97-c6e5-220dcf2b2c68"
      },
      "source": [
        "d3.items()"
      ],
      "execution_count": 19,
      "outputs": [
        {
          "output_type": "execute_result",
          "data": {
            "text/plain": [
              "dict_items([('harsh', False), ('singh', False), ('HARSH', True)])"
            ]
          },
          "metadata": {
            "tags": []
          },
          "execution_count": 19
        }
      ]
    },
    {
      "cell_type": "code",
      "metadata": {
        "id": "wrfaaPRFORhI"
      },
      "source": [
        "#def=defination\n",
        "def "
      ],
      "execution_count": null,
      "outputs": []
    },
    {
      "cell_type": "code",
      "metadata": {
        "id": "-9h9PTOpiTB5"
      },
      "source": [
        "#pass function\n",
        "for i in range(8):\n",
        "  pass"
      ],
      "execution_count": 1,
      "outputs": []
    },
    {
      "cell_type": "code",
      "metadata": {
        "id": "jcSW8mKyidwO"
      },
      "source": [
        "def test():\n",
        "  a=9\n",
        "  b=8\n",
        "  print(a*b)"
      ],
      "execution_count": 4,
      "outputs": []
    },
    {
      "cell_type": "code",
      "metadata": {
        "colab": {
          "base_uri": "https://localhost:8080/"
        },
        "id": "-DBLfwwYjMwc",
        "outputId": "b8d4cb8b-d304-4241-8f87-6d2329eef5bd"
      },
      "source": [
        "test()"
      ],
      "execution_count": 5,
      "outputs": [
        {
          "output_type": "stream",
          "text": [
            "72\n"
          ],
          "name": "stdout"
        }
      ]
    },
    {
      "cell_type": "code",
      "metadata": {
        "colab": {
          "base_uri": "https://localhost:8080/"
        },
        "id": "HmGrSJeKjPIa",
        "outputId": "a5627258-3c9e-4000-b10e-37ce760e0bcc"
      },
      "source": [
        "type(test())"
      ],
      "execution_count": 6,
      "outputs": [
        {
          "output_type": "stream",
          "text": [
            "72\n"
          ],
          "name": "stdout"
        },
        {
          "output_type": "execute_result",
          "data": {
            "text/plain": [
              "NoneType"
            ]
          },
          "metadata": {
            "tags": []
          },
          "execution_count": 6
        }
      ]
    },
    {
      "cell_type": "code",
      "metadata": {
        "id": "rcvAQniPjZw6"
      },
      "source": [
        "def test():\n",
        "  a=9\n",
        "  b=83\n",
        "  return a*b"
      ],
      "execution_count": 9,
      "outputs": []
    },
    {
      "cell_type": "code",
      "metadata": {
        "colab": {
          "base_uri": "https://localhost:8080/"
        },
        "id": "XgCmXLWxmrsZ",
        "outputId": "70d30458-9c78-4759-a263-7619b0150886"
      },
      "source": [
        "test()"
      ],
      "execution_count": 10,
      "outputs": [
        {
          "output_type": "execute_result",
          "data": {
            "text/plain": [
              "747"
            ]
          },
          "metadata": {
            "tags": []
          },
          "execution_count": 10
        }
      ]
    },
    {
      "cell_type": "code",
      "metadata": {
        "colab": {
          "base_uri": "https://localhost:8080/"
        },
        "id": "_lr4U_qUmweA",
        "outputId": "6eaa5f56-9380-48bb-ca69-9b62ec33ceb2"
      },
      "source": [
        "test()+2"
      ],
      "execution_count": 11,
      "outputs": [
        {
          "output_type": "execute_result",
          "data": {
            "text/plain": [
              "749"
            ]
          },
          "metadata": {
            "tags": []
          },
          "execution_count": 11
        }
      ]
    },
    {
      "cell_type": "code",
      "metadata": {
        "id": "YCpni6wLm5HG"
      },
      "source": [
        "def test(a,b):\n",
        "  return a+b"
      ],
      "execution_count": 12,
      "outputs": []
    },
    {
      "cell_type": "code",
      "metadata": {
        "colab": {
          "base_uri": "https://localhost:8080/"
        },
        "id": "RngxpS6knar9",
        "outputId": "fb46dd76-9a99-4115-9a07-3690172fcc23"
      },
      "source": [
        "test(12,5)"
      ],
      "execution_count": 13,
      "outputs": [
        {
          "output_type": "execute_result",
          "data": {
            "text/plain": [
              "17"
            ]
          },
          "metadata": {
            "tags": []
          },
          "execution_count": 13
        }
      ]
    },
    {
      "cell_type": "code",
      "metadata": {
        "colab": {
          "base_uri": "https://localhost:8080/",
          "height": 35
        },
        "id": "Gec3zm5Nndv3",
        "outputId": "f3328015-653f-4d1e-e725-a926b06ba4e6"
      },
      "source": [
        "test('harsh',' singh')"
      ],
      "execution_count": 15,
      "outputs": [
        {
          "output_type": "execute_result",
          "data": {
            "application/vnd.google.colaboratory.intrinsic+json": {
              "type": "string"
            },
            "text/plain": [
              "'harsh singh'"
            ]
          },
          "metadata": {
            "tags": []
          },
          "execution_count": 15
        }
      ]
    },
    {
      "cell_type": "code",
      "metadata": {
        "id": "HWCv_ZAJogCa"
      },
      "source": [
        "def test(a,b):\n",
        "  return a+b, a*b, a*a, b*b"
      ],
      "execution_count": 16,
      "outputs": []
    },
    {
      "cell_type": "code",
      "metadata": {
        "colab": {
          "base_uri": "https://localhost:8080/"
        },
        "id": "4xKxqIDwo4c5",
        "outputId": "e95eb55a-5800-4669-8d61-b367ff6f7538"
      },
      "source": [
        "test(12,13)"
      ],
      "execution_count": 17,
      "outputs": [
        {
          "output_type": "execute_result",
          "data": {
            "text/plain": [
              "(25, 156, 144, 169)"
            ]
          },
          "metadata": {
            "tags": []
          },
          "execution_count": 17
        }
      ]
    },
    {
      "cell_type": "code",
      "metadata": {
        "id": "o6TY3Vbyo7fq"
      },
      "source": [
        "def test(a,b=3):\n",
        "  return a+b, a*b, a*a, b*b"
      ],
      "execution_count": 20,
      "outputs": []
    },
    {
      "cell_type": "code",
      "metadata": {
        "colab": {
          "base_uri": "https://localhost:8080/"
        },
        "id": "NMHeuHUHph_K",
        "outputId": "22a9598e-548a-4d96-d91b-28058e5eef52"
      },
      "source": [
        "test(5)"
      ],
      "execution_count": 21,
      "outputs": [
        {
          "output_type": "execute_result",
          "data": {
            "text/plain": [
              "(8, 15, 25, 9)"
            ]
          },
          "metadata": {
            "tags": []
          },
          "execution_count": 21
        }
      ]
    }
  ]
}